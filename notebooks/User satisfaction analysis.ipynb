{
 "cells": [
  {
   "cell_type": "code",
   "execution_count": 1,
   "metadata": {},
   "outputs": [],
   "source": [
    "import pickle\n",
    "import numpy as np\n",
    "import pandas as pd\n",
    "import math\n",
    "from sklearn import metrics\n",
    "from sklearn.cluster import KMeans\n",
    "from sklearn.preprocessing import StandardScaler, normalize\n",
    "from sklearn.linear_model import LinearRegression\n",
    "from sklearn.model_selection import train_test_split\n",
    "from sqlalchemy import create_engine\n",
    "import matplotlib.pyplot as plt\n",
    "import seaborn as sns\n",
    "import plotly.express as px\n",
    "import plotly.graph_objects as go\n",
    "from plotly.subplots import make_subplots"
   ]
  },
  {
   "cell_type": "code",
   "execution_count": 2,
   "metadata": {},
   "outputs": [],
   "source": [
    "sys.path.append(os.path.abspath(os.path.join('../scripts')))\n",
    "from df_selector import *\n",
    "from outliener import Outlier\n",
    "from visualization import *"
   ]
  },
  {
   "cell_type": "code",
   "execution_count": 3,
   "metadata": {},
   "outputs": [
    {
     "data": {
      "text/html": [
       "<div>\n",
       "<style scoped>\n",
       "    .dataframe tbody tr th:only-of-type {\n",
       "        vertical-align: middle;\n",
       "    }\n",
       "\n",
       "    .dataframe tbody tr th {\n",
       "        vertical-align: top;\n",
       "    }\n",
       "\n",
       "    .dataframe thead th {\n",
       "        text-align: right;\n",
       "    }\n",
       "</style>\n",
       "<table border=\"1\" class=\"dataframe\">\n",
       "  <thead>\n",
       "    <tr style=\"text-align: right;\">\n",
       "      <th></th>\n",
       "      <th>MSISDN/Number</th>\n",
       "      <th>cluster</th>\n",
       "      <th>xDR Sessions</th>\n",
       "      <th>Dur. (ms)</th>\n",
       "      <th>Total Data Volume (Bytes)</th>\n",
       "    </tr>\n",
       "  </thead>\n",
       "  <tbody>\n",
       "    <tr>\n",
       "      <th>0</th>\n",
       "      <td>3.362632e+10</td>\n",
       "      <td>0</td>\n",
       "      <td>18.0</td>\n",
       "      <td>8791927.0</td>\n",
       "      <td>7.971167e+09</td>\n",
       "    </tr>\n",
       "    <tr>\n",
       "      <th>1</th>\n",
       "      <td>3.361489e+10</td>\n",
       "      <td>0</td>\n",
       "      <td>17.0</td>\n",
       "      <td>9966898.0</td>\n",
       "      <td>8.846226e+09</td>\n",
       "    </tr>\n",
       "    <tr>\n",
       "      <th>2</th>\n",
       "      <td>3.362578e+10</td>\n",
       "      <td>0</td>\n",
       "      <td>17.0</td>\n",
       "      <td>15466706.5</td>\n",
       "      <td>8.499621e+09</td>\n",
       "    </tr>\n",
       "    <tr>\n",
       "      <th>3</th>\n",
       "      <td>3.365973e+10</td>\n",
       "      <td>2</td>\n",
       "      <td>16.0</td>\n",
       "      <td>4035428.0</td>\n",
       "      <td>7.705863e+09</td>\n",
       "    </tr>\n",
       "    <tr>\n",
       "      <th>4</th>\n",
       "      <td>3.367588e+10</td>\n",
       "      <td>2</td>\n",
       "      <td>15.0</td>\n",
       "      <td>4865947.0</td>\n",
       "      <td>7.891111e+09</td>\n",
       "    </tr>\n",
       "  </tbody>\n",
       "</table>\n",
       "</div>"
      ],
      "text/plain": [
       "   MSISDN/Number  cluster  xDR Sessions   Dur. (ms)  Total Data Volume (Bytes)\n",
       "0   3.362632e+10        0          18.0   8791927.0               7.971167e+09\n",
       "1   3.361489e+10        0          17.0   9966898.0               8.846226e+09\n",
       "2   3.362578e+10        0          17.0  15466706.5               8.499621e+09\n",
       "3   3.365973e+10        2          16.0   4035428.0               7.705863e+09\n",
       "4   3.367588e+10        2          15.0   4865947.0               7.891111e+09"
      ]
     },
     "execution_count": 3,
     "metadata": {},
     "output_type": "execute_result"
    }
   ],
   "source": [
    "user_engagement_df = pd.read_csv(\"../data/user_engagement_data.csv\")\n",
    "user_engagement_df.head()"
   ]
  },
  {
   "cell_type": "markdown",
   "metadata": {},
   "source": [
    "### Engagement Score"
   ]
  },
  {
   "cell_type": "code",
   "execution_count": 6,
   "metadata": {},
   "outputs": [],
   "source": [
    "eng_df = user_engagement_df.set_index('MSISDN/Number')[\n",
    "    ['xDR Sessions', 'Dur. (ms)', 'Total Data Volume (Bytes)']]"
   ]
  },
  {
   "cell_type": "code",
   "execution_count": 7,
   "metadata": {},
   "outputs": [
    {
     "data": {
      "text/plain": [
       "array([[ 1.50467048,  0.32030713,  0.59916799],\n",
       "       [ 1.04870973,  0.67640567,  1.21996351],\n",
       "       [ 1.04870973,  2.34323301,  0.97407009],\n",
       "       [ 0.59274898, -1.12124534,  0.41095235],\n",
       "       [ 0.13678823, -0.86953989,  0.54237319],\n",
       "       [ 0.13678823,  0.46805591,  0.98482029],\n",
       "       [-0.77513328,  0.3060589 , -1.06996596],\n",
       "       [-1.23109403, -0.43863063, -1.52556286],\n",
       "       [-1.23109403, -0.7658769 , -1.16257441],\n",
       "       [-1.23109403, -0.91876787, -0.97324419]])"
      ]
     },
     "execution_count": 7,
     "metadata": {},
     "output_type": "execute_result"
    }
   ],
   "source": [
    "# scale data\n",
    "scaler = StandardScaler()\n",
    "scaled_data = scaler.fit_transform(eng_df)\n",
    "scaled_data"
   ]
  },
  {
   "cell_type": "code",
   "execution_count": 8,
   "metadata": {},
   "outputs": [
    {
     "data": {
      "text/plain": [
       "array([[ 0.91139738,  0.19401396,  0.3629234 ],\n",
       "       [ 0.60092032,  0.38758667,  0.69905031],\n",
       "       [ 0.38193413,  0.85339217,  0.3547508 ],\n",
       "       [ 0.44460594, -0.84101762,  0.30824491],\n",
       "       [ 0.13230129, -0.84101716,  0.52458222],\n",
       "       [ 0.12447343,  0.4259177 ,  0.89615873],\n",
       "       [-0.57153978,  0.22567066, -0.78893285],\n",
       "       [-0.61284638, -0.21835309, -0.75943482],\n",
       "       [-0.66243986, -0.41211099, -0.62557011],\n",
       "       [-0.67698438, -0.50523476, -0.53519154]])"
      ]
     },
     "execution_count": 8,
     "metadata": {},
     "output_type": "execute_result"
    }
   ],
   "source": [
    "normalized_data = normalize(scaled_data)\n",
    "normalized_data"
   ]
  },
  {
   "cell_type": "code",
   "execution_count": 14,
   "metadata": {},
   "outputs": [],
   "source": [
    "with open(\"../models/user_engagement.pkl\", \"rb\") as f:\n",
    "    kmeans1 = pickle.load(f)"
   ]
  },
  {
   "cell_type": "code",
   "execution_count": 15,
   "metadata": {},
   "outputs": [],
   "source": [
    "less_engaged_cluster = 3"
   ]
  },
  {
   "cell_type": "code",
   "execution_count": 16,
   "metadata": {},
   "outputs": [
    {
     "ename": "IndexError",
     "evalue": "index 3 is out of bounds for axis 0 with size 3",
     "output_type": "error",
     "traceback": [
      "\u001b[1;31m---------------------------------------------------------------------------\u001b[0m",
      "\u001b[1;31mIndexError\u001b[0m                                Traceback (most recent call last)",
      "\u001b[1;32mc:\\Users\\samrit\\Documents\\10Academy\\week1\\Telecom\\Telecommunication-Data-Analysis\\notebooks\\User satisfaction analysis.ipynb Cell 10'\u001b[0m in \u001b[0;36m<cell line: 2>\u001b[1;34m()\u001b[0m\n\u001b[0;32m      <a href='vscode-notebook-cell:/c%3A/Users/samrit/Documents/10Academy/week1/Telecom/Telecommunication-Data-Analysis/notebooks/User%20satisfaction%20analysis.ipynb#ch0000009?line=0'>1</a>\u001b[0m distance \u001b[39m=\u001b[39m kmeans1\u001b[39m.\u001b[39mfit_transform(normalized_data)\n\u001b[1;32m----> <a href='vscode-notebook-cell:/c%3A/Users/samrit/Documents/10Academy/week1/Telecom/Telecommunication-Data-Analysis/notebooks/User%20satisfaction%20analysis.ipynb#ch0000009?line=1'>2</a>\u001b[0m distance_from_less_engaged_cluster \u001b[39m=\u001b[39m \u001b[39mlist\u001b[39;49m(\n\u001b[0;32m      <a href='vscode-notebook-cell:/c%3A/Users/samrit/Documents/10Academy/week1/Telecom/Telecommunication-Data-Analysis/notebooks/User%20satisfaction%20analysis.ipynb#ch0000009?line=2'>3</a>\u001b[0m     \u001b[39mmap\u001b[39;49m(\u001b[39mlambda\u001b[39;49;00m x: x[less_engaged_cluster], distance))\n\u001b[0;32m      <a href='vscode-notebook-cell:/c%3A/Users/samrit/Documents/10Academy/week1/Telecom/Telecommunication-Data-Analysis/notebooks/User%20satisfaction%20analysis.ipynb#ch0000009?line=3'>4</a>\u001b[0m user_engagement_df[\u001b[39m'\u001b[39m\u001b[39mengagement_score\u001b[39m\u001b[39m'\u001b[39m] \u001b[39m=\u001b[39m distance_from_less_engaged_cluster\n\u001b[0;32m      <a href='vscode-notebook-cell:/c%3A/Users/samrit/Documents/10Academy/week1/Telecom/Telecommunication-Data-Analysis/notebooks/User%20satisfaction%20analysis.ipynb#ch0000009?line=4'>5</a>\u001b[0m user_engagement_df\u001b[39m.\u001b[39mhead()\n",
      "\u001b[1;32mc:\\Users\\samrit\\Documents\\10Academy\\week1\\Telecom\\Telecommunication-Data-Analysis\\notebooks\\User satisfaction analysis.ipynb Cell 10'\u001b[0m in \u001b[0;36m<lambda>\u001b[1;34m(x)\u001b[0m\n\u001b[0;32m      <a href='vscode-notebook-cell:/c%3A/Users/samrit/Documents/10Academy/week1/Telecom/Telecommunication-Data-Analysis/notebooks/User%20satisfaction%20analysis.ipynb#ch0000009?line=0'>1</a>\u001b[0m distance \u001b[39m=\u001b[39m kmeans1\u001b[39m.\u001b[39mfit_transform(normalized_data)\n\u001b[0;32m      <a href='vscode-notebook-cell:/c%3A/Users/samrit/Documents/10Academy/week1/Telecom/Telecommunication-Data-Analysis/notebooks/User%20satisfaction%20analysis.ipynb#ch0000009?line=1'>2</a>\u001b[0m distance_from_less_engaged_cluster \u001b[39m=\u001b[39m \u001b[39mlist\u001b[39m(\n\u001b[1;32m----> <a href='vscode-notebook-cell:/c%3A/Users/samrit/Documents/10Academy/week1/Telecom/Telecommunication-Data-Analysis/notebooks/User%20satisfaction%20analysis.ipynb#ch0000009?line=2'>3</a>\u001b[0m     \u001b[39mmap\u001b[39m(\u001b[39mlambda\u001b[39;00m x: x[less_engaged_cluster], distance))\n\u001b[0;32m      <a href='vscode-notebook-cell:/c%3A/Users/samrit/Documents/10Academy/week1/Telecom/Telecommunication-Data-Analysis/notebooks/User%20satisfaction%20analysis.ipynb#ch0000009?line=3'>4</a>\u001b[0m user_engagement_df[\u001b[39m'\u001b[39m\u001b[39mengagement_score\u001b[39m\u001b[39m'\u001b[39m] \u001b[39m=\u001b[39m distance_from_less_engaged_cluster\n\u001b[0;32m      <a href='vscode-notebook-cell:/c%3A/Users/samrit/Documents/10Academy/week1/Telecom/Telecommunication-Data-Analysis/notebooks/User%20satisfaction%20analysis.ipynb#ch0000009?line=4'>5</a>\u001b[0m user_engagement_df\u001b[39m.\u001b[39mhead()\n",
      "\u001b[1;31mIndexError\u001b[0m: index 3 is out of bounds for axis 0 with size 3"
     ]
    }
   ],
   "source": [
    "distance = kmeans1.fit_transform(normalized_data)\n",
    "distance_from_less_engaged_cluster = list(\n",
    "    map(lambda x: x[less_engaged_cluster], distance))\n",
    "user_engagement_df['engagement_score'] = distance_from_less_engaged_cluster\n",
    "user_engagement_df.head()"
   ]
  },
  {
   "cell_type": "markdown",
   "metadata": {},
   "source": [
    "#### Experience Score"
   ]
  },
  {
   "cell_type": "code",
   "execution_count": 17,
   "metadata": {},
   "outputs": [],
   "source": [
    "exp_df = user_experience_df.set_index('MSISDN/Number')[\n",
    "    ['Total Avg RTT (ms)', 'Total Avg Bearer TP (kbps)', 'Total TCP Retrans. Vol (Bytes)']]"
   ]
  },
  {
   "cell_type": "code",
   "execution_count": 18,
   "metadata": {},
   "outputs": [
    {
     "data": {
      "text/plain": [
       "array([[-0.17015638, -0.49427243, -0.10860156],\n",
       "       [-0.19190879, -0.49373249, -0.07950754],\n",
       "       [-0.15130428, -0.49377944, -0.10287579],\n",
       "       ...,\n",
       "       [-0.16145541, -0.25273304, -0.12081633],\n",
       "       [-0.17885734, -0.49333341, -0.12067974],\n",
       "       [-0.14985412, -0.49528188, -0.12126092]])"
      ]
     },
     "execution_count": 18,
     "metadata": {},
     "output_type": "execute_result"
    }
   ],
   "source": [
    "# scale data\n",
    "scaler = StandardScaler()\n",
    "scaled_data = scaler.fit_transform(exp_df)\n",
    "scaled_data"
   ]
  },
  {
   "cell_type": "code",
   "execution_count": 19,
   "metadata": {},
   "outputs": [
    {
     "data": {
      "text/plain": [
       "array([[-0.31870262, -0.92577146, -0.20341054],\n",
       "       [-0.35827194, -0.92174253, -0.14843155],\n",
       "       [-0.28732972, -0.93769659, -0.19536309],\n",
       "       ...,\n",
       "       [-0.49936101, -0.78167108, -0.3736695 ],\n",
       "       [-0.33216904, -0.91620551, -0.22412316],\n",
       "       [-0.28195947, -0.93190237, -0.22815965]])"
      ]
     },
     "execution_count": 19,
     "metadata": {},
     "output_type": "execute_result"
    }
   ],
   "source": [
    "normalized_data = normalize(scaled_data)\n",
    "normalized_data"
   ]
  },
  {
   "cell_type": "code",
   "execution_count": 20,
   "metadata": {},
   "outputs": [],
   "source": [
    "with open(\"../models/user_experience.pkl\", \"rb\") as f:\n",
    "    kmeans2 = pickle.load(f)"
   ]
  },
  {
   "cell_type": "code",
   "execution_count": 21,
   "metadata": {},
   "outputs": [],
   "source": [
    "\n",
    "worst_experience_cluster = 1"
   ]
  },
  {
   "cell_type": "code",
   "execution_count": 22,
   "metadata": {},
   "outputs": [
    {
     "data": {
      "text/html": [
       "<div>\n",
       "<style scoped>\n",
       "    .dataframe tbody tr th:only-of-type {\n",
       "        vertical-align: middle;\n",
       "    }\n",
       "\n",
       "    .dataframe tbody tr th {\n",
       "        vertical-align: top;\n",
       "    }\n",
       "\n",
       "    .dataframe thead th {\n",
       "        text-align: right;\n",
       "    }\n",
       "</style>\n",
       "<table border=\"1\" class=\"dataframe\">\n",
       "  <thead>\n",
       "    <tr style=\"text-align: right;\">\n",
       "      <th></th>\n",
       "      <th>MSISDN/Number</th>\n",
       "      <th>cluster</th>\n",
       "      <th>Total Avg RTT (ms)</th>\n",
       "      <th>Total Avg Bearer TP (kbps)</th>\n",
       "      <th>Total TCP Retrans. Vol (Bytes)</th>\n",
       "      <th>experience_score</th>\n",
       "    </tr>\n",
       "  </thead>\n",
       "  <tbody>\n",
       "    <tr>\n",
       "      <th>0</th>\n",
       "      <td>3.360100e+10</td>\n",
       "      <td>1</td>\n",
       "      <td>46.0</td>\n",
       "      <td>76.0</td>\n",
       "      <td>2895381.0</td>\n",
       "      <td>0.046970</td>\n",
       "    </tr>\n",
       "    <tr>\n",
       "      <th>1</th>\n",
       "      <td>3.360100e+10</td>\n",
       "      <td>1</td>\n",
       "      <td>31.0</td>\n",
       "      <td>99.0</td>\n",
       "      <td>9272453.0</td>\n",
       "      <td>0.100926</td>\n",
       "    </tr>\n",
       "    <tr>\n",
       "      <th>2</th>\n",
       "      <td>3.360100e+10</td>\n",
       "      <td>1</td>\n",
       "      <td>59.0</td>\n",
       "      <td>97.0</td>\n",
       "      <td>4150403.0</td>\n",
       "      <td>0.053453</td>\n",
       "    </tr>\n",
       "    <tr>\n",
       "      <th>3</th>\n",
       "      <td>3.360101e+10</td>\n",
       "      <td>1</td>\n",
       "      <td>84.0</td>\n",
       "      <td>248.0</td>\n",
       "      <td>2396.0</td>\n",
       "      <td>0.092104</td>\n",
       "    </tr>\n",
       "    <tr>\n",
       "      <th>4</th>\n",
       "      <td>3.360101e+10</td>\n",
       "      <td>2</td>\n",
       "      <td>119.0</td>\n",
       "      <td>56844.0</td>\n",
       "      <td>9738882.0</td>\n",
       "      <td>1.899030</td>\n",
       "    </tr>\n",
       "  </tbody>\n",
       "</table>\n",
       "</div>"
      ],
      "text/plain": [
       "   MSISDN/Number  cluster  Total Avg RTT (ms)  Total Avg Bearer TP (kbps)  \\\n",
       "0   3.360100e+10        1                46.0                        76.0   \n",
       "1   3.360100e+10        1                31.0                        99.0   \n",
       "2   3.360100e+10        1                59.0                        97.0   \n",
       "3   3.360101e+10        1                84.0                       248.0   \n",
       "4   3.360101e+10        2               119.0                     56844.0   \n",
       "\n",
       "   Total TCP Retrans. Vol (Bytes)  experience_score  \n",
       "0                       2895381.0          0.046970  \n",
       "1                       9272453.0          0.100926  \n",
       "2                       4150403.0          0.053453  \n",
       "3                          2396.0          0.092104  \n",
       "4                       9738882.0          1.899030  "
      ]
     },
     "execution_count": 22,
     "metadata": {},
     "output_type": "execute_result"
    }
   ],
   "source": [
    "distance = kmeans2.fit_transform(normalized_data)\n",
    "distance_from_worst_experience_cluster = list(\n",
    "    map(lambda x: x[worst_experience_cluster], distance))\n",
    "user_experience_df['experience_score'] = distance_from_worst_experience_cluster\n",
    "user_experience_df.head()"
   ]
  },
  {
   "cell_type": "markdown",
   "metadata": {},
   "source": [
    "### Satisfaction Score"
   ]
  },
  {
   "cell_type": "code",
   "execution_count": 23,
   "metadata": {},
   "outputs": [
    {
     "data": {
      "text/html": [
       "<div>\n",
       "<style scoped>\n",
       "    .dataframe tbody tr th:only-of-type {\n",
       "        vertical-align: middle;\n",
       "    }\n",
       "\n",
       "    .dataframe tbody tr th {\n",
       "        vertical-align: top;\n",
       "    }\n",
       "\n",
       "    .dataframe thead th {\n",
       "        text-align: right;\n",
       "    }\n",
       "</style>\n",
       "<table border=\"1\" class=\"dataframe\">\n",
       "  <thead>\n",
       "    <tr style=\"text-align: right;\">\n",
       "      <th></th>\n",
       "      <th>MSISDN/Number</th>\n",
       "      <th>engagement_cluster</th>\n",
       "      <th>xDR Sessions</th>\n",
       "      <th>Dur. (ms)</th>\n",
       "      <th>Total Data Volume (Bytes)</th>\n",
       "    </tr>\n",
       "  </thead>\n",
       "  <tbody>\n",
       "    <tr>\n",
       "      <th>0</th>\n",
       "      <td>3.362632e+10</td>\n",
       "      <td>0</td>\n",
       "      <td>18.0</td>\n",
       "      <td>8791927.0</td>\n",
       "      <td>7.971167e+09</td>\n",
       "    </tr>\n",
       "    <tr>\n",
       "      <th>1</th>\n",
       "      <td>3.361489e+10</td>\n",
       "      <td>0</td>\n",
       "      <td>17.0</td>\n",
       "      <td>9966898.0</td>\n",
       "      <td>8.846226e+09</td>\n",
       "    </tr>\n",
       "    <tr>\n",
       "      <th>2</th>\n",
       "      <td>3.362578e+10</td>\n",
       "      <td>0</td>\n",
       "      <td>17.0</td>\n",
       "      <td>15466706.5</td>\n",
       "      <td>8.499621e+09</td>\n",
       "    </tr>\n",
       "    <tr>\n",
       "      <th>3</th>\n",
       "      <td>3.365973e+10</td>\n",
       "      <td>2</td>\n",
       "      <td>16.0</td>\n",
       "      <td>4035428.0</td>\n",
       "      <td>7.705863e+09</td>\n",
       "    </tr>\n",
       "    <tr>\n",
       "      <th>4</th>\n",
       "      <td>3.367588e+10</td>\n",
       "      <td>2</td>\n",
       "      <td>15.0</td>\n",
       "      <td>4865947.0</td>\n",
       "      <td>7.891111e+09</td>\n",
       "    </tr>\n",
       "  </tbody>\n",
       "</table>\n",
       "</div>"
      ],
      "text/plain": [
       "   MSISDN/Number  engagement_cluster  xDR Sessions   Dur. (ms)  \\\n",
       "0   3.362632e+10                   0          18.0   8791927.0   \n",
       "1   3.361489e+10                   0          17.0   9966898.0   \n",
       "2   3.362578e+10                   0          17.0  15466706.5   \n",
       "3   3.365973e+10                   2          16.0   4035428.0   \n",
       "4   3.367588e+10                   2          15.0   4865947.0   \n",
       "\n",
       "   Total Data Volume (Bytes)  \n",
       "0               7.971167e+09  \n",
       "1               8.846226e+09  \n",
       "2               8.499621e+09  \n",
       "3               7.705863e+09  \n",
       "4               7.891111e+09  "
      ]
     },
     "execution_count": 23,
     "metadata": {},
     "output_type": "execute_result"
    }
   ],
   "source": [
    "user_engagement_df.rename(columns={'cluster': 'engagement_cluster'}, inplace=True)\n",
    "user_engagement_df.head()"
   ]
  },
  {
   "cell_type": "code",
   "execution_count": 24,
   "metadata": {},
   "outputs": [
    {
     "data": {
      "text/html": [
       "<div>\n",
       "<style scoped>\n",
       "    .dataframe tbody tr th:only-of-type {\n",
       "        vertical-align: middle;\n",
       "    }\n",
       "\n",
       "    .dataframe tbody tr th {\n",
       "        vertical-align: top;\n",
       "    }\n",
       "\n",
       "    .dataframe thead th {\n",
       "        text-align: right;\n",
       "    }\n",
       "</style>\n",
       "<table border=\"1\" class=\"dataframe\">\n",
       "  <thead>\n",
       "    <tr style=\"text-align: right;\">\n",
       "      <th></th>\n",
       "      <th>MSISDN/Number</th>\n",
       "      <th>experience_cluster</th>\n",
       "      <th>Total Avg RTT (ms)</th>\n",
       "      <th>Total Avg Bearer TP (kbps)</th>\n",
       "      <th>Total TCP Retrans. Vol (Bytes)</th>\n",
       "      <th>experience_score</th>\n",
       "    </tr>\n",
       "  </thead>\n",
       "  <tbody>\n",
       "    <tr>\n",
       "      <th>0</th>\n",
       "      <td>3.360100e+10</td>\n",
       "      <td>1</td>\n",
       "      <td>46.0</td>\n",
       "      <td>76.0</td>\n",
       "      <td>2895381.0</td>\n",
       "      <td>0.046970</td>\n",
       "    </tr>\n",
       "    <tr>\n",
       "      <th>1</th>\n",
       "      <td>3.360100e+10</td>\n",
       "      <td>1</td>\n",
       "      <td>31.0</td>\n",
       "      <td>99.0</td>\n",
       "      <td>9272453.0</td>\n",
       "      <td>0.100926</td>\n",
       "    </tr>\n",
       "    <tr>\n",
       "      <th>2</th>\n",
       "      <td>3.360100e+10</td>\n",
       "      <td>1</td>\n",
       "      <td>59.0</td>\n",
       "      <td>97.0</td>\n",
       "      <td>4150403.0</td>\n",
       "      <td>0.053453</td>\n",
       "    </tr>\n",
       "    <tr>\n",
       "      <th>3</th>\n",
       "      <td>3.360101e+10</td>\n",
       "      <td>1</td>\n",
       "      <td>84.0</td>\n",
       "      <td>248.0</td>\n",
       "      <td>2396.0</td>\n",
       "      <td>0.092104</td>\n",
       "    </tr>\n",
       "    <tr>\n",
       "      <th>4</th>\n",
       "      <td>3.360101e+10</td>\n",
       "      <td>2</td>\n",
       "      <td>119.0</td>\n",
       "      <td>56844.0</td>\n",
       "      <td>9738882.0</td>\n",
       "      <td>1.899030</td>\n",
       "    </tr>\n",
       "  </tbody>\n",
       "</table>\n",
       "</div>"
      ],
      "text/plain": [
       "   MSISDN/Number  experience_cluster  Total Avg RTT (ms)  \\\n",
       "0   3.360100e+10                   1                46.0   \n",
       "1   3.360100e+10                   1                31.0   \n",
       "2   3.360100e+10                   1                59.0   \n",
       "3   3.360101e+10                   1                84.0   \n",
       "4   3.360101e+10                   2               119.0   \n",
       "\n",
       "   Total Avg Bearer TP (kbps)  Total TCP Retrans. Vol (Bytes)  \\\n",
       "0                        76.0                       2895381.0   \n",
       "1                        99.0                       9272453.0   \n",
       "2                        97.0                       4150403.0   \n",
       "3                       248.0                          2396.0   \n",
       "4                     56844.0                       9738882.0   \n",
       "\n",
       "   experience_score  \n",
       "0          0.046970  \n",
       "1          0.100926  \n",
       "2          0.053453  \n",
       "3          0.092104  \n",
       "4          1.899030  "
      ]
     },
     "execution_count": 24,
     "metadata": {},
     "output_type": "execute_result"
    }
   ],
   "source": [
    "user_experience_df.rename(columns={'cluster': 'experience_cluster'}, inplace=True)\n",
    "user_experience_df.head()"
   ]
  },
  {
   "cell_type": "code",
   "execution_count": 27,
   "metadata": {},
   "outputs": [
    {
     "data": {
      "text/html": [
       "<div>\n",
       "<style scoped>\n",
       "    .dataframe tbody tr th:only-of-type {\n",
       "        vertical-align: middle;\n",
       "    }\n",
       "\n",
       "    .dataframe tbody tr th {\n",
       "        vertical-align: top;\n",
       "    }\n",
       "\n",
       "    .dataframe thead th {\n",
       "        text-align: right;\n",
       "    }\n",
       "</style>\n",
       "<table border=\"1\" class=\"dataframe\">\n",
       "  <thead>\n",
       "    <tr style=\"text-align: right;\">\n",
       "      <th></th>\n",
       "      <th>MSISDN/Number</th>\n",
       "      <th>engagement_cluster</th>\n",
       "      <th>xDR Sessions</th>\n",
       "      <th>Dur. (ms)</th>\n",
       "      <th>Total Data Volume (Bytes)</th>\n",
       "      <th>experience_cluster</th>\n",
       "      <th>Total Avg RTT (ms)</th>\n",
       "      <th>Total Avg Bearer TP (kbps)</th>\n",
       "      <th>Total TCP Retrans. Vol (Bytes)</th>\n",
       "      <th>experience_score</th>\n",
       "      <th>satisfaction_score</th>\n",
       "    </tr>\n",
       "  </thead>\n",
       "  <tbody>\n",
       "    <tr>\n",
       "      <th>0</th>\n",
       "      <td>3.362632e+10</td>\n",
       "      <td>0</td>\n",
       "      <td>18.0</td>\n",
       "      <td>8791927.0</td>\n",
       "      <td>7.971167e+09</td>\n",
       "      <td>2</td>\n",
       "      <td>709.0</td>\n",
       "      <td>121345.0</td>\n",
       "      <td>10558321.0</td>\n",
       "      <td>1.945114</td>\n",
       "      <td>1.945114</td>\n",
       "    </tr>\n",
       "    <tr>\n",
       "      <th>1</th>\n",
       "      <td>3.361489e+10</td>\n",
       "      <td>0</td>\n",
       "      <td>17.0</td>\n",
       "      <td>9966898.0</td>\n",
       "      <td>8.846226e+09</td>\n",
       "      <td>2</td>\n",
       "      <td>1049.0</td>\n",
       "      <td>426350.0</td>\n",
       "      <td>5895334.0</td>\n",
       "      <td>1.939431</td>\n",
       "      <td>1.939431</td>\n",
       "    </tr>\n",
       "    <tr>\n",
       "      <th>2</th>\n",
       "      <td>3.362578e+10</td>\n",
       "      <td>0</td>\n",
       "      <td>17.0</td>\n",
       "      <td>15466706.5</td>\n",
       "      <td>8.499621e+09</td>\n",
       "      <td>2</td>\n",
       "      <td>693.0</td>\n",
       "      <td>208539.0</td>\n",
       "      <td>695265.0</td>\n",
       "      <td>1.940463</td>\n",
       "      <td>1.940463</td>\n",
       "    </tr>\n",
       "    <tr>\n",
       "      <th>3</th>\n",
       "      <td>3.365973e+10</td>\n",
       "      <td>2</td>\n",
       "      <td>16.0</td>\n",
       "      <td>4035428.0</td>\n",
       "      <td>7.705863e+09</td>\n",
       "      <td>2</td>\n",
       "      <td>1078.0</td>\n",
       "      <td>285945.0</td>\n",
       "      <td>35736143.0</td>\n",
       "      <td>1.946593</td>\n",
       "      <td>1.946593</td>\n",
       "    </tr>\n",
       "    <tr>\n",
       "      <th>4</th>\n",
       "      <td>3.367588e+10</td>\n",
       "      <td>2</td>\n",
       "      <td>15.0</td>\n",
       "      <td>4865947.0</td>\n",
       "      <td>7.891111e+09</td>\n",
       "      <td>2</td>\n",
       "      <td>1062.0</td>\n",
       "      <td>203594.0</td>\n",
       "      <td>38657024.0</td>\n",
       "      <td>1.949862</td>\n",
       "      <td>1.949862</td>\n",
       "    </tr>\n",
       "  </tbody>\n",
       "</table>\n",
       "</div>"
      ],
      "text/plain": [
       "   MSISDN/Number  engagement_cluster  xDR Sessions   Dur. (ms)  \\\n",
       "0   3.362632e+10                   0          18.0   8791927.0   \n",
       "1   3.361489e+10                   0          17.0   9966898.0   \n",
       "2   3.362578e+10                   0          17.0  15466706.5   \n",
       "3   3.365973e+10                   2          16.0   4035428.0   \n",
       "4   3.367588e+10                   2          15.0   4865947.0   \n",
       "\n",
       "   Total Data Volume (Bytes)  experience_cluster  Total Avg RTT (ms)  \\\n",
       "0               7.971167e+09                   2               709.0   \n",
       "1               8.846226e+09                   2              1049.0   \n",
       "2               8.499621e+09                   2               693.0   \n",
       "3               7.705863e+09                   2              1078.0   \n",
       "4               7.891111e+09                   2              1062.0   \n",
       "\n",
       "   Total Avg Bearer TP (kbps)  Total TCP Retrans. Vol (Bytes)  \\\n",
       "0                    121345.0                      10558321.0   \n",
       "1                    426350.0                       5895334.0   \n",
       "2                    208539.0                        695265.0   \n",
       "3                    285945.0                      35736143.0   \n",
       "4                    203594.0                      38657024.0   \n",
       "\n",
       "   experience_score  satisfaction_score  \n",
       "0          1.945114            1.945114  \n",
       "1          1.939431            1.939431  \n",
       "2          1.940463            1.940463  \n",
       "3          1.946593            1.946593  \n",
       "4          1.949862            1.949862  "
      ]
     },
     "execution_count": 27,
     "metadata": {},
     "output_type": "execute_result"
    }
   ],
   "source": [
    "user_satisfaction_df = pd.merge(user_engagement_df, user_experience_df, on='MSISDN/Number')\n",
    "user_satisfaction_df['satisfaction_score'] = (\n",
    "    user_satisfaction_df['experience_score'] + user_satisfaction_df['experience_score'])/2\n",
    "user_satisfaction_df.head()"
   ]
  },
  {
   "cell_type": "code",
   "execution_count": 30,
   "metadata": {},
   "outputs": [
    {
     "data": {
      "text/html": [
       "<div>\n",
       "<style scoped>\n",
       "    .dataframe tbody tr th:only-of-type {\n",
       "        vertical-align: middle;\n",
       "    }\n",
       "\n",
       "    .dataframe tbody tr th {\n",
       "        vertical-align: top;\n",
       "    }\n",
       "\n",
       "    .dataframe thead th {\n",
       "        text-align: right;\n",
       "    }\n",
       "</style>\n",
       "<table border=\"1\" class=\"dataframe\">\n",
       "  <thead>\n",
       "    <tr style=\"text-align: right;\">\n",
       "      <th></th>\n",
       "      <th>experience_score</th>\n",
       "      <th>experience_score</th>\n",
       "      <th>satisfaction_score</th>\n",
       "    </tr>\n",
       "    <tr>\n",
       "      <th>MSISDN/Number</th>\n",
       "      <th></th>\n",
       "      <th></th>\n",
       "      <th></th>\n",
       "    </tr>\n",
       "  </thead>\n",
       "  <tbody>\n",
       "    <tr>\n",
       "      <th>3.362632e+10</th>\n",
       "      <td>1.945114</td>\n",
       "      <td>1.945114</td>\n",
       "      <td>1.945114</td>\n",
       "    </tr>\n",
       "    <tr>\n",
       "      <th>3.361489e+10</th>\n",
       "      <td>1.939431</td>\n",
       "      <td>1.939431</td>\n",
       "      <td>1.939431</td>\n",
       "    </tr>\n",
       "    <tr>\n",
       "      <th>3.362578e+10</th>\n",
       "      <td>1.940463</td>\n",
       "      <td>1.940463</td>\n",
       "      <td>1.940463</td>\n",
       "    </tr>\n",
       "    <tr>\n",
       "      <th>3.365973e+10</th>\n",
       "      <td>1.946593</td>\n",
       "      <td>1.946593</td>\n",
       "      <td>1.946593</td>\n",
       "    </tr>\n",
       "    <tr>\n",
       "      <th>3.367588e+10</th>\n",
       "      <td>1.949862</td>\n",
       "      <td>1.949862</td>\n",
       "      <td>1.949862</td>\n",
       "    </tr>\n",
       "  </tbody>\n",
       "</table>\n",
       "</div>"
      ],
      "text/plain": [
       "               experience_score  experience_score  satisfaction_score\n",
       "MSISDN/Number                                                        \n",
       "3.362632e+10           1.945114          1.945114            1.945114\n",
       "3.361489e+10           1.939431          1.939431            1.939431\n",
       "3.362578e+10           1.940463          1.940463            1.940463\n",
       "3.365973e+10           1.946593          1.946593            1.946593\n",
       "3.367588e+10           1.949862          1.949862            1.949862"
      ]
     },
     "execution_count": 30,
     "metadata": {},
     "output_type": "execute_result"
    }
   ],
   "source": [
    "\n",
    "user_satisfaction_df = user_satisfaction_df[['MSISDN/Number', 'experience_score',\n",
    "                        'experience_score', 'satisfaction_score']]\n",
    "user_satisfaction_df.set_index('MSISDN/Number', inplace=True)\n",
    "user_satisfaction_df.head()"
   ]
  },
  {
   "cell_type": "code",
   "execution_count": 31,
   "metadata": {},
   "outputs": [
    {
     "data": {
      "text/html": [
       "<div>\n",
       "<style scoped>\n",
       "    .dataframe tbody tr th:only-of-type {\n",
       "        vertical-align: middle;\n",
       "    }\n",
       "\n",
       "    .dataframe tbody tr th {\n",
       "        vertical-align: top;\n",
       "    }\n",
       "\n",
       "    .dataframe thead th {\n",
       "        text-align: right;\n",
       "    }\n",
       "</style>\n",
       "<table border=\"1\" class=\"dataframe\">\n",
       "  <thead>\n",
       "    <tr style=\"text-align: right;\">\n",
       "      <th></th>\n",
       "      <th>experience_score</th>\n",
       "      <th>experience_score</th>\n",
       "      <th>satisfaction_score</th>\n",
       "    </tr>\n",
       "    <tr>\n",
       "      <th>MSISDN/Number</th>\n",
       "      <th></th>\n",
       "      <th></th>\n",
       "      <th></th>\n",
       "    </tr>\n",
       "  </thead>\n",
       "  <tbody>\n",
       "    <tr>\n",
       "      <th>3.376054e+10</th>\n",
       "      <td>1.952180</td>\n",
       "      <td>1.952180</td>\n",
       "      <td>1.952180</td>\n",
       "    </tr>\n",
       "    <tr>\n",
       "      <th>3.367588e+10</th>\n",
       "      <td>1.949862</td>\n",
       "      <td>1.949862</td>\n",
       "      <td>1.949862</td>\n",
       "    </tr>\n",
       "    <tr>\n",
       "      <th>3.365973e+10</th>\n",
       "      <td>1.946593</td>\n",
       "      <td>1.946593</td>\n",
       "      <td>1.946593</td>\n",
       "    </tr>\n",
       "    <tr>\n",
       "      <th>3.362632e+10</th>\n",
       "      <td>1.945114</td>\n",
       "      <td>1.945114</td>\n",
       "      <td>1.945114</td>\n",
       "    </tr>\n",
       "    <tr>\n",
       "      <th>3.360452e+10</th>\n",
       "      <td>1.943099</td>\n",
       "      <td>1.943099</td>\n",
       "      <td>1.943099</td>\n",
       "    </tr>\n",
       "    <tr>\n",
       "      <th>3.362578e+10</th>\n",
       "      <td>1.940463</td>\n",
       "      <td>1.940463</td>\n",
       "      <td>1.940463</td>\n",
       "    </tr>\n",
       "    <tr>\n",
       "      <th>3.361489e+10</th>\n",
       "      <td>1.939431</td>\n",
       "      <td>1.939431</td>\n",
       "      <td>1.939431</td>\n",
       "    </tr>\n",
       "    <tr>\n",
       "      <th>3.360313e+10</th>\n",
       "      <td>1.936731</td>\n",
       "      <td>1.936731</td>\n",
       "      <td>1.936731</td>\n",
       "    </tr>\n",
       "    <tr>\n",
       "      <th>3.366716e+10</th>\n",
       "      <td>1.875070</td>\n",
       "      <td>1.875070</td>\n",
       "      <td>1.875070</td>\n",
       "    </tr>\n",
       "    <tr>\n",
       "      <th>3.362708e+10</th>\n",
       "      <td>1.741951</td>\n",
       "      <td>1.741951</td>\n",
       "      <td>1.741951</td>\n",
       "    </tr>\n",
       "  </tbody>\n",
       "</table>\n",
       "</div>"
      ],
      "text/plain": [
       "               experience_score  experience_score  satisfaction_score\n",
       "MSISDN/Number                                                        \n",
       "3.376054e+10           1.952180          1.952180            1.952180\n",
       "3.367588e+10           1.949862          1.949862            1.949862\n",
       "3.365973e+10           1.946593          1.946593            1.946593\n",
       "3.362632e+10           1.945114          1.945114            1.945114\n",
       "3.360452e+10           1.943099          1.943099            1.943099\n",
       "3.362578e+10           1.940463          1.940463            1.940463\n",
       "3.361489e+10           1.939431          1.939431            1.939431\n",
       "3.360313e+10           1.936731          1.936731            1.936731\n",
       "3.366716e+10           1.875070          1.875070            1.875070\n",
       "3.362708e+10           1.741951          1.741951            1.741951"
      ]
     },
     "execution_count": 31,
     "metadata": {},
     "output_type": "execute_result"
    }
   ],
   "source": [
    "top10_satisfied = user_satisfaction_df.sort_values('satisfaction_score', ascending=False).head(10)\n",
    "top10_satisfied"
   ]
  },
  {
   "cell_type": "markdown",
   "metadata": {},
   "source": [
    "### Linear Regression for satisfaction score prediction"
   ]
  },
  {
   "cell_type": "code",
   "execution_count": 33,
   "metadata": {},
   "outputs": [],
   "source": [
    "# splitting training and testing data\n",
    "X = user_satisfaction_df[['experience_score', 'experience_score']]\n",
    "y = user_satisfaction_df[['satisfaction_score']]\n",
    "X_train, X_test, y_train, y_test = train_test_split(X, y, test_size=0.2)"
   ]
  },
  {
   "cell_type": "code",
   "execution_count": 34,
   "metadata": {},
   "outputs": [
    {
     "data": {
      "text/html": [
       "<style>#sk-container-id-1 {color: black;background-color: white;}#sk-container-id-1 pre{padding: 0;}#sk-container-id-1 div.sk-toggleable {background-color: white;}#sk-container-id-1 label.sk-toggleable__label {cursor: pointer;display: block;width: 100%;margin-bottom: 0;padding: 0.3em;box-sizing: border-box;text-align: center;}#sk-container-id-1 label.sk-toggleable__label-arrow:before {content: \"▸\";float: left;margin-right: 0.25em;color: #696969;}#sk-container-id-1 label.sk-toggleable__label-arrow:hover:before {color: black;}#sk-container-id-1 div.sk-estimator:hover label.sk-toggleable__label-arrow:before {color: black;}#sk-container-id-1 div.sk-toggleable__content {max-height: 0;max-width: 0;overflow: hidden;text-align: left;background-color: #f0f8ff;}#sk-container-id-1 div.sk-toggleable__content pre {margin: 0.2em;color: black;border-radius: 0.25em;background-color: #f0f8ff;}#sk-container-id-1 input.sk-toggleable__control:checked~div.sk-toggleable__content {max-height: 200px;max-width: 100%;overflow: auto;}#sk-container-id-1 input.sk-toggleable__control:checked~label.sk-toggleable__label-arrow:before {content: \"▾\";}#sk-container-id-1 div.sk-estimator input.sk-toggleable__control:checked~label.sk-toggleable__label {background-color: #d4ebff;}#sk-container-id-1 div.sk-label input.sk-toggleable__control:checked~label.sk-toggleable__label {background-color: #d4ebff;}#sk-container-id-1 input.sk-hidden--visually {border: 0;clip: rect(1px 1px 1px 1px);clip: rect(1px, 1px, 1px, 1px);height: 1px;margin: -1px;overflow: hidden;padding: 0;position: absolute;width: 1px;}#sk-container-id-1 div.sk-estimator {font-family: monospace;background-color: #f0f8ff;border: 1px dotted black;border-radius: 0.25em;box-sizing: border-box;margin-bottom: 0.5em;}#sk-container-id-1 div.sk-estimator:hover {background-color: #d4ebff;}#sk-container-id-1 div.sk-parallel-item::after {content: \"\";width: 100%;border-bottom: 1px solid gray;flex-grow: 1;}#sk-container-id-1 div.sk-label:hover label.sk-toggleable__label {background-color: #d4ebff;}#sk-container-id-1 div.sk-serial::before {content: \"\";position: absolute;border-left: 1px solid gray;box-sizing: border-box;top: 0;bottom: 0;left: 50%;z-index: 0;}#sk-container-id-1 div.sk-serial {display: flex;flex-direction: column;align-items: center;background-color: white;padding-right: 0.2em;padding-left: 0.2em;position: relative;}#sk-container-id-1 div.sk-item {position: relative;z-index: 1;}#sk-container-id-1 div.sk-parallel {display: flex;align-items: stretch;justify-content: center;background-color: white;position: relative;}#sk-container-id-1 div.sk-item::before, #sk-container-id-1 div.sk-parallel-item::before {content: \"\";position: absolute;border-left: 1px solid gray;box-sizing: border-box;top: 0;bottom: 0;left: 50%;z-index: -1;}#sk-container-id-1 div.sk-parallel-item {display: flex;flex-direction: column;z-index: 1;position: relative;background-color: white;}#sk-container-id-1 div.sk-parallel-item:first-child::after {align-self: flex-end;width: 50%;}#sk-container-id-1 div.sk-parallel-item:last-child::after {align-self: flex-start;width: 50%;}#sk-container-id-1 div.sk-parallel-item:only-child::after {width: 0;}#sk-container-id-1 div.sk-dashed-wrapped {border: 1px dashed gray;margin: 0 0.4em 0.5em 0.4em;box-sizing: border-box;padding-bottom: 0.4em;background-color: white;}#sk-container-id-1 div.sk-label label {font-family: monospace;font-weight: bold;display: inline-block;line-height: 1.2em;}#sk-container-id-1 div.sk-label-container {text-align: center;}#sk-container-id-1 div.sk-container {/* jupyter's `normalize.less` sets `[hidden] { display: none; }` but bootstrap.min.css set `[hidden] { display: none !important; }` so we also need the `!important` here to be able to override the default hidden behavior on the sphinx rendered scikit-learn.org. See: https://github.com/scikit-learn/scikit-learn/issues/21755 */display: inline-block !important;position: relative;}#sk-container-id-1 div.sk-text-repr-fallback {display: none;}</style><div id=\"sk-container-id-1\" class=\"sk-top-container\"><div class=\"sk-text-repr-fallback\"><pre>LinearRegression()</pre><b>In a Jupyter environment, please rerun this cell to show the HTML representation or trust the notebook. <br />On GitHub, the HTML representation is unable to render, please try loading this page with nbviewer.org.</b></div><div class=\"sk-container\" hidden><div class=\"sk-item\"><div class=\"sk-estimator sk-toggleable\"><input class=\"sk-toggleable__control sk-hidden--visually\" id=\"sk-estimator-id-1\" type=\"checkbox\" checked><label for=\"sk-estimator-id-1\" class=\"sk-toggleable__label sk-toggleable__label-arrow\">LinearRegression</label><div class=\"sk-toggleable__content\"><pre>LinearRegression()</pre></div></div></div></div></div>"
      ],
      "text/plain": [
       "LinearRegression()"
      ]
     },
     "execution_count": 34,
     "metadata": {},
     "output_type": "execute_result"
    }
   ],
   "source": [
    "model = LinearRegression()\n",
    "model.fit(X_train, y_train)"
   ]
  },
  {
   "cell_type": "code",
   "execution_count": 35,
   "metadata": {},
   "outputs": [],
   "source": [
    "\n",
    "y_pred = model.predict(X_test)"
   ]
  },
  {
   "cell_type": "code",
   "execution_count": 36,
   "metadata": {},
   "outputs": [
    {
     "name": "stdout",
     "output_type": "stream",
     "text": [
      "Intercept: [-1.33226763e-15]\n",
      "Coefficients: [[0.25 0.25 0.25 0.25]]\n",
      "Mean squared error: 0.0\n"
     ]
    }
   ],
   "source": [
    "print(f'Intercept: {model.intercept_}')\n",
    "print(f'Coefficients: { model.coef_}')\n",
    "print(f\"Mean squared error: {np.mean((y_pred - y_test.values) ** 2)}\")"
   ]
  },
  {
   "cell_type": "markdown",
   "metadata": {},
   "source": [
    "### K-means Clusturing"
   ]
  },
  {
   "cell_type": "code",
   "execution_count": 38,
   "metadata": {},
   "outputs": [
    {
     "data": {
      "text/plain": [
       "array([[ 0.4522495 ,  0.4522495 ,  0.4522495 ],\n",
       "       [ 0.3606766 ,  0.3606766 ,  0.3606766 ],\n",
       "       [ 0.3773041 ,  0.3773041 ,  0.3773041 ],\n",
       "       [ 0.47609289,  0.47609289,  0.47609289],\n",
       "       [ 0.52876857,  0.52876857,  0.52876857],\n",
       "       [ 0.56612499,  0.56612499,  0.56612499],\n",
       "       [-0.67649074, -0.67649074, -0.67649074],\n",
       "       [ 0.31716648,  0.31716648,  0.31716648],\n",
       "       [ 0.41977716,  0.41977716,  0.41977716],\n",
       "       [-2.82166956, -2.82166956, -2.82166956]])"
      ]
     },
     "execution_count": 38,
     "metadata": {},
     "output_type": "execute_result"
    }
   ],
   "source": [
    "# scale data\n",
    "scaler = StandardScaler()\n",
    "scaled_data = scaler.fit_transform(user_satisfaction_df)\n",
    "scaled_data"
   ]
  },
  {
   "cell_type": "code",
   "execution_count": 39,
   "metadata": {},
   "outputs": [
    {
     "data": {
      "text/plain": [
       "array([[ 0.57735027,  0.57735027,  0.57735027],\n",
       "       [ 0.57735027,  0.57735027,  0.57735027],\n",
       "       [ 0.57735027,  0.57735027,  0.57735027],\n",
       "       [ 0.57735027,  0.57735027,  0.57735027],\n",
       "       [ 0.57735027,  0.57735027,  0.57735027],\n",
       "       [ 0.57735027,  0.57735027,  0.57735027],\n",
       "       [-0.57735027, -0.57735027, -0.57735027],\n",
       "       [ 0.57735027,  0.57735027,  0.57735027],\n",
       "       [ 0.57735027,  0.57735027,  0.57735027],\n",
       "       [-0.57735027, -0.57735027, -0.57735027]])"
      ]
     },
     "execution_count": 39,
     "metadata": {},
     "output_type": "execute_result"
    }
   ],
   "source": [
    "normalized_data = normalize(scaled_data)\n",
    "normalized_data"
   ]
  },
  {
   "cell_type": "code",
   "execution_count": 40,
   "metadata": {},
   "outputs": [
    {
     "data": {
      "text/plain": [
       "array([0, 0, 0, 0, 0, 0, 1, 0, 0, 1])"
      ]
     },
     "execution_count": 40,
     "metadata": {},
     "output_type": "execute_result"
    }
   ],
   "source": [
    "kmeans = KMeans(n_clusters=2, random_state=1).fit(normalized_data)\n",
    "kmeans.labels_"
   ]
  },
  {
   "cell_type": "code",
   "execution_count": 41,
   "metadata": {},
   "outputs": [
    {
     "data": {
      "text/html": [
       "<div>\n",
       "<style scoped>\n",
       "    .dataframe tbody tr th:only-of-type {\n",
       "        vertical-align: middle;\n",
       "    }\n",
       "\n",
       "    .dataframe tbody tr th {\n",
       "        vertical-align: top;\n",
       "    }\n",
       "\n",
       "    .dataframe thead th {\n",
       "        text-align: right;\n",
       "    }\n",
       "</style>\n",
       "<table border=\"1\" class=\"dataframe\">\n",
       "  <thead>\n",
       "    <tr style=\"text-align: right;\">\n",
       "      <th></th>\n",
       "      <th>satisfaction_cluster</th>\n",
       "      <th>experience_score</th>\n",
       "      <th>experience_score</th>\n",
       "      <th>satisfaction_score</th>\n",
       "    </tr>\n",
       "    <tr>\n",
       "      <th>MSISDN/Number</th>\n",
       "      <th></th>\n",
       "      <th></th>\n",
       "      <th></th>\n",
       "      <th></th>\n",
       "    </tr>\n",
       "  </thead>\n",
       "  <tbody>\n",
       "    <tr>\n",
       "      <th>3.362632e+10</th>\n",
       "      <td>0</td>\n",
       "      <td>1.945114</td>\n",
       "      <td>1.945114</td>\n",
       "      <td>1.945114</td>\n",
       "    </tr>\n",
       "    <tr>\n",
       "      <th>3.361489e+10</th>\n",
       "      <td>0</td>\n",
       "      <td>1.939431</td>\n",
       "      <td>1.939431</td>\n",
       "      <td>1.939431</td>\n",
       "    </tr>\n",
       "    <tr>\n",
       "      <th>3.362578e+10</th>\n",
       "      <td>0</td>\n",
       "      <td>1.940463</td>\n",
       "      <td>1.940463</td>\n",
       "      <td>1.940463</td>\n",
       "    </tr>\n",
       "    <tr>\n",
       "      <th>3.365973e+10</th>\n",
       "      <td>0</td>\n",
       "      <td>1.946593</td>\n",
       "      <td>1.946593</td>\n",
       "      <td>1.946593</td>\n",
       "    </tr>\n",
       "    <tr>\n",
       "      <th>3.367588e+10</th>\n",
       "      <td>0</td>\n",
       "      <td>1.949862</td>\n",
       "      <td>1.949862</td>\n",
       "      <td>1.949862</td>\n",
       "    </tr>\n",
       "    <tr>\n",
       "      <th>3.376054e+10</th>\n",
       "      <td>0</td>\n",
       "      <td>1.952180</td>\n",
       "      <td>1.952180</td>\n",
       "      <td>1.952180</td>\n",
       "    </tr>\n",
       "    <tr>\n",
       "      <th>3.366716e+10</th>\n",
       "      <td>1</td>\n",
       "      <td>1.875070</td>\n",
       "      <td>1.875070</td>\n",
       "      <td>1.875070</td>\n",
       "    </tr>\n",
       "    <tr>\n",
       "      <th>3.360313e+10</th>\n",
       "      <td>0</td>\n",
       "      <td>1.936731</td>\n",
       "      <td>1.936731</td>\n",
       "      <td>1.936731</td>\n",
       "    </tr>\n",
       "    <tr>\n",
       "      <th>3.360452e+10</th>\n",
       "      <td>0</td>\n",
       "      <td>1.943099</td>\n",
       "      <td>1.943099</td>\n",
       "      <td>1.943099</td>\n",
       "    </tr>\n",
       "    <tr>\n",
       "      <th>3.362708e+10</th>\n",
       "      <td>1</td>\n",
       "      <td>1.741951</td>\n",
       "      <td>1.741951</td>\n",
       "      <td>1.741951</td>\n",
       "    </tr>\n",
       "  </tbody>\n",
       "</table>\n",
       "</div>"
      ],
      "text/plain": [
       "               satisfaction_cluster  experience_score  experience_score  \\\n",
       "MSISDN/Number                                                             \n",
       "3.362632e+10                      0          1.945114          1.945114   \n",
       "3.361489e+10                      0          1.939431          1.939431   \n",
       "3.362578e+10                      0          1.940463          1.940463   \n",
       "3.365973e+10                      0          1.946593          1.946593   \n",
       "3.367588e+10                      0          1.949862          1.949862   \n",
       "3.376054e+10                      0          1.952180          1.952180   \n",
       "3.366716e+10                      1          1.875070          1.875070   \n",
       "3.360313e+10                      0          1.936731          1.936731   \n",
       "3.360452e+10                      0          1.943099          1.943099   \n",
       "3.362708e+10                      1          1.741951          1.741951   \n",
       "\n",
       "               satisfaction_score  \n",
       "MSISDN/Number                      \n",
       "3.362632e+10             1.945114  \n",
       "3.361489e+10             1.939431  \n",
       "3.362578e+10             1.940463  \n",
       "3.365973e+10             1.946593  \n",
       "3.367588e+10             1.949862  \n",
       "3.376054e+10             1.952180  \n",
       "3.366716e+10             1.875070  \n",
       "3.360313e+10             1.936731  \n",
       "3.360452e+10             1.943099  \n",
       "3.362708e+10             1.741951  "
      ]
     },
     "execution_count": 41,
     "metadata": {},
     "output_type": "execute_result"
    }
   ],
   "source": [
    "\n",
    "user_satisfaction_df.insert(0, 'satisfaction_cluster', kmeans.labels_)\n",
    "user_satisfaction_df"
   ]
  },
  {
   "cell_type": "code",
   "execution_count": 42,
   "metadata": {},
   "outputs": [
    {
     "data": {
      "text/plain": [
       "0    8\n",
       "1    2\n",
       "Name: satisfaction_cluster, dtype: int64"
      ]
     },
     "execution_count": 42,
     "metadata": {},
     "output_type": "execute_result"
    }
   ],
   "source": [
    "\n",
    "user_satisfaction_df['satisfaction_cluster'].value_counts()"
   ]
  },
  {
   "cell_type": "code",
   "execution_count": 48,
   "metadata": {},
   "outputs": [],
   "source": [
    "# average satisfaction & experience score per cluster\n",
    "#user_satisfaction_df.groupby('satisfaction_cluster').agg(\n",
    " #   {'satisfaction_score': 'mean', 'experience_score': 'mean'})"
   ]
  },
  {
   "cell_type": "markdown",
   "metadata": {},
   "source": [
    "### Export dataframe to mysql"
   ]
  },
  {
   "cell_type": "code",
   "execution_count": 50,
   "metadata": {},
   "outputs": [],
   "source": [
    "engine = create_engine('mysql+pymysql://root:@localhost/tellco')"
   ]
  },
  {
   "cell_type": "code",
   "execution_count": null,
   "metadata": {},
   "outputs": [],
   "source": [
    "# save the clustering model\n",
    "with open(\"../models/user_experience.pkl\", \"wb\") as f:\n",
    "    pickle.dump(kmeans, f)"
   ]
  }
 ],
 "metadata": {
  "kernelspec": {
   "display_name": "Python 3.10.5 64-bit",
   "language": "python",
   "name": "python3"
  },
  "language_info": {
   "codemirror_mode": {
    "name": "ipython",
    "version": 3
   },
   "file_extension": ".py",
   "mimetype": "text/x-python",
   "name": "python",
   "nbconvert_exporter": "python",
   "pygments_lexer": "ipython3",
   "version": "3.10.5"
  },
  "orig_nbformat": 4,
  "vscode": {
   "interpreter": {
    "hash": "369f2c481f4da34e4445cda3fffd2e751bd1c4d706f27375911949ba6bb62e1c"
   }
  }
 },
 "nbformat": 4,
 "nbformat_minor": 2
}
