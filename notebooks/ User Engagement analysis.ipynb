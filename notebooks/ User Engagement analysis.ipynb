{
 "cells": [
  {
   "cell_type": "code",
   "execution_count": 1,
   "metadata": {},
   "outputs": [
    {
     "name": "stderr",
     "output_type": "stream",
     "text": [
      "C:\\Users\\samrit\\Anaconda3\\lib\\site-packages\\sklearn\\linear_model\\least_angle.py:30: DeprecationWarning: `np.float` is a deprecated alias for the builtin `float`. To silence this warning, use `float` by itself. Doing this will not modify any behavior and is safe. If you specifically wanted the numpy scalar type, use `np.float64` here.\n",
      "Deprecated in NumPy 1.20; for more details and guidance: https://numpy.org/devdocs/release/1.20.0-notes.html#deprecations\n",
      "  method='lar', copy_X=True, eps=np.finfo(np.float).eps,\n",
      "C:\\Users\\samrit\\Anaconda3\\lib\\site-packages\\sklearn\\linear_model\\least_angle.py:167: DeprecationWarning: `np.float` is a deprecated alias for the builtin `float`. To silence this warning, use `float` by itself. Doing this will not modify any behavior and is safe. If you specifically wanted the numpy scalar type, use `np.float64` here.\n",
      "Deprecated in NumPy 1.20; for more details and guidance: https://numpy.org/devdocs/release/1.20.0-notes.html#deprecations\n",
      "  method='lar', copy_X=True, eps=np.finfo(np.float).eps,\n",
      "C:\\Users\\samrit\\Anaconda3\\lib\\site-packages\\sklearn\\linear_model\\least_angle.py:284: DeprecationWarning: `np.float` is a deprecated alias for the builtin `float`. To silence this warning, use `float` by itself. Doing this will not modify any behavior and is safe. If you specifically wanted the numpy scalar type, use `np.float64` here.\n",
      "Deprecated in NumPy 1.20; for more details and guidance: https://numpy.org/devdocs/release/1.20.0-notes.html#deprecations\n",
      "  eps=np.finfo(np.float).eps, copy_Gram=True, verbose=0,\n",
      "C:\\Users\\samrit\\Anaconda3\\lib\\site-packages\\sklearn\\linear_model\\least_angle.py:862: DeprecationWarning: `np.float` is a deprecated alias for the builtin `float`. To silence this warning, use `float` by itself. Doing this will not modify any behavior and is safe. If you specifically wanted the numpy scalar type, use `np.float64` here.\n",
      "Deprecated in NumPy 1.20; for more details and guidance: https://numpy.org/devdocs/release/1.20.0-notes.html#deprecations\n",
      "  eps=np.finfo(np.float).eps, copy_X=True, fit_path=True,\n",
      "C:\\Users\\samrit\\Anaconda3\\lib\\site-packages\\sklearn\\linear_model\\least_angle.py:1101: DeprecationWarning: `np.float` is a deprecated alias for the builtin `float`. To silence this warning, use `float` by itself. Doing this will not modify any behavior and is safe. If you specifically wanted the numpy scalar type, use `np.float64` here.\n",
      "Deprecated in NumPy 1.20; for more details and guidance: https://numpy.org/devdocs/release/1.20.0-notes.html#deprecations\n",
      "  eps=np.finfo(np.float).eps, copy_X=True, fit_path=True,\n",
      "C:\\Users\\samrit\\Anaconda3\\lib\\site-packages\\sklearn\\linear_model\\least_angle.py:1127: DeprecationWarning: `np.float` is a deprecated alias for the builtin `float`. To silence this warning, use `float` by itself. Doing this will not modify any behavior and is safe. If you specifically wanted the numpy scalar type, use `np.float64` here.\n",
      "Deprecated in NumPy 1.20; for more details and guidance: https://numpy.org/devdocs/release/1.20.0-notes.html#deprecations\n",
      "  eps=np.finfo(np.float).eps, positive=False):\n",
      "C:\\Users\\samrit\\Anaconda3\\lib\\site-packages\\sklearn\\linear_model\\least_angle.py:1362: DeprecationWarning: `np.float` is a deprecated alias for the builtin `float`. To silence this warning, use `float` by itself. Doing this will not modify any behavior and is safe. If you specifically wanted the numpy scalar type, use `np.float64` here.\n",
      "Deprecated in NumPy 1.20; for more details and guidance: https://numpy.org/devdocs/release/1.20.0-notes.html#deprecations\n",
      "  max_n_alphas=1000, n_jobs=None, eps=np.finfo(np.float).eps,\n",
      "C:\\Users\\samrit\\Anaconda3\\lib\\site-packages\\sklearn\\linear_model\\least_angle.py:1602: DeprecationWarning: `np.float` is a deprecated alias for the builtin `float`. To silence this warning, use `float` by itself. Doing this will not modify any behavior and is safe. If you specifically wanted the numpy scalar type, use `np.float64` here.\n",
      "Deprecated in NumPy 1.20; for more details and guidance: https://numpy.org/devdocs/release/1.20.0-notes.html#deprecations\n",
      "  max_n_alphas=1000, n_jobs=None, eps=np.finfo(np.float).eps,\n",
      "C:\\Users\\samrit\\Anaconda3\\lib\\site-packages\\sklearn\\linear_model\\least_angle.py:1738: DeprecationWarning: `np.float` is a deprecated alias for the builtin `float`. To silence this warning, use `float` by itself. Doing this will not modify any behavior and is safe. If you specifically wanted the numpy scalar type, use `np.float64` here.\n",
      "Deprecated in NumPy 1.20; for more details and guidance: https://numpy.org/devdocs/release/1.20.0-notes.html#deprecations\n",
      "  eps=np.finfo(np.float).eps, copy_X=True, positive=False):\n",
      "C:\\Users\\samrit\\Anaconda3\\lib\\site-packages\\sklearn\\decomposition\\online_lda.py:29: DeprecationWarning: `np.float` is a deprecated alias for the builtin `float`. To silence this warning, use `float` by itself. Doing this will not modify any behavior and is safe. If you specifically wanted the numpy scalar type, use `np.float64` here.\n",
      "Deprecated in NumPy 1.20; for more details and guidance: https://numpy.org/devdocs/release/1.20.0-notes.html#deprecations\n",
      "  EPS = np.finfo(np.float).eps\n"
     ]
    }
   ],
   "source": [
    "import numpy as np\n",
    "import pandas as pd\n",
    "import plotly.express as px\n",
    "import plotly.graph_objects as go\n",
    "import sys\n",
    "import os\n",
    "from sklearn.preprocessing import StandardScaler, normalize\n",
    "from sklearn.cluster import KMeans\n",
    "from matplotlib import pyplot as plt\n",
    "import warnings\n",
    "warnings.filterwarnings('ignore')\n",
    "\n",
    "\n"
   ]
  },
  {
   "cell_type": "code",
   "execution_count": 2,
   "metadata": {},
   "outputs": [],
   "source": [
    "pd.set_option('display.max_columns', None)\n",
    "pd.set_option('display.max_colwidth', None)\n",
    "pd.set_option(\"expand_frame_repr\", False)\n",
    "pd.set_option('display.float_format', '{:.2f}'.format)"
   ]
  },
  {
   "cell_type": "code",
   "execution_count": 3,
   "metadata": {},
   "outputs": [],
   "source": [
    "sys.path.append(os.path.abspath(os.path.join('../scripts')))\n",
    "from outliener import Outlier\n"
   ]
  },
  {
   "cell_type": "markdown",
   "metadata": {},
   "source": [
    "### Data Reading "
   ]
  },
  {
   "cell_type": "code",
   "execution_count": 4,
   "metadata": {},
   "outputs": [],
   "source": [
    "df= pd.read_csv(\"../data/user_overviewed_data.csv\")"
   ]
  },
  {
   "cell_type": "code",
   "execution_count": 5,
   "metadata": {},
   "outputs": [
    {
     "name": "stdout",
     "output_type": "stream",
     "text": [
      "<class 'pandas.core.frame.DataFrame'>\n",
      "RangeIndex: 146887 entries, 0 to 146886\n",
      "Data columns (total 56 columns):\n",
      " #   Column                            Non-Null Count   Dtype  \n",
      "---  ------                            --------------   -----  \n",
      " 0   Unnamed: 0                        146887 non-null  int64  \n",
      " 1   Bearer Id                         146887 non-null  float64\n",
      " 2   Start                             146887 non-null  object \n",
      " 3   Start ms                          146887 non-null  float64\n",
      " 4   End                               146887 non-null  object \n",
      " 5   End ms                            146887 non-null  float64\n",
      " 6   Dur. (ms)                         146887 non-null  float64\n",
      " 7   IMSI                              146887 non-null  float64\n",
      " 8   MSISDN/Number                     146887 non-null  float64\n",
      " 9   IMEI                              146887 non-null  float64\n",
      " 10  Last Location Name                146887 non-null  object \n",
      " 11  Avg RTT DL (ms)                   146887 non-null  float64\n",
      " 12  Avg RTT UL (ms)                   146887 non-null  float64\n",
      " 13  Avg Bearer TP DL (kbps)           146887 non-null  float64\n",
      " 14  Avg Bearer TP UL (kbps)           146887 non-null  float64\n",
      " 15  TCP DL Retrans. Vol (Bytes)       146887 non-null  float64\n",
      " 16  TCP UL Retrans. Vol (Bytes)       146887 non-null  float64\n",
      " 17  DL TP < 50 Kbps (%)               146887 non-null  float64\n",
      " 18  50 Kbps < DL TP < 250 Kbps (%)    146887 non-null  float64\n",
      " 19  250 Kbps < DL TP < 1 Mbps (%)     146887 non-null  float64\n",
      " 20  DL TP > 1 Mbps (%)                146887 non-null  float64\n",
      " 21  UL TP < 10 Kbps (%)               146887 non-null  float64\n",
      " 22  10 Kbps < UL TP < 50 Kbps (%)     146887 non-null  float64\n",
      " 23  50 Kbps < UL TP < 300 Kbps (%)    146887 non-null  float64\n",
      " 24  UL TP > 300 Kbps (%)              146887 non-null  float64\n",
      " 25  Activity Duration DL (ms)         146887 non-null  float64\n",
      " 26  Activity Duration UL (ms)         146887 non-null  float64\n",
      " 27  Dur. (ms).1                       146887 non-null  float64\n",
      " 28  Handset Manufacturer              146887 non-null  object \n",
      " 29  Handset Type                      146887 non-null  object \n",
      " 30  Nb of sec with Vol DL < 6250B     146887 non-null  float64\n",
      " 31  Nb of sec with Vol UL < 1250B     146887 non-null  float64\n",
      " 32  Social Media DL (Bytes)           146887 non-null  float64\n",
      " 33  Social Media UL (Bytes)           146887 non-null  float64\n",
      " 34  Google DL (Bytes)                 146887 non-null  float64\n",
      " 35  Google UL (Bytes)                 146887 non-null  float64\n",
      " 36  Email DL (Bytes)                  146887 non-null  float64\n",
      " 37  Email UL (Bytes)                  146887 non-null  float64\n",
      " 38  Youtube DL (Bytes)                146887 non-null  float64\n",
      " 39  Youtube UL (Bytes)                146887 non-null  float64\n",
      " 40  Netflix DL (Bytes)                146887 non-null  float64\n",
      " 41  Netflix UL (Bytes)                146887 non-null  float64\n",
      " 42  Gaming DL (Bytes)                 146887 non-null  float64\n",
      " 43  Gaming UL (Bytes)                 146887 non-null  float64\n",
      " 44  Other DL (Bytes)                  146887 non-null  float64\n",
      " 45  Other UL (Bytes)                  146887 non-null  float64\n",
      " 46  Total UL (Bytes)                  146887 non-null  float64\n",
      " 47  Total DL (Bytes)                  146887 non-null  float64\n",
      " 48  Social Media Data Volume (Bytes)  146887 non-null  float64\n",
      " 49  Google Data Volume (Bytes)        146887 non-null  float64\n",
      " 50  Email Data Volume (Bytes)         146887 non-null  float64\n",
      " 51  Youtube Data Volume (Bytes)       146887 non-null  float64\n",
      " 52  Netflix Data Volume (Bytes)       146887 non-null  float64\n",
      " 53  Gaming Data Volume (Bytes)        146887 non-null  float64\n",
      " 54  Other Data Volume (Bytes)         146887 non-null  float64\n",
      " 55  Total Data Volume (Bytes)         146887 non-null  float64\n",
      "dtypes: float64(50), int64(1), object(5)\n",
      "memory usage: 62.8+ MB\n"
     ]
    }
   ],
   "source": [
    "df.info()"
   ]
  },
  {
   "cell_type": "code",
   "execution_count": 6,
   "metadata": {},
   "outputs": [
    {
     "data": {
      "text/html": [
       "<div>\n",
       "<style scoped>\n",
       "    .dataframe tbody tr th:only-of-type {\n",
       "        vertical-align: middle;\n",
       "    }\n",
       "\n",
       "    .dataframe tbody tr th {\n",
       "        vertical-align: top;\n",
       "    }\n",
       "\n",
       "    .dataframe thead th {\n",
       "        text-align: right;\n",
       "    }\n",
       "</style>\n",
       "<table border=\"1\" class=\"dataframe\">\n",
       "  <thead>\n",
       "    <tr style=\"text-align: right;\">\n",
       "      <th></th>\n",
       "      <th>Unnamed: 0</th>\n",
       "      <th>Bearer Id</th>\n",
       "      <th>Start</th>\n",
       "      <th>Start ms</th>\n",
       "      <th>End</th>\n",
       "      <th>End ms</th>\n",
       "      <th>Dur. (ms)</th>\n",
       "      <th>IMSI</th>\n",
       "      <th>MSISDN/Number</th>\n",
       "      <th>IMEI</th>\n",
       "      <th>Last Location Name</th>\n",
       "      <th>Avg RTT DL (ms)</th>\n",
       "      <th>Avg RTT UL (ms)</th>\n",
       "      <th>Avg Bearer TP DL (kbps)</th>\n",
       "      <th>Avg Bearer TP UL (kbps)</th>\n",
       "      <th>TCP DL Retrans. Vol (Bytes)</th>\n",
       "      <th>TCP UL Retrans. Vol (Bytes)</th>\n",
       "      <th>DL TP &lt; 50 Kbps (%)</th>\n",
       "      <th>50 Kbps &lt; DL TP &lt; 250 Kbps (%)</th>\n",
       "      <th>250 Kbps &lt; DL TP &lt; 1 Mbps (%)</th>\n",
       "      <th>DL TP &gt; 1 Mbps (%)</th>\n",
       "      <th>UL TP &lt; 10 Kbps (%)</th>\n",
       "      <th>10 Kbps &lt; UL TP &lt; 50 Kbps (%)</th>\n",
       "      <th>50 Kbps &lt; UL TP &lt; 300 Kbps (%)</th>\n",
       "      <th>UL TP &gt; 300 Kbps (%)</th>\n",
       "      <th>Activity Duration DL (ms)</th>\n",
       "      <th>Activity Duration UL (ms)</th>\n",
       "      <th>Dur. (ms).1</th>\n",
       "      <th>Handset Manufacturer</th>\n",
       "      <th>Handset Type</th>\n",
       "      <th>Nb of sec with Vol DL &lt; 6250B</th>\n",
       "      <th>Nb of sec with Vol UL &lt; 1250B</th>\n",
       "      <th>Social Media DL (Bytes)</th>\n",
       "      <th>Social Media UL (Bytes)</th>\n",
       "      <th>Google DL (Bytes)</th>\n",
       "      <th>Google UL (Bytes)</th>\n",
       "      <th>Email DL (Bytes)</th>\n",
       "      <th>Email UL (Bytes)</th>\n",
       "      <th>Youtube DL (Bytes)</th>\n",
       "      <th>Youtube UL (Bytes)</th>\n",
       "      <th>Netflix DL (Bytes)</th>\n",
       "      <th>Netflix UL (Bytes)</th>\n",
       "      <th>Gaming DL (Bytes)</th>\n",
       "      <th>Gaming UL (Bytes)</th>\n",
       "      <th>Other DL (Bytes)</th>\n",
       "      <th>Other UL (Bytes)</th>\n",
       "      <th>Total UL (Bytes)</th>\n",
       "      <th>Total DL (Bytes)</th>\n",
       "      <th>Social Media Data Volume (Bytes)</th>\n",
       "      <th>Google Data Volume (Bytes)</th>\n",
       "      <th>Email Data Volume (Bytes)</th>\n",
       "      <th>Youtube Data Volume (Bytes)</th>\n",
       "      <th>Netflix Data Volume (Bytes)</th>\n",
       "      <th>Gaming Data Volume (Bytes)</th>\n",
       "      <th>Other Data Volume (Bytes)</th>\n",
       "      <th>Total Data Volume (Bytes)</th>\n",
       "    </tr>\n",
       "  </thead>\n",
       "  <tbody>\n",
       "    <tr>\n",
       "      <th>0</th>\n",
       "      <td>0</td>\n",
       "      <td>13114483460844900352.00</td>\n",
       "      <td>2019-04-04 12:01:00</td>\n",
       "      <td>770.00</td>\n",
       "      <td>2019-04-25 14:35:00</td>\n",
       "      <td>662.00</td>\n",
       "      <td>1823652.00</td>\n",
       "      <td>208201448079117.00</td>\n",
       "      <td>33664962239.00</td>\n",
       "      <td>35521209507511.00</td>\n",
       "      <td>9.16456699548519E+015</td>\n",
       "      <td>42.00</td>\n",
       "      <td>5.00</td>\n",
       "      <td>23.00</td>\n",
       "      <td>44.00</td>\n",
       "      <td>19520.00</td>\n",
       "      <td>7230.00</td>\n",
       "      <td>100.00</td>\n",
       "      <td>0.00</td>\n",
       "      <td>0.00</td>\n",
       "      <td>0.00</td>\n",
       "      <td>100.00</td>\n",
       "      <td>0.00</td>\n",
       "      <td>0.00</td>\n",
       "      <td>0.00</td>\n",
       "      <td>37624.00</td>\n",
       "      <td>38787.00</td>\n",
       "      <td>1823652892.00</td>\n",
       "      <td>Samsung</td>\n",
       "      <td>Samsung Galaxy A5 Sm-A520F</td>\n",
       "      <td>213.00</td>\n",
       "      <td>214.00</td>\n",
       "      <td>1545765.00</td>\n",
       "      <td>24420.00</td>\n",
       "      <td>1634479.00</td>\n",
       "      <td>1271433.00</td>\n",
       "      <td>3563542.00</td>\n",
       "      <td>137762.00</td>\n",
       "      <td>15854611.00</td>\n",
       "      <td>2501332.00</td>\n",
       "      <td>8198936.00</td>\n",
       "      <td>9656251.00</td>\n",
       "      <td>278082303.00</td>\n",
       "      <td>14344150.00</td>\n",
       "      <td>171744450.00</td>\n",
       "      <td>8814393.00</td>\n",
       "      <td>36749741.00</td>\n",
       "      <td>308879636.00</td>\n",
       "      <td>1570185.00</td>\n",
       "      <td>2905912.00</td>\n",
       "      <td>3701304.00</td>\n",
       "      <td>18355943.00</td>\n",
       "      <td>17855187.00</td>\n",
       "      <td>292426453.00</td>\n",
       "      <td>180558843.00</td>\n",
       "      <td>345629377.00</td>\n",
       "    </tr>\n",
       "    <tr>\n",
       "      <th>1</th>\n",
       "      <td>1</td>\n",
       "      <td>13114483482878900224.00</td>\n",
       "      <td>2019-04-09 13:04:00</td>\n",
       "      <td>235.00</td>\n",
       "      <td>2019-04-25 08:15:00</td>\n",
       "      <td>606.00</td>\n",
       "      <td>1365104.00</td>\n",
       "      <td>208201909211140.00</td>\n",
       "      <td>33681854413.00</td>\n",
       "      <td>35794009006359.00</td>\n",
       "      <td>L77566A</td>\n",
       "      <td>65.00</td>\n",
       "      <td>5.00</td>\n",
       "      <td>16.00</td>\n",
       "      <td>26.00</td>\n",
       "      <td>19520.00</td>\n",
       "      <td>7230.00</td>\n",
       "      <td>100.00</td>\n",
       "      <td>0.00</td>\n",
       "      <td>0.00</td>\n",
       "      <td>0.00</td>\n",
       "      <td>100.00</td>\n",
       "      <td>0.00</td>\n",
       "      <td>0.00</td>\n",
       "      <td>0.00</td>\n",
       "      <td>168.00</td>\n",
       "      <td>3560.00</td>\n",
       "      <td>1365104371.00</td>\n",
       "      <td>Samsung</td>\n",
       "      <td>Samsung Galaxy J5 (Sm-J530)</td>\n",
       "      <td>971.00</td>\n",
       "      <td>1022.00</td>\n",
       "      <td>1926113.00</td>\n",
       "      <td>7165.00</td>\n",
       "      <td>3493924.00</td>\n",
       "      <td>920172.00</td>\n",
       "      <td>629046.00</td>\n",
       "      <td>308339.00</td>\n",
       "      <td>20247395.00</td>\n",
       "      <td>19111729.00</td>\n",
       "      <td>18338413.00</td>\n",
       "      <td>17227132.00</td>\n",
       "      <td>608750074.00</td>\n",
       "      <td>1170709.00</td>\n",
       "      <td>526904238.00</td>\n",
       "      <td>15055145.00</td>\n",
       "      <td>53800391.00</td>\n",
       "      <td>653384965.00</td>\n",
       "      <td>1933278.00</td>\n",
       "      <td>4414096.00</td>\n",
       "      <td>937385.00</td>\n",
       "      <td>39359124.00</td>\n",
       "      <td>35565545.00</td>\n",
       "      <td>609920783.00</td>\n",
       "      <td>541959383.00</td>\n",
       "      <td>707185356.00</td>\n",
       "    </tr>\n",
       "    <tr>\n",
       "      <th>2</th>\n",
       "      <td>2</td>\n",
       "      <td>13114483484080500736.00</td>\n",
       "      <td>2019-04-09 17:42:00</td>\n",
       "      <td>1.00</td>\n",
       "      <td>2019-04-25 11:58:00</td>\n",
       "      <td>652.00</td>\n",
       "      <td>1361762.00</td>\n",
       "      <td>208200314458056.00</td>\n",
       "      <td>33760627129.00</td>\n",
       "      <td>35281510359387.00</td>\n",
       "      <td>D42335A</td>\n",
       "      <td>65.00</td>\n",
       "      <td>5.00</td>\n",
       "      <td>6.00</td>\n",
       "      <td>9.00</td>\n",
       "      <td>19520.00</td>\n",
       "      <td>7230.00</td>\n",
       "      <td>100.00</td>\n",
       "      <td>0.00</td>\n",
       "      <td>0.00</td>\n",
       "      <td>0.00</td>\n",
       "      <td>100.00</td>\n",
       "      <td>0.00</td>\n",
       "      <td>0.00</td>\n",
       "      <td>0.00</td>\n",
       "      <td>0.00</td>\n",
       "      <td>0.00</td>\n",
       "      <td>1361762651.00</td>\n",
       "      <td>Samsung</td>\n",
       "      <td>Samsung Galaxy A8 (2018)</td>\n",
       "      <td>751.00</td>\n",
       "      <td>695.00</td>\n",
       "      <td>1684053.00</td>\n",
       "      <td>42224.00</td>\n",
       "      <td>8535055.00</td>\n",
       "      <td>1694064.00</td>\n",
       "      <td>2690151.00</td>\n",
       "      <td>672973.00</td>\n",
       "      <td>19725661.00</td>\n",
       "      <td>14699576.00</td>\n",
       "      <td>17587794.00</td>\n",
       "      <td>6163408.00</td>\n",
       "      <td>229584621.00</td>\n",
       "      <td>395630.00</td>\n",
       "      <td>410692588.00</td>\n",
       "      <td>4215763.00</td>\n",
       "      <td>27883638.00</td>\n",
       "      <td>279807335.00</td>\n",
       "      <td>1726277.00</td>\n",
       "      <td>10229119.00</td>\n",
       "      <td>3363124.00</td>\n",
       "      <td>34425237.00</td>\n",
       "      <td>23751202.00</td>\n",
       "      <td>229980251.00</td>\n",
       "      <td>414908351.00</td>\n",
       "      <td>307690973.00</td>\n",
       "    </tr>\n",
       "    <tr>\n",
       "      <th>3</th>\n",
       "      <td>3</td>\n",
       "      <td>13114483485442799616.00</td>\n",
       "      <td>2019-04-10 00:31:00</td>\n",
       "      <td>486.00</td>\n",
       "      <td>2019-04-25 07:36:00</td>\n",
       "      <td>171.00</td>\n",
       "      <td>1321509.00</td>\n",
       "      <td>208201402342131.00</td>\n",
       "      <td>33750343200.00</td>\n",
       "      <td>35356610164913.00</td>\n",
       "      <td>T21824A</td>\n",
       "      <td>65.00</td>\n",
       "      <td>5.00</td>\n",
       "      <td>44.00</td>\n",
       "      <td>44.00</td>\n",
       "      <td>19520.00</td>\n",
       "      <td>7230.00</td>\n",
       "      <td>100.00</td>\n",
       "      <td>0.00</td>\n",
       "      <td>0.00</td>\n",
       "      <td>0.00</td>\n",
       "      <td>100.00</td>\n",
       "      <td>0.00</td>\n",
       "      <td>0.00</td>\n",
       "      <td>0.00</td>\n",
       "      <td>3330.00</td>\n",
       "      <td>37882.00</td>\n",
       "      <td>1321509685.00</td>\n",
       "      <td>unknown</td>\n",
       "      <td>unknown</td>\n",
       "      <td>17.00</td>\n",
       "      <td>207.00</td>\n",
       "      <td>644121.00</td>\n",
       "      <td>13372.00</td>\n",
       "      <td>9023734.00</td>\n",
       "      <td>2788027.00</td>\n",
       "      <td>1439754.00</td>\n",
       "      <td>631229.00</td>\n",
       "      <td>21388122.00</td>\n",
       "      <td>15146643.00</td>\n",
       "      <td>13994646.00</td>\n",
       "      <td>1097942.00</td>\n",
       "      <td>799538153.00</td>\n",
       "      <td>10849722.00</td>\n",
       "      <td>749039933.00</td>\n",
       "      <td>12797283.00</td>\n",
       "      <td>43324218.00</td>\n",
       "      <td>846028530.00</td>\n",
       "      <td>657493.00</td>\n",
       "      <td>11811761.00</td>\n",
       "      <td>2070983.00</td>\n",
       "      <td>36534765.00</td>\n",
       "      <td>15092588.00</td>\n",
       "      <td>810387875.00</td>\n",
       "      <td>761837216.00</td>\n",
       "      <td>889352748.00</td>\n",
       "    </tr>\n",
       "    <tr>\n",
       "      <th>4</th>\n",
       "      <td>4</td>\n",
       "      <td>13114483499480700928.00</td>\n",
       "      <td>2019-04-12 20:10:00</td>\n",
       "      <td>565.00</td>\n",
       "      <td>2019-04-25 10:40:00</td>\n",
       "      <td>954.00</td>\n",
       "      <td>1089009.00</td>\n",
       "      <td>208201401415120.00</td>\n",
       "      <td>33699795932.00</td>\n",
       "      <td>35407009745539.00</td>\n",
       "      <td>D88865A</td>\n",
       "      <td>65.00</td>\n",
       "      <td>5.00</td>\n",
       "      <td>6.00</td>\n",
       "      <td>9.00</td>\n",
       "      <td>19520.00</td>\n",
       "      <td>7230.00</td>\n",
       "      <td>100.00</td>\n",
       "      <td>0.00</td>\n",
       "      <td>0.00</td>\n",
       "      <td>0.00</td>\n",
       "      <td>100.00</td>\n",
       "      <td>0.00</td>\n",
       "      <td>0.00</td>\n",
       "      <td>0.00</td>\n",
       "      <td>0.00</td>\n",
       "      <td>0.00</td>\n",
       "      <td>1089009389.00</td>\n",
       "      <td>Samsung</td>\n",
       "      <td>Samsung Sm-G390F</td>\n",
       "      <td>607.00</td>\n",
       "      <td>604.00</td>\n",
       "      <td>862600.00</td>\n",
       "      <td>50188.00</td>\n",
       "      <td>6248284.00</td>\n",
       "      <td>1500559.00</td>\n",
       "      <td>1936496.00</td>\n",
       "      <td>173853.00</td>\n",
       "      <td>15259380.00</td>\n",
       "      <td>18962873.00</td>\n",
       "      <td>17124581.00</td>\n",
       "      <td>415218.00</td>\n",
       "      <td>527707248.00</td>\n",
       "      <td>3529801.00</td>\n",
       "      <td>550709500.00</td>\n",
       "      <td>13910322.00</td>\n",
       "      <td>38542814.00</td>\n",
       "      <td>569138589.00</td>\n",
       "      <td>912788.00</td>\n",
       "      <td>7748843.00</td>\n",
       "      <td>2110349.00</td>\n",
       "      <td>34222253.00</td>\n",
       "      <td>17539799.00</td>\n",
       "      <td>531237049.00</td>\n",
       "      <td>564619822.00</td>\n",
       "      <td>607681403.00</td>\n",
       "    </tr>\n",
       "  </tbody>\n",
       "</table>\n",
       "</div>"
      ],
      "text/plain": [
       "   Unnamed: 0               Bearer Id                Start  Start ms                  End  End ms  Dur. (ms)               IMSI  MSISDN/Number              IMEI     Last Location Name  Avg RTT DL (ms)  Avg RTT UL (ms)  Avg Bearer TP DL (kbps)  Avg Bearer TP UL (kbps)  TCP DL Retrans. Vol (Bytes)  TCP UL Retrans. Vol (Bytes)  DL TP < 50 Kbps (%)  50 Kbps < DL TP < 250 Kbps (%)  250 Kbps < DL TP < 1 Mbps (%)  DL TP > 1 Mbps (%)  UL TP < 10 Kbps (%)  10 Kbps < UL TP < 50 Kbps (%)  50 Kbps < UL TP < 300 Kbps (%)  UL TP > 300 Kbps (%)  Activity Duration DL (ms)  Activity Duration UL (ms)   Dur. (ms).1 Handset Manufacturer                 Handset Type  Nb of sec with Vol DL < 6250B  Nb of sec with Vol UL < 1250B  Social Media DL (Bytes)  Social Media UL (Bytes)  Google DL (Bytes)  Google UL (Bytes)  Email DL (Bytes)  Email UL (Bytes)  Youtube DL (Bytes)  Youtube UL (Bytes)  Netflix DL (Bytes)  Netflix UL (Bytes)  Gaming DL (Bytes)  Gaming UL (Bytes)  Other DL (Bytes)  Other UL (Bytes)  Total UL (Bytes)  Total DL (Bytes)  Social Media Data Volume (Bytes)  Google Data Volume (Bytes)  Email Data Volume (Bytes)  Youtube Data Volume (Bytes)  Netflix Data Volume (Bytes)  Gaming Data Volume (Bytes)  Other Data Volume (Bytes)  Total Data Volume (Bytes)\n",
       "0           0 13114483460844900352.00  2019-04-04 12:01:00    770.00  2019-04-25 14:35:00  662.00 1823652.00 208201448079117.00 33664962239.00 35521209507511.00  9.16456699548519E+015            42.00             5.00                    23.00                    44.00                     19520.00                      7230.00               100.00                            0.00                           0.00                0.00               100.00                           0.00                            0.00                  0.00                   37624.00                   38787.00 1823652892.00              Samsung   Samsung Galaxy A5 Sm-A520F                         213.00                         214.00               1545765.00                 24420.00         1634479.00         1271433.00        3563542.00         137762.00         15854611.00          2501332.00          8198936.00          9656251.00       278082303.00        14344150.00      171744450.00        8814393.00       36749741.00      308879636.00                        1570185.00                  2905912.00                 3701304.00                  18355943.00                  17855187.00                292426453.00               180558843.00               345629377.00\n",
       "1           1 13114483482878900224.00  2019-04-09 13:04:00    235.00  2019-04-25 08:15:00  606.00 1365104.00 208201909211140.00 33681854413.00 35794009006359.00                L77566A            65.00             5.00                    16.00                    26.00                     19520.00                      7230.00               100.00                            0.00                           0.00                0.00               100.00                           0.00                            0.00                  0.00                     168.00                    3560.00 1365104371.00              Samsung  Samsung Galaxy J5 (Sm-J530)                         971.00                        1022.00               1926113.00                  7165.00         3493924.00          920172.00         629046.00         308339.00         20247395.00         19111729.00         18338413.00         17227132.00       608750074.00         1170709.00      526904238.00       15055145.00       53800391.00      653384965.00                        1933278.00                  4414096.00                  937385.00                  39359124.00                  35565545.00                609920783.00               541959383.00               707185356.00\n",
       "2           2 13114483484080500736.00  2019-04-09 17:42:00      1.00  2019-04-25 11:58:00  652.00 1361762.00 208200314458056.00 33760627129.00 35281510359387.00                D42335A            65.00             5.00                     6.00                     9.00                     19520.00                      7230.00               100.00                            0.00                           0.00                0.00               100.00                           0.00                            0.00                  0.00                       0.00                       0.00 1361762651.00              Samsung     Samsung Galaxy A8 (2018)                         751.00                         695.00               1684053.00                 42224.00         8535055.00         1694064.00        2690151.00         672973.00         19725661.00         14699576.00         17587794.00          6163408.00       229584621.00          395630.00      410692588.00        4215763.00       27883638.00      279807335.00                        1726277.00                 10229119.00                 3363124.00                  34425237.00                  23751202.00                229980251.00               414908351.00               307690973.00\n",
       "3           3 13114483485442799616.00  2019-04-10 00:31:00    486.00  2019-04-25 07:36:00  171.00 1321509.00 208201402342131.00 33750343200.00 35356610164913.00                T21824A            65.00             5.00                    44.00                    44.00                     19520.00                      7230.00               100.00                            0.00                           0.00                0.00               100.00                           0.00                            0.00                  0.00                    3330.00                   37882.00 1321509685.00              unknown                      unknown                          17.00                         207.00                644121.00                 13372.00         9023734.00         2788027.00        1439754.00         631229.00         21388122.00         15146643.00         13994646.00          1097942.00       799538153.00        10849722.00      749039933.00       12797283.00       43324218.00      846028530.00                         657493.00                 11811761.00                 2070983.00                  36534765.00                  15092588.00                810387875.00               761837216.00               889352748.00\n",
       "4           4 13114483499480700928.00  2019-04-12 20:10:00    565.00  2019-04-25 10:40:00  954.00 1089009.00 208201401415120.00 33699795932.00 35407009745539.00                D88865A            65.00             5.00                     6.00                     9.00                     19520.00                      7230.00               100.00                            0.00                           0.00                0.00               100.00                           0.00                            0.00                  0.00                       0.00                       0.00 1089009389.00              Samsung             Samsung Sm-G390F                         607.00                         604.00                862600.00                 50188.00         6248284.00         1500559.00        1936496.00         173853.00         15259380.00         18962873.00         17124581.00           415218.00       527707248.00         3529801.00      550709500.00       13910322.00       38542814.00      569138589.00                         912788.00                  7748843.00                 2110349.00                  34222253.00                  17539799.00                531237049.00               564619822.00               607681403.00"
      ]
     },
     "execution_count": 6,
     "metadata": {},
     "output_type": "execute_result"
    }
   ],
   "source": [
    "df.head()"
   ]
  },
  {
   "cell_type": "code",
   "execution_count": 7,
   "metadata": {},
   "outputs": [],
   "source": [
    "df = df.drop(\"Unnamed: 0\", axis=1)"
   ]
  },
  {
   "cell_type": "code",
   "execution_count": 8,
   "metadata": {},
   "outputs": [
    {
     "data": {
      "text/html": [
       "<div>\n",
       "<style scoped>\n",
       "    .dataframe tbody tr th:only-of-type {\n",
       "        vertical-align: middle;\n",
       "    }\n",
       "\n",
       "    .dataframe tbody tr th {\n",
       "        vertical-align: top;\n",
       "    }\n",
       "\n",
       "    .dataframe thead th {\n",
       "        text-align: right;\n",
       "    }\n",
       "</style>\n",
       "<table border=\"1\" class=\"dataframe\">\n",
       "  <thead>\n",
       "    <tr style=\"text-align: right;\">\n",
       "      <th></th>\n",
       "      <th>Bearer Id</th>\n",
       "      <th>Start</th>\n",
       "      <th>Start ms</th>\n",
       "      <th>End</th>\n",
       "      <th>End ms</th>\n",
       "      <th>Dur. (ms)</th>\n",
       "      <th>IMSI</th>\n",
       "      <th>MSISDN/Number</th>\n",
       "      <th>IMEI</th>\n",
       "      <th>Last Location Name</th>\n",
       "      <th>Avg RTT DL (ms)</th>\n",
       "      <th>Avg RTT UL (ms)</th>\n",
       "      <th>Avg Bearer TP DL (kbps)</th>\n",
       "      <th>Avg Bearer TP UL (kbps)</th>\n",
       "      <th>TCP DL Retrans. Vol (Bytes)</th>\n",
       "      <th>TCP UL Retrans. Vol (Bytes)</th>\n",
       "      <th>DL TP &lt; 50 Kbps (%)</th>\n",
       "      <th>50 Kbps &lt; DL TP &lt; 250 Kbps (%)</th>\n",
       "      <th>250 Kbps &lt; DL TP &lt; 1 Mbps (%)</th>\n",
       "      <th>DL TP &gt; 1 Mbps (%)</th>\n",
       "      <th>UL TP &lt; 10 Kbps (%)</th>\n",
       "      <th>10 Kbps &lt; UL TP &lt; 50 Kbps (%)</th>\n",
       "      <th>50 Kbps &lt; UL TP &lt; 300 Kbps (%)</th>\n",
       "      <th>UL TP &gt; 300 Kbps (%)</th>\n",
       "      <th>Activity Duration DL (ms)</th>\n",
       "      <th>Activity Duration UL (ms)</th>\n",
       "      <th>Dur. (ms).1</th>\n",
       "      <th>Handset Manufacturer</th>\n",
       "      <th>Handset Type</th>\n",
       "      <th>Nb of sec with Vol DL &lt; 6250B</th>\n",
       "      <th>Nb of sec with Vol UL &lt; 1250B</th>\n",
       "      <th>Social Media DL (Bytes)</th>\n",
       "      <th>Social Media UL (Bytes)</th>\n",
       "      <th>Google DL (Bytes)</th>\n",
       "      <th>Google UL (Bytes)</th>\n",
       "      <th>Email DL (Bytes)</th>\n",
       "      <th>Email UL (Bytes)</th>\n",
       "      <th>Youtube DL (Bytes)</th>\n",
       "      <th>Youtube UL (Bytes)</th>\n",
       "      <th>Netflix DL (Bytes)</th>\n",
       "      <th>Netflix UL (Bytes)</th>\n",
       "      <th>Gaming DL (Bytes)</th>\n",
       "      <th>Gaming UL (Bytes)</th>\n",
       "      <th>Other DL (Bytes)</th>\n",
       "      <th>Other UL (Bytes)</th>\n",
       "      <th>Total UL (Bytes)</th>\n",
       "      <th>Total DL (Bytes)</th>\n",
       "      <th>Social Media Data Volume (Bytes)</th>\n",
       "      <th>Google Data Volume (Bytes)</th>\n",
       "      <th>Email Data Volume (Bytes)</th>\n",
       "      <th>Youtube Data Volume (Bytes)</th>\n",
       "      <th>Netflix Data Volume (Bytes)</th>\n",
       "      <th>Gaming Data Volume (Bytes)</th>\n",
       "      <th>Other Data Volume (Bytes)</th>\n",
       "      <th>Total Data Volume (Bytes)</th>\n",
       "    </tr>\n",
       "  </thead>\n",
       "  <tbody>\n",
       "    <tr>\n",
       "      <th>0</th>\n",
       "      <td>13114483460844900352.00</td>\n",
       "      <td>2019-04-04 12:01:00</td>\n",
       "      <td>770.00</td>\n",
       "      <td>2019-04-25 14:35:00</td>\n",
       "      <td>662.00</td>\n",
       "      <td>1823652.00</td>\n",
       "      <td>208201448079117.00</td>\n",
       "      <td>33664962239.00</td>\n",
       "      <td>35521209507511.00</td>\n",
       "      <td>9.16456699548519E+015</td>\n",
       "      <td>42.00</td>\n",
       "      <td>5.00</td>\n",
       "      <td>23.00</td>\n",
       "      <td>44.00</td>\n",
       "      <td>19520.00</td>\n",
       "      <td>7230.00</td>\n",
       "      <td>100.00</td>\n",
       "      <td>0.00</td>\n",
       "      <td>0.00</td>\n",
       "      <td>0.00</td>\n",
       "      <td>100.00</td>\n",
       "      <td>0.00</td>\n",
       "      <td>0.00</td>\n",
       "      <td>0.00</td>\n",
       "      <td>37624.00</td>\n",
       "      <td>38787.00</td>\n",
       "      <td>1823652892.00</td>\n",
       "      <td>Samsung</td>\n",
       "      <td>Samsung Galaxy A5 Sm-A520F</td>\n",
       "      <td>213.00</td>\n",
       "      <td>214.00</td>\n",
       "      <td>1545765.00</td>\n",
       "      <td>24420.00</td>\n",
       "      <td>1634479.00</td>\n",
       "      <td>1271433.00</td>\n",
       "      <td>3563542.00</td>\n",
       "      <td>137762.00</td>\n",
       "      <td>15854611.00</td>\n",
       "      <td>2501332.00</td>\n",
       "      <td>8198936.00</td>\n",
       "      <td>9656251.00</td>\n",
       "      <td>278082303.00</td>\n",
       "      <td>14344150.00</td>\n",
       "      <td>171744450.00</td>\n",
       "      <td>8814393.00</td>\n",
       "      <td>36749741.00</td>\n",
       "      <td>308879636.00</td>\n",
       "      <td>1570185.00</td>\n",
       "      <td>2905912.00</td>\n",
       "      <td>3701304.00</td>\n",
       "      <td>18355943.00</td>\n",
       "      <td>17855187.00</td>\n",
       "      <td>292426453.00</td>\n",
       "      <td>180558843.00</td>\n",
       "      <td>345629377.00</td>\n",
       "    </tr>\n",
       "    <tr>\n",
       "      <th>1</th>\n",
       "      <td>13114483482878900224.00</td>\n",
       "      <td>2019-04-09 13:04:00</td>\n",
       "      <td>235.00</td>\n",
       "      <td>2019-04-25 08:15:00</td>\n",
       "      <td>606.00</td>\n",
       "      <td>1365104.00</td>\n",
       "      <td>208201909211140.00</td>\n",
       "      <td>33681854413.00</td>\n",
       "      <td>35794009006359.00</td>\n",
       "      <td>L77566A</td>\n",
       "      <td>65.00</td>\n",
       "      <td>5.00</td>\n",
       "      <td>16.00</td>\n",
       "      <td>26.00</td>\n",
       "      <td>19520.00</td>\n",
       "      <td>7230.00</td>\n",
       "      <td>100.00</td>\n",
       "      <td>0.00</td>\n",
       "      <td>0.00</td>\n",
       "      <td>0.00</td>\n",
       "      <td>100.00</td>\n",
       "      <td>0.00</td>\n",
       "      <td>0.00</td>\n",
       "      <td>0.00</td>\n",
       "      <td>168.00</td>\n",
       "      <td>3560.00</td>\n",
       "      <td>1365104371.00</td>\n",
       "      <td>Samsung</td>\n",
       "      <td>Samsung Galaxy J5 (Sm-J530)</td>\n",
       "      <td>971.00</td>\n",
       "      <td>1022.00</td>\n",
       "      <td>1926113.00</td>\n",
       "      <td>7165.00</td>\n",
       "      <td>3493924.00</td>\n",
       "      <td>920172.00</td>\n",
       "      <td>629046.00</td>\n",
       "      <td>308339.00</td>\n",
       "      <td>20247395.00</td>\n",
       "      <td>19111729.00</td>\n",
       "      <td>18338413.00</td>\n",
       "      <td>17227132.00</td>\n",
       "      <td>608750074.00</td>\n",
       "      <td>1170709.00</td>\n",
       "      <td>526904238.00</td>\n",
       "      <td>15055145.00</td>\n",
       "      <td>53800391.00</td>\n",
       "      <td>653384965.00</td>\n",
       "      <td>1933278.00</td>\n",
       "      <td>4414096.00</td>\n",
       "      <td>937385.00</td>\n",
       "      <td>39359124.00</td>\n",
       "      <td>35565545.00</td>\n",
       "      <td>609920783.00</td>\n",
       "      <td>541959383.00</td>\n",
       "      <td>707185356.00</td>\n",
       "    </tr>\n",
       "    <tr>\n",
       "      <th>2</th>\n",
       "      <td>13114483484080500736.00</td>\n",
       "      <td>2019-04-09 17:42:00</td>\n",
       "      <td>1.00</td>\n",
       "      <td>2019-04-25 11:58:00</td>\n",
       "      <td>652.00</td>\n",
       "      <td>1361762.00</td>\n",
       "      <td>208200314458056.00</td>\n",
       "      <td>33760627129.00</td>\n",
       "      <td>35281510359387.00</td>\n",
       "      <td>D42335A</td>\n",
       "      <td>65.00</td>\n",
       "      <td>5.00</td>\n",
       "      <td>6.00</td>\n",
       "      <td>9.00</td>\n",
       "      <td>19520.00</td>\n",
       "      <td>7230.00</td>\n",
       "      <td>100.00</td>\n",
       "      <td>0.00</td>\n",
       "      <td>0.00</td>\n",
       "      <td>0.00</td>\n",
       "      <td>100.00</td>\n",
       "      <td>0.00</td>\n",
       "      <td>0.00</td>\n",
       "      <td>0.00</td>\n",
       "      <td>0.00</td>\n",
       "      <td>0.00</td>\n",
       "      <td>1361762651.00</td>\n",
       "      <td>Samsung</td>\n",
       "      <td>Samsung Galaxy A8 (2018)</td>\n",
       "      <td>751.00</td>\n",
       "      <td>695.00</td>\n",
       "      <td>1684053.00</td>\n",
       "      <td>42224.00</td>\n",
       "      <td>8535055.00</td>\n",
       "      <td>1694064.00</td>\n",
       "      <td>2690151.00</td>\n",
       "      <td>672973.00</td>\n",
       "      <td>19725661.00</td>\n",
       "      <td>14699576.00</td>\n",
       "      <td>17587794.00</td>\n",
       "      <td>6163408.00</td>\n",
       "      <td>229584621.00</td>\n",
       "      <td>395630.00</td>\n",
       "      <td>410692588.00</td>\n",
       "      <td>4215763.00</td>\n",
       "      <td>27883638.00</td>\n",
       "      <td>279807335.00</td>\n",
       "      <td>1726277.00</td>\n",
       "      <td>10229119.00</td>\n",
       "      <td>3363124.00</td>\n",
       "      <td>34425237.00</td>\n",
       "      <td>23751202.00</td>\n",
       "      <td>229980251.00</td>\n",
       "      <td>414908351.00</td>\n",
       "      <td>307690973.00</td>\n",
       "    </tr>\n",
       "    <tr>\n",
       "      <th>3</th>\n",
       "      <td>13114483485442799616.00</td>\n",
       "      <td>2019-04-10 00:31:00</td>\n",
       "      <td>486.00</td>\n",
       "      <td>2019-04-25 07:36:00</td>\n",
       "      <td>171.00</td>\n",
       "      <td>1321509.00</td>\n",
       "      <td>208201402342131.00</td>\n",
       "      <td>33750343200.00</td>\n",
       "      <td>35356610164913.00</td>\n",
       "      <td>T21824A</td>\n",
       "      <td>65.00</td>\n",
       "      <td>5.00</td>\n",
       "      <td>44.00</td>\n",
       "      <td>44.00</td>\n",
       "      <td>19520.00</td>\n",
       "      <td>7230.00</td>\n",
       "      <td>100.00</td>\n",
       "      <td>0.00</td>\n",
       "      <td>0.00</td>\n",
       "      <td>0.00</td>\n",
       "      <td>100.00</td>\n",
       "      <td>0.00</td>\n",
       "      <td>0.00</td>\n",
       "      <td>0.00</td>\n",
       "      <td>3330.00</td>\n",
       "      <td>37882.00</td>\n",
       "      <td>1321509685.00</td>\n",
       "      <td>unknown</td>\n",
       "      <td>unknown</td>\n",
       "      <td>17.00</td>\n",
       "      <td>207.00</td>\n",
       "      <td>644121.00</td>\n",
       "      <td>13372.00</td>\n",
       "      <td>9023734.00</td>\n",
       "      <td>2788027.00</td>\n",
       "      <td>1439754.00</td>\n",
       "      <td>631229.00</td>\n",
       "      <td>21388122.00</td>\n",
       "      <td>15146643.00</td>\n",
       "      <td>13994646.00</td>\n",
       "      <td>1097942.00</td>\n",
       "      <td>799538153.00</td>\n",
       "      <td>10849722.00</td>\n",
       "      <td>749039933.00</td>\n",
       "      <td>12797283.00</td>\n",
       "      <td>43324218.00</td>\n",
       "      <td>846028530.00</td>\n",
       "      <td>657493.00</td>\n",
       "      <td>11811761.00</td>\n",
       "      <td>2070983.00</td>\n",
       "      <td>36534765.00</td>\n",
       "      <td>15092588.00</td>\n",
       "      <td>810387875.00</td>\n",
       "      <td>761837216.00</td>\n",
       "      <td>889352748.00</td>\n",
       "    </tr>\n",
       "    <tr>\n",
       "      <th>4</th>\n",
       "      <td>13114483499480700928.00</td>\n",
       "      <td>2019-04-12 20:10:00</td>\n",
       "      <td>565.00</td>\n",
       "      <td>2019-04-25 10:40:00</td>\n",
       "      <td>954.00</td>\n",
       "      <td>1089009.00</td>\n",
       "      <td>208201401415120.00</td>\n",
       "      <td>33699795932.00</td>\n",
       "      <td>35407009745539.00</td>\n",
       "      <td>D88865A</td>\n",
       "      <td>65.00</td>\n",
       "      <td>5.00</td>\n",
       "      <td>6.00</td>\n",
       "      <td>9.00</td>\n",
       "      <td>19520.00</td>\n",
       "      <td>7230.00</td>\n",
       "      <td>100.00</td>\n",
       "      <td>0.00</td>\n",
       "      <td>0.00</td>\n",
       "      <td>0.00</td>\n",
       "      <td>100.00</td>\n",
       "      <td>0.00</td>\n",
       "      <td>0.00</td>\n",
       "      <td>0.00</td>\n",
       "      <td>0.00</td>\n",
       "      <td>0.00</td>\n",
       "      <td>1089009389.00</td>\n",
       "      <td>Samsung</td>\n",
       "      <td>Samsung Sm-G390F</td>\n",
       "      <td>607.00</td>\n",
       "      <td>604.00</td>\n",
       "      <td>862600.00</td>\n",
       "      <td>50188.00</td>\n",
       "      <td>6248284.00</td>\n",
       "      <td>1500559.00</td>\n",
       "      <td>1936496.00</td>\n",
       "      <td>173853.00</td>\n",
       "      <td>15259380.00</td>\n",
       "      <td>18962873.00</td>\n",
       "      <td>17124581.00</td>\n",
       "      <td>415218.00</td>\n",
       "      <td>527707248.00</td>\n",
       "      <td>3529801.00</td>\n",
       "      <td>550709500.00</td>\n",
       "      <td>13910322.00</td>\n",
       "      <td>38542814.00</td>\n",
       "      <td>569138589.00</td>\n",
       "      <td>912788.00</td>\n",
       "      <td>7748843.00</td>\n",
       "      <td>2110349.00</td>\n",
       "      <td>34222253.00</td>\n",
       "      <td>17539799.00</td>\n",
       "      <td>531237049.00</td>\n",
       "      <td>564619822.00</td>\n",
       "      <td>607681403.00</td>\n",
       "    </tr>\n",
       "  </tbody>\n",
       "</table>\n",
       "</div>"
      ],
      "text/plain": [
       "                Bearer Id                Start  Start ms                  End  End ms  Dur. (ms)               IMSI  MSISDN/Number              IMEI     Last Location Name  Avg RTT DL (ms)  Avg RTT UL (ms)  Avg Bearer TP DL (kbps)  Avg Bearer TP UL (kbps)  TCP DL Retrans. Vol (Bytes)  TCP UL Retrans. Vol (Bytes)  DL TP < 50 Kbps (%)  50 Kbps < DL TP < 250 Kbps (%)  250 Kbps < DL TP < 1 Mbps (%)  DL TP > 1 Mbps (%)  UL TP < 10 Kbps (%)  10 Kbps < UL TP < 50 Kbps (%)  50 Kbps < UL TP < 300 Kbps (%)  UL TP > 300 Kbps (%)  Activity Duration DL (ms)  Activity Duration UL (ms)   Dur. (ms).1 Handset Manufacturer                 Handset Type  Nb of sec with Vol DL < 6250B  Nb of sec with Vol UL < 1250B  Social Media DL (Bytes)  Social Media UL (Bytes)  Google DL (Bytes)  Google UL (Bytes)  Email DL (Bytes)  Email UL (Bytes)  Youtube DL (Bytes)  Youtube UL (Bytes)  Netflix DL (Bytes)  Netflix UL (Bytes)  Gaming DL (Bytes)  Gaming UL (Bytes)  Other DL (Bytes)  Other UL (Bytes)  Total UL (Bytes)  Total DL (Bytes)  Social Media Data Volume (Bytes)  Google Data Volume (Bytes)  Email Data Volume (Bytes)  Youtube Data Volume (Bytes)  Netflix Data Volume (Bytes)  Gaming Data Volume (Bytes)  Other Data Volume (Bytes)  Total Data Volume (Bytes)\n",
       "0 13114483460844900352.00  2019-04-04 12:01:00    770.00  2019-04-25 14:35:00  662.00 1823652.00 208201448079117.00 33664962239.00 35521209507511.00  9.16456699548519E+015            42.00             5.00                    23.00                    44.00                     19520.00                      7230.00               100.00                            0.00                           0.00                0.00               100.00                           0.00                            0.00                  0.00                   37624.00                   38787.00 1823652892.00              Samsung   Samsung Galaxy A5 Sm-A520F                         213.00                         214.00               1545765.00                 24420.00         1634479.00         1271433.00        3563542.00         137762.00         15854611.00          2501332.00          8198936.00          9656251.00       278082303.00        14344150.00      171744450.00        8814393.00       36749741.00      308879636.00                        1570185.00                  2905912.00                 3701304.00                  18355943.00                  17855187.00                292426453.00               180558843.00               345629377.00\n",
       "1 13114483482878900224.00  2019-04-09 13:04:00    235.00  2019-04-25 08:15:00  606.00 1365104.00 208201909211140.00 33681854413.00 35794009006359.00                L77566A            65.00             5.00                    16.00                    26.00                     19520.00                      7230.00               100.00                            0.00                           0.00                0.00               100.00                           0.00                            0.00                  0.00                     168.00                    3560.00 1365104371.00              Samsung  Samsung Galaxy J5 (Sm-J530)                         971.00                        1022.00               1926113.00                  7165.00         3493924.00          920172.00         629046.00         308339.00         20247395.00         19111729.00         18338413.00         17227132.00       608750074.00         1170709.00      526904238.00       15055145.00       53800391.00      653384965.00                        1933278.00                  4414096.00                  937385.00                  39359124.00                  35565545.00                609920783.00               541959383.00               707185356.00\n",
       "2 13114483484080500736.00  2019-04-09 17:42:00      1.00  2019-04-25 11:58:00  652.00 1361762.00 208200314458056.00 33760627129.00 35281510359387.00                D42335A            65.00             5.00                     6.00                     9.00                     19520.00                      7230.00               100.00                            0.00                           0.00                0.00               100.00                           0.00                            0.00                  0.00                       0.00                       0.00 1361762651.00              Samsung     Samsung Galaxy A8 (2018)                         751.00                         695.00               1684053.00                 42224.00         8535055.00         1694064.00        2690151.00         672973.00         19725661.00         14699576.00         17587794.00          6163408.00       229584621.00          395630.00      410692588.00        4215763.00       27883638.00      279807335.00                        1726277.00                 10229119.00                 3363124.00                  34425237.00                  23751202.00                229980251.00               414908351.00               307690973.00\n",
       "3 13114483485442799616.00  2019-04-10 00:31:00    486.00  2019-04-25 07:36:00  171.00 1321509.00 208201402342131.00 33750343200.00 35356610164913.00                T21824A            65.00             5.00                    44.00                    44.00                     19520.00                      7230.00               100.00                            0.00                           0.00                0.00               100.00                           0.00                            0.00                  0.00                    3330.00                   37882.00 1321509685.00              unknown                      unknown                          17.00                         207.00                644121.00                 13372.00         9023734.00         2788027.00        1439754.00         631229.00         21388122.00         15146643.00         13994646.00          1097942.00       799538153.00        10849722.00      749039933.00       12797283.00       43324218.00      846028530.00                         657493.00                 11811761.00                 2070983.00                  36534765.00                  15092588.00                810387875.00               761837216.00               889352748.00\n",
       "4 13114483499480700928.00  2019-04-12 20:10:00    565.00  2019-04-25 10:40:00  954.00 1089009.00 208201401415120.00 33699795932.00 35407009745539.00                D88865A            65.00             5.00                     6.00                     9.00                     19520.00                      7230.00               100.00                            0.00                           0.00                0.00               100.00                           0.00                            0.00                  0.00                       0.00                       0.00 1089009389.00              Samsung             Samsung Sm-G390F                         607.00                         604.00                862600.00                 50188.00         6248284.00         1500559.00        1936496.00         173853.00         15259380.00         18962873.00         17124581.00           415218.00       527707248.00         3529801.00      550709500.00       13910322.00       38542814.00      569138589.00                         912788.00                  7748843.00                 2110349.00                  34222253.00                  17539799.00                531237049.00               564619822.00               607681403.00"
      ]
     },
     "execution_count": 8,
     "metadata": {},
     "output_type": "execute_result"
    }
   ],
   "source": [
    "df.head()"
   ]
  },
  {
   "cell_type": "code",
   "execution_count": 9,
   "metadata": {},
   "outputs": [
    {
     "data": {
      "text/html": [
       "<div>\n",
       "<style scoped>\n",
       "    .dataframe tbody tr th:only-of-type {\n",
       "        vertical-align: middle;\n",
       "    }\n",
       "\n",
       "    .dataframe tbody tr th {\n",
       "        vertical-align: top;\n",
       "    }\n",
       "\n",
       "    .dataframe thead th {\n",
       "        text-align: right;\n",
       "    }\n",
       "</style>\n",
       "<table border=\"1\" class=\"dataframe\">\n",
       "  <thead>\n",
       "    <tr style=\"text-align: right;\">\n",
       "      <th></th>\n",
       "      <th>Bearer Id</th>\n",
       "    </tr>\n",
       "    <tr>\n",
       "      <th>MSISDN/Number</th>\n",
       "      <th></th>\n",
       "    </tr>\n",
       "  </thead>\n",
       "  <tbody>\n",
       "    <tr>\n",
       "      <th>33626320676.00</th>\n",
       "      <td>18</td>\n",
       "    </tr>\n",
       "    <tr>\n",
       "      <th>33625779332.00</th>\n",
       "      <td>17</td>\n",
       "    </tr>\n",
       "    <tr>\n",
       "      <th>33614892860.00</th>\n",
       "      <td>17</td>\n",
       "    </tr>\n",
       "    <tr>\n",
       "      <th>33659725664.00</th>\n",
       "      <td>16</td>\n",
       "    </tr>\n",
       "    <tr>\n",
       "      <th>33675877202.00</th>\n",
       "      <td>15</td>\n",
       "    </tr>\n",
       "    <tr>\n",
       "      <th>33760536639.00</th>\n",
       "      <td>15</td>\n",
       "    </tr>\n",
       "    <tr>\n",
       "      <th>33667163239.00</th>\n",
       "      <td>13</td>\n",
       "    </tr>\n",
       "    <tr>\n",
       "      <th>33604515716.00</th>\n",
       "      <td>12</td>\n",
       "    </tr>\n",
       "    <tr>\n",
       "      <th>33760413819.00</th>\n",
       "      <td>12</td>\n",
       "    </tr>\n",
       "    <tr>\n",
       "      <th>33627080969.00</th>\n",
       "      <td>12</td>\n",
       "    </tr>\n",
       "  </tbody>\n",
       "</table>\n",
       "</div>"
      ],
      "text/plain": [
       "                Bearer Id\n",
       "MSISDN/Number            \n",
       "33626320676.00         18\n",
       "33625779332.00         17\n",
       "33614892860.00         17\n",
       "33659725664.00         16\n",
       "33675877202.00         15\n",
       "33760536639.00         15\n",
       "33667163239.00         13\n",
       "33604515716.00         12\n",
       "33760413819.00         12\n",
       "33627080969.00         12"
      ]
     },
     "execution_count": 9,
     "metadata": {},
     "output_type": "execute_result"
    }
   ],
   "source": [
    "# Sessions frequency\n",
    "\n",
    "ms_gorup = df.groupby(\"MSISDN/Number\")\n",
    "sessions_frequency = ms_gorup.agg({\"Bearer Id\": \"count\"})\n",
    "#session_frequency = columen.\n",
    "Top = sessions_frequency.sort_values(by='Bearer Id', ascending=False)\n",
    "Top.head(10)"
   ]
  },
  {
   "cell_type": "code",
   "execution_count": 10,
   "metadata": {},
   "outputs": [
    {
     "data": {
      "text/html": [
       "<div>\n",
       "<style scoped>\n",
       "    .dataframe tbody tr th:only-of-type {\n",
       "        vertical-align: middle;\n",
       "    }\n",
       "\n",
       "    .dataframe tbody tr th {\n",
       "        vertical-align: top;\n",
       "    }\n",
       "\n",
       "    .dataframe thead th {\n",
       "        text-align: right;\n",
       "    }\n",
       "</style>\n",
       "<table border=\"1\" class=\"dataframe\">\n",
       "  <thead>\n",
       "    <tr style=\"text-align: right;\">\n",
       "      <th></th>\n",
       "      <th>Dur. (ms)</th>\n",
       "    </tr>\n",
       "    <tr>\n",
       "      <th>MSISDN/Number</th>\n",
       "      <th></th>\n",
       "    </tr>\n",
       "  </thead>\n",
       "  <tbody>\n",
       "    <tr>\n",
       "      <th>33601001722.00</th>\n",
       "      <td>116720.00</td>\n",
       "    </tr>\n",
       "    <tr>\n",
       "      <th>33601001754.00</th>\n",
       "      <td>181230.00</td>\n",
       "    </tr>\n",
       "    <tr>\n",
       "      <th>33601002511.00</th>\n",
       "      <td>134969.00</td>\n",
       "    </tr>\n",
       "    <tr>\n",
       "      <th>33601007832.00</th>\n",
       "      <td>49878.00</td>\n",
       "    </tr>\n",
       "    <tr>\n",
       "      <th>33601008617.00</th>\n",
       "      <td>37104.00</td>\n",
       "    </tr>\n",
       "    <tr>\n",
       "      <th>...</th>\n",
       "      <td>...</td>\n",
       "    </tr>\n",
       "    <tr>\n",
       "      <th>33789967113.00</th>\n",
       "      <td>160461.00</td>\n",
       "    </tr>\n",
       "    <tr>\n",
       "      <th>33789980299.00</th>\n",
       "      <td>210389.00</td>\n",
       "    </tr>\n",
       "    <tr>\n",
       "      <th>33789996170.00</th>\n",
       "      <td>8810.00</td>\n",
       "    </tr>\n",
       "    <tr>\n",
       "      <th>33789997247.00</th>\n",
       "      <td>140988.00</td>\n",
       "    </tr>\n",
       "    <tr>\n",
       "      <th>337000037000919.00</th>\n",
       "      <td>253030.00</td>\n",
       "    </tr>\n",
       "  </tbody>\n",
       "</table>\n",
       "<p>105716 rows × 1 columns</p>\n",
       "</div>"
      ],
      "text/plain": [
       "                    Dur. (ms)\n",
       "MSISDN/Number                \n",
       "33601001722.00      116720.00\n",
       "33601001754.00      181230.00\n",
       "33601002511.00      134969.00\n",
       "33601007832.00       49878.00\n",
       "33601008617.00       37104.00\n",
       "...                       ...\n",
       "33789967113.00      160461.00\n",
       "33789980299.00      210389.00\n",
       "33789996170.00        8810.00\n",
       "33789997247.00      140988.00\n",
       "337000037000919.00  253030.00\n",
       "\n",
       "[105716 rows x 1 columns]"
      ]
     },
     "execution_count": 10,
     "metadata": {},
     "output_type": "execute_result"
    }
   ],
   "source": [
    "duration_session = df.groupby(['MSISDN/Number']).agg({'Dur. (ms)':'sum'})\n",
    "duration_session"
   ]
  },
  {
   "cell_type": "code",
   "execution_count": 11,
   "metadata": {},
   "outputs": [
    {
     "data": {
      "text/html": [
       "<div>\n",
       "<style scoped>\n",
       "    .dataframe tbody tr th:only-of-type {\n",
       "        vertical-align: middle;\n",
       "    }\n",
       "\n",
       "    .dataframe tbody tr th {\n",
       "        vertical-align: top;\n",
       "    }\n",
       "\n",
       "    .dataframe thead th {\n",
       "        text-align: right;\n",
       "    }\n",
       "</style>\n",
       "<table border=\"1\" class=\"dataframe\">\n",
       "  <thead>\n",
       "    <tr style=\"text-align: right;\">\n",
       "      <th></th>\n",
       "      <th>Total Data Volume (Bytes)</th>\n",
       "    </tr>\n",
       "    <tr>\n",
       "      <th>MSISDN/Number</th>\n",
       "      <th></th>\n",
       "    </tr>\n",
       "  </thead>\n",
       "  <tbody>\n",
       "    <tr>\n",
       "      <th>33601001722.00</th>\n",
       "      <td>878690574.00</td>\n",
       "    </tr>\n",
       "    <tr>\n",
       "      <th>33601001754.00</th>\n",
       "      <td>156859643.00</td>\n",
       "    </tr>\n",
       "    <tr>\n",
       "      <th>33601002511.00</th>\n",
       "      <td>595966483.00</td>\n",
       "    </tr>\n",
       "    <tr>\n",
       "      <th>33601007832.00</th>\n",
       "      <td>422320698.00</td>\n",
       "    </tr>\n",
       "    <tr>\n",
       "      <th>33601008617.00</th>\n",
       "      <td>1457410944.00</td>\n",
       "    </tr>\n",
       "    <tr>\n",
       "      <th>...</th>\n",
       "      <td>...</td>\n",
       "    </tr>\n",
       "    <tr>\n",
       "      <th>33789967113.00</th>\n",
       "      <td>208123067.00</td>\n",
       "    </tr>\n",
       "    <tr>\n",
       "      <th>33789980299.00</th>\n",
       "      <td>1094693386.00</td>\n",
       "    </tr>\n",
       "    <tr>\n",
       "      <th>33789996170.00</th>\n",
       "      <td>714641641.00</td>\n",
       "    </tr>\n",
       "    <tr>\n",
       "      <th>33789997247.00</th>\n",
       "      <td>480307335.00</td>\n",
       "    </tr>\n",
       "    <tr>\n",
       "      <th>337000037000919.00</th>\n",
       "      <td>596287824.00</td>\n",
       "    </tr>\n",
       "  </tbody>\n",
       "</table>\n",
       "<p>105716 rows × 1 columns</p>\n",
       "</div>"
      ],
      "text/plain": [
       "                    Total Data Volume (Bytes)\n",
       "MSISDN/Number                                \n",
       "33601001722.00                   878690574.00\n",
       "33601001754.00                   156859643.00\n",
       "33601002511.00                   595966483.00\n",
       "33601007832.00                   422320698.00\n",
       "33601008617.00                  1457410944.00\n",
       "...                                       ...\n",
       "33789967113.00                   208123067.00\n",
       "33789980299.00                  1094693386.00\n",
       "33789996170.00                   714641641.00\n",
       "33789997247.00                   480307335.00\n",
       "337000037000919.00               596287824.00\n",
       "\n",
       "[105716 rows x 1 columns]"
      ]
     },
     "execution_count": 11,
     "metadata": {},
     "output_type": "execute_result"
    }
   ],
   "source": [
    "total_trafic = df.groupby(['MSISDN/Number']).agg({'Total Data Volume (Bytes)':'sum'})\n",
    "total_trafic"
   ]
  },
  {
   "cell_type": "markdown",
   "metadata": {},
   "source": [
    "## Task 2.1"
   ]
  },
  {
   "cell_type": "markdown",
   "metadata": {},
   "source": [
    "###### Aggregate the above metrics per customer id (MSISDN) and report the top 10 customers per engagement metric"
   ]
  },
  {
   "cell_type": "code",
   "execution_count": 12,
   "metadata": {},
   "outputs": [
    {
     "data": {
      "text/html": [
       "<div>\n",
       "<style scoped>\n",
       "    .dataframe tbody tr th:only-of-type {\n",
       "        vertical-align: middle;\n",
       "    }\n",
       "\n",
       "    .dataframe tbody tr th {\n",
       "        vertical-align: top;\n",
       "    }\n",
       "\n",
       "    .dataframe thead th {\n",
       "        text-align: right;\n",
       "    }\n",
       "</style>\n",
       "<table border=\"1\" class=\"dataframe\">\n",
       "  <thead>\n",
       "    <tr style=\"text-align: right;\">\n",
       "      <th></th>\n",
       "      <th>xDR Sessions</th>\n",
       "      <th>Dur. (ms)</th>\n",
       "      <th>Total Data Volume (Bytes)</th>\n",
       "    </tr>\n",
       "    <tr>\n",
       "      <th>MSISDN/Number</th>\n",
       "      <th></th>\n",
       "      <th></th>\n",
       "      <th></th>\n",
       "    </tr>\n",
       "  </thead>\n",
       "  <tbody>\n",
       "    <tr>\n",
       "      <th>33626320676.00</th>\n",
       "      <td>18</td>\n",
       "      <td>8791927.00</td>\n",
       "      <td>7971167261.00</td>\n",
       "    </tr>\n",
       "    <tr>\n",
       "      <th>33614892860.00</th>\n",
       "      <td>17</td>\n",
       "      <td>9966898.00</td>\n",
       "      <td>8846226494.00</td>\n",
       "    </tr>\n",
       "    <tr>\n",
       "      <th>33625779332.00</th>\n",
       "      <td>17</td>\n",
       "      <td>18553754.00</td>\n",
       "      <td>8499620722.00</td>\n",
       "    </tr>\n",
       "    <tr>\n",
       "      <th>33659725664.00</th>\n",
       "      <td>16</td>\n",
       "      <td>4035428.00</td>\n",
       "      <td>7705862783.00</td>\n",
       "    </tr>\n",
       "    <tr>\n",
       "      <th>33675877202.00</th>\n",
       "      <td>15</td>\n",
       "      <td>4865947.00</td>\n",
       "      <td>7891110608.00</td>\n",
       "    </tr>\n",
       "    <tr>\n",
       "      <th>33760536639.00</th>\n",
       "      <td>15</td>\n",
       "      <td>9279434.00</td>\n",
       "      <td>8514773963.00</td>\n",
       "    </tr>\n",
       "    <tr>\n",
       "      <th>33667163239.00</th>\n",
       "      <td>13</td>\n",
       "      <td>8744914.00</td>\n",
       "      <td>5618394054.00</td>\n",
       "    </tr>\n",
       "    <tr>\n",
       "      <th>33603127838.00</th>\n",
       "      <td>12</td>\n",
       "      <td>6287761.00</td>\n",
       "      <td>4976195043.00</td>\n",
       "    </tr>\n",
       "    <tr>\n",
       "      <th>33604515716.00</th>\n",
       "      <td>12</td>\n",
       "      <td>5207990.00</td>\n",
       "      <td>5487855293.00</td>\n",
       "    </tr>\n",
       "    <tr>\n",
       "      <th>33627080969.00</th>\n",
       "      <td>12</td>\n",
       "      <td>4703516.00</td>\n",
       "      <td>5754730859.00</td>\n",
       "    </tr>\n",
       "  </tbody>\n",
       "</table>\n",
       "</div>"
      ],
      "text/plain": [
       "                xDR Sessions   Dur. (ms)  Total Data Volume (Bytes)\n",
       "MSISDN/Number                                                      \n",
       "33626320676.00            18  8791927.00              7971167261.00\n",
       "33614892860.00            17  9966898.00              8846226494.00\n",
       "33625779332.00            17 18553754.00              8499620722.00\n",
       "33659725664.00            16  4035428.00              7705862783.00\n",
       "33675877202.00            15  4865947.00              7891110608.00\n",
       "33760536639.00            15  9279434.00              8514773963.00\n",
       "33667163239.00            13  8744914.00              5618394054.00\n",
       "33603127838.00            12  6287761.00              4976195043.00\n",
       "33604515716.00            12  5207990.00              5487855293.00\n",
       "33627080969.00            12  4703516.00              5754730859.00"
      ]
     },
     "execution_count": 12,
     "metadata": {},
     "output_type": "execute_result"
    }
   ],
   "source": [
    "top_engagement = df.groupby(\n",
    "    'MSISDN/Number').agg({'Bearer Id':'count', 'Dur. (ms)': 'sum', 'Total Data Volume (Bytes)': 'sum'})\n",
    "\n",
    "top_engagement=top_engagement.rename(columns ={'Bearer Id': 'xDR Sessions'}).nlargest(10,'xDR Sessions')\n",
    "top_engagement"
   ]
  },
  {
   "cell_type": "code",
   "execution_count": 13,
   "metadata": {},
   "outputs": [
    {
     "data": {
      "text/html": [
       "<div>\n",
       "<style scoped>\n",
       "    .dataframe tbody tr th:only-of-type {\n",
       "        vertical-align: middle;\n",
       "    }\n",
       "\n",
       "    .dataframe tbody tr th {\n",
       "        vertical-align: top;\n",
       "    }\n",
       "\n",
       "    .dataframe thead th {\n",
       "        text-align: right;\n",
       "    }\n",
       "</style>\n",
       "<table border=\"1\" class=\"dataframe\">\n",
       "  <thead>\n",
       "    <tr style=\"text-align: right;\">\n",
       "      <th></th>\n",
       "      <th>xDR Sessions</th>\n",
       "      <th>Dur. (ms)</th>\n",
       "      <th>Total Data Volume (Bytes)</th>\n",
       "    </tr>\n",
       "    <tr>\n",
       "      <th>MSISDN/Number</th>\n",
       "      <th></th>\n",
       "      <th></th>\n",
       "      <th></th>\n",
       "    </tr>\n",
       "  </thead>\n",
       "  <tbody>\n",
       "    <tr>\n",
       "      <th>33625779332.00</th>\n",
       "      <td>17</td>\n",
       "      <td>18553754.00</td>\n",
       "      <td>8499620722.00</td>\n",
       "    </tr>\n",
       "    <tr>\n",
       "      <th>33614892860.00</th>\n",
       "      <td>17</td>\n",
       "      <td>9966898.00</td>\n",
       "      <td>8846226494.00</td>\n",
       "    </tr>\n",
       "    <tr>\n",
       "      <th>33760536639.00</th>\n",
       "      <td>15</td>\n",
       "      <td>9279434.00</td>\n",
       "      <td>8514773963.00</td>\n",
       "    </tr>\n",
       "    <tr>\n",
       "      <th>33626320676.00</th>\n",
       "      <td>18</td>\n",
       "      <td>8791927.00</td>\n",
       "      <td>7971167261.00</td>\n",
       "    </tr>\n",
       "    <tr>\n",
       "      <th>33667163239.00</th>\n",
       "      <td>13</td>\n",
       "      <td>8744914.00</td>\n",
       "      <td>5618394054.00</td>\n",
       "    </tr>\n",
       "    <tr>\n",
       "      <th>33603127838.00</th>\n",
       "      <td>12</td>\n",
       "      <td>6287761.00</td>\n",
       "      <td>4976195043.00</td>\n",
       "    </tr>\n",
       "    <tr>\n",
       "      <th>33604515716.00</th>\n",
       "      <td>12</td>\n",
       "      <td>5207990.00</td>\n",
       "      <td>5487855293.00</td>\n",
       "    </tr>\n",
       "    <tr>\n",
       "      <th>33675877202.00</th>\n",
       "      <td>15</td>\n",
       "      <td>4865947.00</td>\n",
       "      <td>7891110608.00</td>\n",
       "    </tr>\n",
       "    <tr>\n",
       "      <th>33627080969.00</th>\n",
       "      <td>12</td>\n",
       "      <td>4703516.00</td>\n",
       "      <td>5754730859.00</td>\n",
       "    </tr>\n",
       "    <tr>\n",
       "      <th>33659725664.00</th>\n",
       "      <td>16</td>\n",
       "      <td>4035428.00</td>\n",
       "      <td>7705862783.00</td>\n",
       "    </tr>\n",
       "  </tbody>\n",
       "</table>\n",
       "</div>"
      ],
      "text/plain": [
       "                xDR Sessions   Dur. (ms)  Total Data Volume (Bytes)\n",
       "MSISDN/Number                                                      \n",
       "33625779332.00            17 18553754.00              8499620722.00\n",
       "33614892860.00            17  9966898.00              8846226494.00\n",
       "33760536639.00            15  9279434.00              8514773963.00\n",
       "33626320676.00            18  8791927.00              7971167261.00\n",
       "33667163239.00            13  8744914.00              5618394054.00\n",
       "33603127838.00            12  6287761.00              4976195043.00\n",
       "33604515716.00            12  5207990.00              5487855293.00\n",
       "33675877202.00            15  4865947.00              7891110608.00\n",
       "33627080969.00            12  4703516.00              5754730859.00\n",
       "33659725664.00            16  4035428.00              7705862783.00"
      ]
     },
     "execution_count": 13,
     "metadata": {},
     "output_type": "execute_result"
    }
   ],
   "source": [
    "top_engagement.nlargest(10,'Dur. (ms)')"
   ]
  },
  {
   "cell_type": "code",
   "execution_count": 14,
   "metadata": {},
   "outputs": [
    {
     "data": {
      "text/html": [
       "<div>\n",
       "<style scoped>\n",
       "    .dataframe tbody tr th:only-of-type {\n",
       "        vertical-align: middle;\n",
       "    }\n",
       "\n",
       "    .dataframe tbody tr th {\n",
       "        vertical-align: top;\n",
       "    }\n",
       "\n",
       "    .dataframe thead th {\n",
       "        text-align: right;\n",
       "    }\n",
       "</style>\n",
       "<table border=\"1\" class=\"dataframe\">\n",
       "  <thead>\n",
       "    <tr style=\"text-align: right;\">\n",
       "      <th></th>\n",
       "      <th>xDR Sessions</th>\n",
       "      <th>Dur. (ms)</th>\n",
       "      <th>Total Data Volume (Bytes)</th>\n",
       "    </tr>\n",
       "    <tr>\n",
       "      <th>MSISDN/Number</th>\n",
       "      <th></th>\n",
       "      <th></th>\n",
       "      <th></th>\n",
       "    </tr>\n",
       "  </thead>\n",
       "  <tbody>\n",
       "    <tr>\n",
       "      <th>33614892860.00</th>\n",
       "      <td>17</td>\n",
       "      <td>9966898.00</td>\n",
       "      <td>8846226494.00</td>\n",
       "    </tr>\n",
       "    <tr>\n",
       "      <th>33760536639.00</th>\n",
       "      <td>15</td>\n",
       "      <td>9279434.00</td>\n",
       "      <td>8514773963.00</td>\n",
       "    </tr>\n",
       "    <tr>\n",
       "      <th>33625779332.00</th>\n",
       "      <td>17</td>\n",
       "      <td>18553754.00</td>\n",
       "      <td>8499620722.00</td>\n",
       "    </tr>\n",
       "    <tr>\n",
       "      <th>33626320676.00</th>\n",
       "      <td>18</td>\n",
       "      <td>8791927.00</td>\n",
       "      <td>7971167261.00</td>\n",
       "    </tr>\n",
       "    <tr>\n",
       "      <th>33675877202.00</th>\n",
       "      <td>15</td>\n",
       "      <td>4865947.00</td>\n",
       "      <td>7891110608.00</td>\n",
       "    </tr>\n",
       "    <tr>\n",
       "      <th>33659725664.00</th>\n",
       "      <td>16</td>\n",
       "      <td>4035428.00</td>\n",
       "      <td>7705862783.00</td>\n",
       "    </tr>\n",
       "    <tr>\n",
       "      <th>33627080969.00</th>\n",
       "      <td>12</td>\n",
       "      <td>4703516.00</td>\n",
       "      <td>5754730859.00</td>\n",
       "    </tr>\n",
       "    <tr>\n",
       "      <th>33667163239.00</th>\n",
       "      <td>13</td>\n",
       "      <td>8744914.00</td>\n",
       "      <td>5618394054.00</td>\n",
       "    </tr>\n",
       "    <tr>\n",
       "      <th>33604515716.00</th>\n",
       "      <td>12</td>\n",
       "      <td>5207990.00</td>\n",
       "      <td>5487855293.00</td>\n",
       "    </tr>\n",
       "    <tr>\n",
       "      <th>33603127838.00</th>\n",
       "      <td>12</td>\n",
       "      <td>6287761.00</td>\n",
       "      <td>4976195043.00</td>\n",
       "    </tr>\n",
       "  </tbody>\n",
       "</table>\n",
       "</div>"
      ],
      "text/plain": [
       "                xDR Sessions   Dur. (ms)  Total Data Volume (Bytes)\n",
       "MSISDN/Number                                                      \n",
       "33614892860.00            17  9966898.00              8846226494.00\n",
       "33760536639.00            15  9279434.00              8514773963.00\n",
       "33625779332.00            17 18553754.00              8499620722.00\n",
       "33626320676.00            18  8791927.00              7971167261.00\n",
       "33675877202.00            15  4865947.00              7891110608.00\n",
       "33659725664.00            16  4035428.00              7705862783.00\n",
       "33627080969.00            12  4703516.00              5754730859.00\n",
       "33667163239.00            13  8744914.00              5618394054.00\n",
       "33604515716.00            12  5207990.00              5487855293.00\n",
       "33603127838.00            12  6287761.00              4976195043.00"
      ]
     },
     "execution_count": 14,
     "metadata": {},
     "output_type": "execute_result"
    }
   ],
   "source": [
    "top_engagement.nlargest(10,'Total Data Volume (Bytes)')"
   ]
  },
  {
   "cell_type": "code",
   "execution_count": 15,
   "metadata": {},
   "outputs": [
    {
     "data": {
      "text/html": [
       "<div>\n",
       "<style scoped>\n",
       "    .dataframe tbody tr th:only-of-type {\n",
       "        vertical-align: middle;\n",
       "    }\n",
       "\n",
       "    .dataframe tbody tr th {\n",
       "        vertical-align: top;\n",
       "    }\n",
       "\n",
       "    .dataframe thead th {\n",
       "        text-align: right;\n",
       "    }\n",
       "</style>\n",
       "<table border=\"1\" class=\"dataframe\">\n",
       "  <thead>\n",
       "    <tr style=\"text-align: right;\">\n",
       "      <th>label</th>\n",
       "      <th>xDR Sessions</th>\n",
       "      <th>Dur. (ms)</th>\n",
       "      <th>Total Data Volume (Bytes)</th>\n",
       "    </tr>\n",
       "  </thead>\n",
       "  <tbody>\n",
       "    <tr>\n",
       "      <th>Q1</th>\n",
       "      <td>12.25</td>\n",
       "      <td>4951457.75</td>\n",
       "      <td>5652478255.25</td>\n",
       "    </tr>\n",
       "    <tr>\n",
       "      <th>median</th>\n",
       "      <td>15.00</td>\n",
       "      <td>7516337.50</td>\n",
       "      <td>7798486695.50</td>\n",
       "    </tr>\n",
       "    <tr>\n",
       "      <th>Q3</th>\n",
       "      <td>16.75</td>\n",
       "      <td>9157557.25</td>\n",
       "      <td>8367507356.75</td>\n",
       "    </tr>\n",
       "    <tr>\n",
       "      <th>IQR</th>\n",
       "      <td>4.50</td>\n",
       "      <td>4206099.50</td>\n",
       "      <td>2715029101.50</td>\n",
       "    </tr>\n",
       "    <tr>\n",
       "      <th>skew</th>\n",
       "      <td>-0.02</td>\n",
       "      <td>1.78</td>\n",
       "      <td>-0.37</td>\n",
       "    </tr>\n",
       "    <tr>\n",
       "      <th>number_of_outliers</th>\n",
       "      <td>0</td>\n",
       "      <td>1</td>\n",
       "      <td>0</td>\n",
       "    </tr>\n",
       "    <tr>\n",
       "      <th>percentage_of_outliers</th>\n",
       "      <td>0.0%</td>\n",
       "      <td>10.0%</td>\n",
       "      <td>0.0%</td>\n",
       "    </tr>\n",
       "    <tr>\n",
       "      <th>min_value</th>\n",
       "      <td>12.00</td>\n",
       "      <td>4035428.00</td>\n",
       "      <td>4976195043.00</td>\n",
       "    </tr>\n",
       "    <tr>\n",
       "      <th>max_value</th>\n",
       "      <td>18.00</td>\n",
       "      <td>18553754.00</td>\n",
       "      <td>8846226494.00</td>\n",
       "    </tr>\n",
       "    <tr>\n",
       "      <th>mean</th>\n",
       "      <td>14.70</td>\n",
       "      <td>8043756.90</td>\n",
       "      <td>7126593708.00</td>\n",
       "    </tr>\n",
       "    <tr>\n",
       "      <th>lower</th>\n",
       "      <td>5.50</td>\n",
       "      <td>-1357691.50</td>\n",
       "      <td>1579934603.00</td>\n",
       "    </tr>\n",
       "    <tr>\n",
       "      <th>upper</th>\n",
       "      <td>23.50</td>\n",
       "      <td>15466706.50</td>\n",
       "      <td>12440051009.00</td>\n",
       "    </tr>\n",
       "  </tbody>\n",
       "</table>\n",
       "</div>"
      ],
      "text/plain": [
       "label                  xDR Sessions   Dur. (ms) Total Data Volume (Bytes)\n",
       "Q1                            12.25  4951457.75             5652478255.25\n",
       "median                        15.00  7516337.50             7798486695.50\n",
       "Q3                            16.75  9157557.25             8367507356.75\n",
       "IQR                            4.50  4206099.50             2715029101.50\n",
       "skew                          -0.02        1.78                     -0.37\n",
       "number_of_outliers                0           1                         0\n",
       "percentage_of_outliers         0.0%       10.0%                      0.0%\n",
       "min_value                     12.00  4035428.00             4976195043.00\n",
       "max_value                     18.00 18553754.00             8846226494.00\n",
       "mean                          14.70  8043756.90             7126593708.00\n",
       "lower                          5.50 -1357691.50             1579934603.00\n",
       "upper                         23.50 15466706.50            12440051009.00"
      ]
     },
     "execution_count": 15,
     "metadata": {},
     "output_type": "execute_result"
    }
   ],
   "source": [
    "df_outliers= Outlier(top_engagement)\n",
    "df_outliers.getOverview().T"
   ]
  },
  {
   "cell_type": "markdown",
   "metadata": {},
   "source": [
    "#### Normalizing and standardizing for K means clustering"
   ]
  },
  {
   "cell_type": "code",
   "execution_count": 16,
   "metadata": {},
   "outputs": [
    {
     "data": {
      "text/html": [
       "<div>\n",
       "<style scoped>\n",
       "    .dataframe tbody tr th:only-of-type {\n",
       "        vertical-align: middle;\n",
       "    }\n",
       "\n",
       "    .dataframe tbody tr th {\n",
       "        vertical-align: top;\n",
       "    }\n",
       "\n",
       "    .dataframe thead th {\n",
       "        text-align: right;\n",
       "    }\n",
       "</style>\n",
       "<table border=\"1\" class=\"dataframe\">\n",
       "  <thead>\n",
       "    <tr style=\"text-align: right;\">\n",
       "      <th>label</th>\n",
       "      <th>xDR Sessions</th>\n",
       "      <th>Dur. (ms)</th>\n",
       "      <th>Total Data Volume (Bytes)</th>\n",
       "    </tr>\n",
       "  </thead>\n",
       "  <tbody>\n",
       "    <tr>\n",
       "      <th>Q1</th>\n",
       "      <td>12.25</td>\n",
       "      <td>4951457.75</td>\n",
       "      <td>5652478255.25</td>\n",
       "    </tr>\n",
       "    <tr>\n",
       "      <th>median</th>\n",
       "      <td>15.00</td>\n",
       "      <td>7516337.50</td>\n",
       "      <td>7798486695.50</td>\n",
       "    </tr>\n",
       "    <tr>\n",
       "      <th>Q3</th>\n",
       "      <td>16.75</td>\n",
       "      <td>9157557.25</td>\n",
       "      <td>8367507356.75</td>\n",
       "    </tr>\n",
       "    <tr>\n",
       "      <th>IQR</th>\n",
       "      <td>4.50</td>\n",
       "      <td>4206099.50</td>\n",
       "      <td>2715029101.50</td>\n",
       "    </tr>\n",
       "    <tr>\n",
       "      <th>skew</th>\n",
       "      <td>-0.02</td>\n",
       "      <td>1.78</td>\n",
       "      <td>-0.37</td>\n",
       "    </tr>\n",
       "    <tr>\n",
       "      <th>number_of_outliers</th>\n",
       "      <td>0</td>\n",
       "      <td>1</td>\n",
       "      <td>0</td>\n",
       "    </tr>\n",
       "    <tr>\n",
       "      <th>percentage_of_outliers</th>\n",
       "      <td>0.0%</td>\n",
       "      <td>10.0%</td>\n",
       "      <td>0.0%</td>\n",
       "    </tr>\n",
       "    <tr>\n",
       "      <th>min_value</th>\n",
       "      <td>12.00</td>\n",
       "      <td>4035428.00</td>\n",
       "      <td>4976195043.00</td>\n",
       "    </tr>\n",
       "    <tr>\n",
       "      <th>max_value</th>\n",
       "      <td>18.00</td>\n",
       "      <td>18553754.00</td>\n",
       "      <td>8846226494.00</td>\n",
       "    </tr>\n",
       "    <tr>\n",
       "      <th>mean</th>\n",
       "      <td>14.70</td>\n",
       "      <td>8043756.90</td>\n",
       "      <td>7126593708.00</td>\n",
       "    </tr>\n",
       "    <tr>\n",
       "      <th>lower</th>\n",
       "      <td>5.50</td>\n",
       "      <td>-1357691.50</td>\n",
       "      <td>1579934603.00</td>\n",
       "    </tr>\n",
       "    <tr>\n",
       "      <th>upper</th>\n",
       "      <td>23.50</td>\n",
       "      <td>15466706.50</td>\n",
       "      <td>12440051009.00</td>\n",
       "    </tr>\n",
       "  </tbody>\n",
       "</table>\n",
       "</div>"
      ],
      "text/plain": [
       "label                  xDR Sessions   Dur. (ms) Total Data Volume (Bytes)\n",
       "Q1                            12.25  4951457.75             5652478255.25\n",
       "median                        15.00  7516337.50             7798486695.50\n",
       "Q3                            16.75  9157557.25             8367507356.75\n",
       "IQR                            4.50  4206099.50             2715029101.50\n",
       "skew                          -0.02        1.78                     -0.37\n",
       "number_of_outliers                0           1                         0\n",
       "percentage_of_outliers         0.0%       10.0%                      0.0%\n",
       "min_value                     12.00  4035428.00             4976195043.00\n",
       "max_value                     18.00 18553754.00             8846226494.00\n",
       "mean                          14.70  8043756.90             7126593708.00\n",
       "lower                          5.50 -1357691.50             1579934603.00\n",
       "upper                         23.50 15466706.50            12440051009.00"
      ]
     },
     "execution_count": 16,
     "metadata": {},
     "output_type": "execute_result"
    }
   ],
   "source": [
    "df_outliers= Outlier(top_engagement)\n",
    "df_outliers.getOverview().T\n"
   ]
  },
  {
   "cell_type": "code",
   "execution_count": 17,
   "metadata": {},
   "outputs": [
    {
     "data": {
      "text/html": [
       "<div>\n",
       "<style scoped>\n",
       "    .dataframe tbody tr th:only-of-type {\n",
       "        vertical-align: middle;\n",
       "    }\n",
       "\n",
       "    .dataframe tbody tr th {\n",
       "        vertical-align: top;\n",
       "    }\n",
       "\n",
       "    .dataframe thead th {\n",
       "        text-align: right;\n",
       "    }\n",
       "</style>\n",
       "<table border=\"1\" class=\"dataframe\">\n",
       "  <thead>\n",
       "    <tr style=\"text-align: right;\">\n",
       "      <th>label</th>\n",
       "      <th>xDR Sessions</th>\n",
       "      <th>Dur. (ms)</th>\n",
       "      <th>Total Data Volume (Bytes)</th>\n",
       "    </tr>\n",
       "  </thead>\n",
       "  <tbody>\n",
       "    <tr>\n",
       "      <th>Q1</th>\n",
       "      <td>12.25</td>\n",
       "      <td>4951457.75</td>\n",
       "      <td>5652478255.25</td>\n",
       "    </tr>\n",
       "    <tr>\n",
       "      <th>median</th>\n",
       "      <td>15.00</td>\n",
       "      <td>7516337.50</td>\n",
       "      <td>7798486695.50</td>\n",
       "    </tr>\n",
       "    <tr>\n",
       "      <th>Q3</th>\n",
       "      <td>16.75</td>\n",
       "      <td>9157557.25</td>\n",
       "      <td>8367507356.75</td>\n",
       "    </tr>\n",
       "    <tr>\n",
       "      <th>IQR</th>\n",
       "      <td>4.50</td>\n",
       "      <td>4206099.50</td>\n",
       "      <td>2715029101.50</td>\n",
       "    </tr>\n",
       "    <tr>\n",
       "      <th>skew</th>\n",
       "      <td>-0.02</td>\n",
       "      <td>1.18</td>\n",
       "      <td>-0.37</td>\n",
       "    </tr>\n",
       "    <tr>\n",
       "      <th>number_of_outliers</th>\n",
       "      <td>0</td>\n",
       "      <td>0</td>\n",
       "      <td>0</td>\n",
       "    </tr>\n",
       "    <tr>\n",
       "      <th>percentage_of_outliers</th>\n",
       "      <td>0.0%</td>\n",
       "      <td>0.0%</td>\n",
       "      <td>0.0%</td>\n",
       "    </tr>\n",
       "    <tr>\n",
       "      <th>min_value</th>\n",
       "      <td>12.00</td>\n",
       "      <td>4035428.00</td>\n",
       "      <td>4976195043.00</td>\n",
       "    </tr>\n",
       "    <tr>\n",
       "      <th>max_value</th>\n",
       "      <td>18.00</td>\n",
       "      <td>15466706.50</td>\n",
       "      <td>8846226494.00</td>\n",
       "    </tr>\n",
       "    <tr>\n",
       "      <th>mean</th>\n",
       "      <td>14.70</td>\n",
       "      <td>7735052.15</td>\n",
       "      <td>7126593708.00</td>\n",
       "    </tr>\n",
       "    <tr>\n",
       "      <th>lower</th>\n",
       "      <td>5.50</td>\n",
       "      <td>-1357691.50</td>\n",
       "      <td>1579934603.00</td>\n",
       "    </tr>\n",
       "    <tr>\n",
       "      <th>upper</th>\n",
       "      <td>23.50</td>\n",
       "      <td>15466706.50</td>\n",
       "      <td>12440051009.00</td>\n",
       "    </tr>\n",
       "  </tbody>\n",
       "</table>\n",
       "</div>"
      ],
      "text/plain": [
       "label                  xDR Sessions   Dur. (ms) Total Data Volume (Bytes)\n",
       "Q1                            12.25  4951457.75             5652478255.25\n",
       "median                        15.00  7516337.50             7798486695.50\n",
       "Q3                            16.75  9157557.25             8367507356.75\n",
       "IQR                            4.50  4206099.50             2715029101.50\n",
       "skew                          -0.02        1.18                     -0.37\n",
       "number_of_outliers                0           0                         0\n",
       "percentage_of_outliers         0.0%        0.0%                      0.0%\n",
       "min_value                     12.00  4035428.00             4976195043.00\n",
       "max_value                     18.00 15466706.50             8846226494.00\n",
       "mean                          14.70  7735052.15             7126593708.00\n",
       "lower                          5.50 -1357691.50             1579934603.00\n",
       "upper                         23.50 15466706.50            12440051009.00"
      ]
     },
     "execution_count": 17,
     "metadata": {},
     "output_type": "execute_result"
    }
   ],
   "source": [
    "df_outliers.replace_outliers_with_iqr(\n",
    "    ['xDR Sessions', 'Dur. (ms)', 'Total Data Volume (Bytes)'])\n",
    "df_outliers = Outlier(top_engagement)\n",
    "df_outliers.getOverview().T"
   ]
  },
  {
   "cell_type": "code",
   "execution_count": 18,
   "metadata": {},
   "outputs": [
    {
     "data": {
      "text/plain": [
       "<matplotlib.axes._subplots.AxesSubplot at 0x28212630c88>"
      ]
     },
     "execution_count": 18,
     "metadata": {},
     "output_type": "execute_result"
    },
    {
     "data": {
      "image/png": "[encoded data removed]",
      "text/plain": [
       "<Figure size 432x288 with 1 Axes>"
      ]
     },
     "metadata": {
      "needs_background": "light"
     },
     "output_type": "display_data"
    }
   ],
   "source": [
    "top_engagement.boxplot()"
   ]
  },
  {
   "cell_type": "code",
   "execution_count": 19,
   "metadata": {},
   "outputs": [],
   "source": [
    "# scale data\n",
    "scaler = StandardScaler()\n"
   ]
  },
  {
   "cell_type": "code",
   "execution_count": 20,
   "metadata": {},
   "outputs": [
    {
     "data": {
      "text/html": [
       "<div>\n",
       "<style scoped>\n",
       "    .dataframe tbody tr th:only-of-type {\n",
       "        vertical-align: middle;\n",
       "    }\n",
       "\n",
       "    .dataframe tbody tr th {\n",
       "        vertical-align: top;\n",
       "    }\n",
       "\n",
       "    .dataframe thead th {\n",
       "        text-align: right;\n",
       "    }\n",
       "</style>\n",
       "<table border=\"1\" class=\"dataframe\">\n",
       "  <thead>\n",
       "    <tr style=\"text-align: right;\">\n",
       "      <th></th>\n",
       "      <th>0</th>\n",
       "      <th>1</th>\n",
       "      <th>2</th>\n",
       "    </tr>\n",
       "  </thead>\n",
       "  <tbody>\n",
       "    <tr>\n",
       "      <th>0</th>\n",
       "      <td>1.50</td>\n",
       "      <td>0.32</td>\n",
       "      <td>0.60</td>\n",
       "    </tr>\n",
       "    <tr>\n",
       "      <th>1</th>\n",
       "      <td>1.05</td>\n",
       "      <td>0.68</td>\n",
       "      <td>1.22</td>\n",
       "    </tr>\n",
       "    <tr>\n",
       "      <th>2</th>\n",
       "      <td>1.05</td>\n",
       "      <td>2.34</td>\n",
       "      <td>0.97</td>\n",
       "    </tr>\n",
       "    <tr>\n",
       "      <th>3</th>\n",
       "      <td>0.59</td>\n",
       "      <td>-1.12</td>\n",
       "      <td>0.41</td>\n",
       "    </tr>\n",
       "    <tr>\n",
       "      <th>4</th>\n",
       "      <td>0.14</td>\n",
       "      <td>-0.87</td>\n",
       "      <td>0.54</td>\n",
       "    </tr>\n",
       "  </tbody>\n",
       "</table>\n",
       "</div>"
      ],
      "text/plain": [
       "     0     1    2\n",
       "0 1.50  0.32 0.60\n",
       "1 1.05  0.68 1.22\n",
       "2 1.05  2.34 0.97\n",
       "3 0.59 -1.12 0.41\n",
       "4 0.14 -0.87 0.54"
      ]
     },
     "execution_count": 20,
     "metadata": {},
     "output_type": "execute_result"
    }
   ],
   "source": [
    "scaled_data = scaler.fit_transform(top_engagement)\n",
    "pd.DataFrame(scaled_data).head(5)\n"
   ]
  },
  {
   "cell_type": "code",
   "execution_count": 21,
   "metadata": {},
   "outputs": [
    {
     "data": {
      "text/html": [
       "<div>\n",
       "<style scoped>\n",
       "    .dataframe tbody tr th:only-of-type {\n",
       "        vertical-align: middle;\n",
       "    }\n",
       "\n",
       "    .dataframe tbody tr th {\n",
       "        vertical-align: top;\n",
       "    }\n",
       "\n",
       "    .dataframe thead th {\n",
       "        text-align: right;\n",
       "    }\n",
       "</style>\n",
       "<table border=\"1\" class=\"dataframe\">\n",
       "  <thead>\n",
       "    <tr style=\"text-align: right;\">\n",
       "      <th></th>\n",
       "      <th>0</th>\n",
       "      <th>1</th>\n",
       "      <th>2</th>\n",
       "    </tr>\n",
       "  </thead>\n",
       "  <tbody>\n",
       "    <tr>\n",
       "      <th>0</th>\n",
       "      <td>0.91</td>\n",
       "      <td>0.19</td>\n",
       "      <td>0.36</td>\n",
       "    </tr>\n",
       "    <tr>\n",
       "      <th>1</th>\n",
       "      <td>0.60</td>\n",
       "      <td>0.39</td>\n",
       "      <td>0.70</td>\n",
       "    </tr>\n",
       "    <tr>\n",
       "      <th>2</th>\n",
       "      <td>0.38</td>\n",
       "      <td>0.85</td>\n",
       "      <td>0.35</td>\n",
       "    </tr>\n",
       "    <tr>\n",
       "      <th>3</th>\n",
       "      <td>0.44</td>\n",
       "      <td>-0.84</td>\n",
       "      <td>0.31</td>\n",
       "    </tr>\n",
       "    <tr>\n",
       "      <th>4</th>\n",
       "      <td>0.13</td>\n",
       "      <td>-0.84</td>\n",
       "      <td>0.52</td>\n",
       "    </tr>\n",
       "  </tbody>\n",
       "</table>\n",
       "</div>"
      ],
      "text/plain": [
       "     0     1    2\n",
       "0 0.91  0.19 0.36\n",
       "1 0.60  0.39 0.70\n",
       "2 0.38  0.85 0.35\n",
       "3 0.44 -0.84 0.31\n",
       "4 0.13 -0.84 0.52"
      ]
     },
     "execution_count": 21,
     "metadata": {},
     "output_type": "execute_result"
    }
   ],
   "source": [
    "data_normalized = normalize(scaled_data)\n",
    "pd.DataFrame(data_normalized).head(5)\n",
    "\n"
   ]
  },
  {
   "cell_type": "code",
   "execution_count": 22,
   "metadata": {
    "scrolled": false
   },
   "outputs": [
    {
     "data": {
      "text/plain": [
       "array([0, 0, 0, 2, 2, 0, 1, 1, 1, 1])"
      ]
     },
     "execution_count": 22,
     "metadata": {},
     "output_type": "execute_result"
    }
   ],
   "source": [
    "kmeans = KMeans(n_clusters=3, random_state=0).fit(data_normalized)\n",
    "kmeans.labels_"
   ]
  },
  {
   "cell_type": "code",
   "execution_count": 25,
   "metadata": {
    "scrolled": true
   },
   "outputs": [
    {
     "data": {
      "text/html": [
       "<div>\n",
       "<style scoped>\n",
       "    .dataframe tbody tr th:only-of-type {\n",
       "        vertical-align: middle;\n",
       "    }\n",
       "\n",
       "    .dataframe tbody tr th {\n",
       "        vertical-align: top;\n",
       "    }\n",
       "\n",
       "    .dataframe thead th {\n",
       "        text-align: right;\n",
       "    }\n",
       "</style>\n",
       "<table border=\"1\" class=\"dataframe\">\n",
       "  <thead>\n",
       "    <tr style=\"text-align: right;\">\n",
       "      <th></th>\n",
       "      <th>cluster</th>\n",
       "      <th>xDR Sessions</th>\n",
       "      <th>Dur. (ms)</th>\n",
       "      <th>Total Data Volume (Bytes)</th>\n",
       "    </tr>\n",
       "    <tr>\n",
       "      <th>MSISDN/Number</th>\n",
       "      <th></th>\n",
       "      <th></th>\n",
       "      <th></th>\n",
       "      <th></th>\n",
       "    </tr>\n",
       "  </thead>\n",
       "  <tbody>\n",
       "    <tr>\n",
       "      <th>33626320676.00</th>\n",
       "      <td>0</td>\n",
       "      <td>18.00</td>\n",
       "      <td>8791927.00</td>\n",
       "      <td>7971167261.00</td>\n",
       "    </tr>\n",
       "    <tr>\n",
       "      <th>33614892860.00</th>\n",
       "      <td>0</td>\n",
       "      <td>17.00</td>\n",
       "      <td>9966898.00</td>\n",
       "      <td>8846226494.00</td>\n",
       "    </tr>\n",
       "    <tr>\n",
       "      <th>33625779332.00</th>\n",
       "      <td>0</td>\n",
       "      <td>17.00</td>\n",
       "      <td>15466706.50</td>\n",
       "      <td>8499620722.00</td>\n",
       "    </tr>\n",
       "    <tr>\n",
       "      <th>33659725664.00</th>\n",
       "      <td>2</td>\n",
       "      <td>16.00</td>\n",
       "      <td>4035428.00</td>\n",
       "      <td>7705862783.00</td>\n",
       "    </tr>\n",
       "    <tr>\n",
       "      <th>33675877202.00</th>\n",
       "      <td>2</td>\n",
       "      <td>15.00</td>\n",
       "      <td>4865947.00</td>\n",
       "      <td>7891110608.00</td>\n",
       "    </tr>\n",
       "    <tr>\n",
       "      <th>33760536639.00</th>\n",
       "      <td>0</td>\n",
       "      <td>15.00</td>\n",
       "      <td>9279434.00</td>\n",
       "      <td>8514773963.00</td>\n",
       "    </tr>\n",
       "    <tr>\n",
       "      <th>33667163239.00</th>\n",
       "      <td>1</td>\n",
       "      <td>13.00</td>\n",
       "      <td>8744914.00</td>\n",
       "      <td>5618394054.00</td>\n",
       "    </tr>\n",
       "    <tr>\n",
       "      <th>33603127838.00</th>\n",
       "      <td>1</td>\n",
       "      <td>12.00</td>\n",
       "      <td>6287761.00</td>\n",
       "      <td>4976195043.00</td>\n",
       "    </tr>\n",
       "    <tr>\n",
       "      <th>33604515716.00</th>\n",
       "      <td>1</td>\n",
       "      <td>12.00</td>\n",
       "      <td>5207990.00</td>\n",
       "      <td>5487855293.00</td>\n",
       "    </tr>\n",
       "    <tr>\n",
       "      <th>33627080969.00</th>\n",
       "      <td>1</td>\n",
       "      <td>12.00</td>\n",
       "      <td>4703516.00</td>\n",
       "      <td>5754730859.00</td>\n",
       "    </tr>\n",
       "  </tbody>\n",
       "</table>\n",
       "</div>"
      ],
      "text/plain": [
       "                cluster  xDR Sessions   Dur. (ms)  Total Data Volume (Bytes)\n",
       "MSISDN/Number                                                               \n",
       "33626320676.00        0         18.00  8791927.00              7971167261.00\n",
       "33614892860.00        0         17.00  9966898.00              8846226494.00\n",
       "33625779332.00        0         17.00 15466706.50              8499620722.00\n",
       "33659725664.00        2         16.00  4035428.00              7705862783.00\n",
       "33675877202.00        2         15.00  4865947.00              7891110608.00\n",
       "33760536639.00        0         15.00  9279434.00              8514773963.00\n",
       "33667163239.00        1         13.00  8744914.00              5618394054.00\n",
       "33603127838.00        1         12.00  6287761.00              4976195043.00\n",
       "33604515716.00        1         12.00  5207990.00              5487855293.00\n",
       "33627080969.00        1         12.00  4703516.00              5754730859.00"
      ]
     },
     "execution_count": 25,
     "metadata": {},
     "output_type": "execute_result"
    }
   ],
   "source": [
    "top_engagement.insert(0, 'cluster', kmeans.labels_)\n",
    "top_engagement"
   ]
  },
  {
   "cell_type": "code",
   "execution_count": 26,
   "metadata": {},
   "outputs": [
    {
     "data": {
      "text/plain": [
       "0    4\n",
       "1    4\n",
       "2    2\n",
       "Name: cluster, dtype: int64"
      ]
     },
     "execution_count": 26,
     "metadata": {},
     "output_type": "execute_result"
    }
   ],
   "source": [
    "top_engagement['cluster'].value_counts()"
   ]
  },
  {
   "cell_type": "code",
   "execution_count": 33,
   "metadata": {},
   "outputs": [
    {
     "data": {
      "text/html": [
       "<div>\n",
       "<style scoped>\n",
       "    .dataframe tbody tr th:only-of-type {\n",
       "        vertical-align: middle;\n",
       "    }\n",
       "\n",
       "    .dataframe tbody tr th {\n",
       "        vertical-align: top;\n",
       "    }\n",
       "\n",
       "    .dataframe thead th {\n",
       "        text-align: right;\n",
       "    }\n",
       "</style>\n",
       "<table border=\"1\" class=\"dataframe\">\n",
       "  <thead>\n",
       "    <tr style=\"text-align: right;\">\n",
       "      <th></th>\n",
       "      <th>cluster</th>\n",
       "      <th>xDR Sessions</th>\n",
       "      <th>Dur. (ms)</th>\n",
       "      <th>Total Data Volume (Bytes)</th>\n",
       "    </tr>\n",
       "    <tr>\n",
       "      <th>MSISDN/Number</th>\n",
       "      <th></th>\n",
       "      <th></th>\n",
       "      <th></th>\n",
       "      <th></th>\n",
       "    </tr>\n",
       "  </thead>\n",
       "  <tbody>\n",
       "    <tr>\n",
       "      <th>33626320676.00</th>\n",
       "      <td>0</td>\n",
       "      <td>18.00</td>\n",
       "      <td>8791927.00</td>\n",
       "      <td>7971167261.00</td>\n",
       "    </tr>\n",
       "    <tr>\n",
       "      <th>33614892860.00</th>\n",
       "      <td>0</td>\n",
       "      <td>17.00</td>\n",
       "      <td>9966898.00</td>\n",
       "      <td>8846226494.00</td>\n",
       "    </tr>\n",
       "    <tr>\n",
       "      <th>33625779332.00</th>\n",
       "      <td>0</td>\n",
       "      <td>17.00</td>\n",
       "      <td>15466706.50</td>\n",
       "      <td>8499620722.00</td>\n",
       "    </tr>\n",
       "    <tr>\n",
       "      <th>33659725664.00</th>\n",
       "      <td>2</td>\n",
       "      <td>16.00</td>\n",
       "      <td>4035428.00</td>\n",
       "      <td>7705862783.00</td>\n",
       "    </tr>\n",
       "    <tr>\n",
       "      <th>33675877202.00</th>\n",
       "      <td>2</td>\n",
       "      <td>15.00</td>\n",
       "      <td>4865947.00</td>\n",
       "      <td>7891110608.00</td>\n",
       "    </tr>\n",
       "  </tbody>\n",
       "</table>\n",
       "</div>"
      ],
      "text/plain": [
       "                cluster  xDR Sessions   Dur. (ms)  Total Data Volume (Bytes)\n",
       "MSISDN/Number                                                               \n",
       "33626320676.00        0         18.00  8791927.00              7971167261.00\n",
       "33614892860.00        0         17.00  9966898.00              8846226494.00\n",
       "33625779332.00        0         17.00 15466706.50              8499620722.00\n",
       "33659725664.00        2         16.00  4035428.00              7705862783.00\n",
       "33675877202.00        2         15.00  4865947.00              7891110608.00"
      ]
     },
     "execution_count": 33,
     "metadata": {},
     "output_type": "execute_result"
    }
   ],
   "source": [
    "top_engagement.head()"
   ]
  },
  {
   "cell_type": "code",
   "execution_count": 34,
   "metadata": {},
   "outputs": [
    {
     "data": {
      "application/vnd.plotly.v1+json": {
       "config": {
        "plotlyServerURL": "https://plot.ly"
       },
       "data": [
        {
         "hovertemplate": "Total Data Volume (Bytes)=%{x}<br>Dur. (ms)=%{y}<br>xDR Sessions=%{marker.size}<br>cluster=%{marker.color}<extra></extra>",
         "legendgroup": "",
         "marker": {
          "color": [
           0,
           0,
           0,
           2,
           2,
           0,
           1,
           1,
           1,
           1
          ],
          "coloraxis": "coloraxis",
          "size": [
           18,
           17,
           17,
           16,
           15,
           15,
           13,
           12,
           12,
           12
          ],
          "sizemode": "area",
          "sizeref": 0.045,
          "symbol": "circle"
         },
         "mode": "markers",
         "name": "",
         "orientation": "v",
         "showlegend": false,
         "type": "scatter",
         "x": [
          7971167261,
          8846226494,
          8499620722,
          7705862783,
          7891110608,
          8514773963,
          5618394054,
          4976195043,
          5487855293,
          5754730859
         ],
         "xaxis": "x",
         "y": [
          8791927,
          9966898,
          15466706.5,
          4035428,
          4865947,
          9279434,
          8744914,
          6287761,
          5207990,
          4703516
         ],
         "yaxis": "y"
        }
       ],
       "layout": {
        "coloraxis": {
         "colorbar": {
          "title": {
           "text": "cluster"
          }
         },
         "colorscale": [
          [
           0,
           "#0d0887"
          ],
          [
           0.1111111111111111,
           "#46039f"
          ],
          [
           0.2222222222222222,
           "#7201a8"
          ],
          [
           0.3333333333333333,
           "#9c179e"
          ],
          [
           0.4444444444444444,
           "#bd3786"
          ],
          [
           0.5555555555555556,
           "#d8576b"
          ],
          [
           0.6666666666666666,
           "#ed7953"
          ],
          [
           0.7777777777777778,
           "#fb9f3a"
          ],
          [
           0.8888888888888888,
           "#fdca26"
          ],
          [
           1,
           "#f0f921"
          ]
         ]
        },
        "legend": {
         "itemsizing": "constant",
         "tracegroupgap": 0
        },
        "margin": {
         "t": 60
        },
        "template": {
         "data": {
          "bar": [
           {
            "error_x": {
             "color": "#2a3f5f"
            },
            "error_y": {
             "color": "#2a3f5f"
            },
            "marker": {
             "line": {
              "color": "#E5ECF6",
              "width": 0.5
             }
            },
            "type": "bar"
           }
          ],
          "barpolar": [
           {
            "marker": {
             "line": {
              "color": "#E5ECF6",
              "width": 0.5
             }
            },
            "type": "barpolar"
           }
          ],
          "carpet": [
           {
            "aaxis": {
             "endlinecolor": "#2a3f5f",
             "gridcolor": "white",
             "linecolor": "white",
             "minorgridcolor": "white",
             "startlinecolor": "#2a3f5f"
            },
            "baxis": {
             "endlinecolor": "#2a3f5f",
             "gridcolor": "white",
             "linecolor": "white",
             "minorgridcolor": "white",
             "startlinecolor": "#2a3f5f"
            },
            "type": "carpet"
           }
          ],
          "choropleth": [
           {
            "colorbar": {
             "outlinewidth": 0,
             "ticks": ""
            },
            "type": "choropleth"
           }
          ],
          "contour": [
           {
            "colorbar": {
             "outlinewidth": 0,
             "ticks": ""
            },
            "colorscale": [
             [
              0,
              "#0d0887"
             ],
             [
              0.1111111111111111,
              "#46039f"
             ],
             [
              0.2222222222222222,
              "#7201a8"
             ],
             [
              0.3333333333333333,
              "#9c179e"
             ],
             [
              0.4444444444444444,
              "#bd3786"
             ],
             [
              0.5555555555555556,
              "#d8576b"
             ],
             [
              0.6666666666666666,
              "#ed7953"
             ],
             [
              0.7777777777777778,
              "#fb9f3a"
             ],
             [
              0.8888888888888888,
              "#fdca26"
             ],
             [
              1,
              "#f0f921"
             ]
            ],
            "type": "contour"
           }
          ],
          "contourcarpet": [
           {
            "colorbar": {
             "outlinewidth": 0,
             "ticks": ""
            },
            "type": "contourcarpet"
           }
          ],
          "heatmap": [
           {
            "colorbar": {
             "outlinewidth": 0,
             "ticks": ""
            },
            "colorscale": [
             [
              0,
              "#0d0887"
             ],
             [
              0.1111111111111111,
              "#46039f"
             ],
             [
              0.2222222222222222,
              "#7201a8"
             ],
             [
              0.3333333333333333,
              "#9c179e"
             ],
             [
              0.4444444444444444,
              "#bd3786"
             ],
             [
              0.5555555555555556,
              "#d8576b"
             ],
             [
              0.6666666666666666,
              "#ed7953"
             ],
             [
              0.7777777777777778,
              "#fb9f3a"
             ],
             [
              0.8888888888888888,
              "#fdca26"
             ],
             [
              1,
              "#f0f921"
             ]
            ],
            "type": "heatmap"
           }
          ],
          "heatmapgl": [
           {
            "colorbar": {
             "outlinewidth": 0,
             "ticks": ""
            },
            "colorscale": [
             [
              0,
              "#0d0887"
             ],
             [
              0.1111111111111111,
              "#46039f"
             ],
             [
              0.2222222222222222,
              "#7201a8"
             ],
             [
              0.3333333333333333,
              "#9c179e"
             ],
             [
              0.4444444444444444,
              "#bd3786"
             ],
             [
              0.5555555555555556,
              "#d8576b"
             ],
             [
              0.6666666666666666,
              "#ed7953"
             ],
             [
              0.7777777777777778,
              "#fb9f3a"
             ],
             [
              0.8888888888888888,
              "#fdca26"
             ],
             [
              1,
              "#f0f921"
             ]
            ],
            "type": "heatmapgl"
           }
          ],
          "histogram": [
           {
            "marker": {
             "colorbar": {
              "outlinewidth": 0,
              "ticks": ""
             }
            },
            "type": "histogram"
           }
          ],
          "histogram2d": [
           {
            "colorbar": {
             "outlinewidth": 0,
             "ticks": ""
            },
            "colorscale": [
             [
              0,
              "#0d0887"
             ],
             [
              0.1111111111111111,
              "#46039f"
             ],
             [
              0.2222222222222222,
              "#7201a8"
             ],
             [
              0.3333333333333333,
              "#9c179e"
             ],
             [
              0.4444444444444444,
              "#bd3786"
             ],
             [
              0.5555555555555556,
              "#d8576b"
             ],
             [
              0.6666666666666666,
              "#ed7953"
             ],
             [
              0.7777777777777778,
              "#fb9f3a"
             ],
             [
              0.8888888888888888,
              "#fdca26"
             ],
             [
              1,
              "#f0f921"
             ]
            ],
            "type": "histogram2d"
           }
          ],
          "histogram2dcontour": [
           {
            "colorbar": {
             "outlinewidth": 0,
             "ticks": ""
            },
            "colorscale": [
             [
              0,
              "#0d0887"
             ],
             [
              0.1111111111111111,
              "#46039f"
             ],
             [
              0.2222222222222222,
              "#7201a8"
             ],
             [
              0.3333333333333333,
              "#9c179e"
             ],
             [
              0.4444444444444444,
              "#bd3786"
             ],
             [
              0.5555555555555556,
              "#d8576b"
             ],
             [
              0.6666666666666666,
              "#ed7953"
             ],
             [
              0.7777777777777778,
              "#fb9f3a"
             ],
             [
              0.8888888888888888,
              "#fdca26"
             ],
             [
              1,
              "#f0f921"
             ]
            ],
            "type": "histogram2dcontour"
           }
          ],
          "mesh3d": [
           {
            "colorbar": {
             "outlinewidth": 0,
             "ticks": ""
            },
            "type": "mesh3d"
           }
          ],
          "parcoords": [
           {
            "line": {
             "colorbar": {
              "outlinewidth": 0,
              "ticks": ""
             }
            },
            "type": "parcoords"
           }
          ],
          "pie": [
           {
            "automargin": true,
            "type": "pie"
           }
          ],
          "scatter": [
           {
            "marker": {
             "colorbar": {
              "outlinewidth": 0,
              "ticks": ""
             }
            },
            "type": "scatter"
           }
          ],
          "scatter3d": [
           {
            "line": {
             "colorbar": {
              "outlinewidth": 0,
              "ticks": ""
             }
            },
            "marker": {
             "colorbar": {
              "outlinewidth": 0,
              "ticks": ""
             }
            },
            "type": "scatter3d"
           }
          ],
          "scattercarpet": [
           {
            "marker": {
             "colorbar": {
              "outlinewidth": 0,
              "ticks": ""
             }
            },
            "type": "scattercarpet"
           }
          ],
          "scattergeo": [
           {
            "marker": {
             "colorbar": {
              "outlinewidth": 0,
              "ticks": ""
             }
            },
            "type": "scattergeo"
           }
          ],
          "scattergl": [
           {
            "marker": {
             "colorbar": {
              "outlinewidth": 0,
              "ticks": ""
             }
            },
            "type": "scattergl"
           }
          ],
          "scattermapbox": [
           {
            "marker": {
             "colorbar": {
              "outlinewidth": 0,
              "ticks": ""
             }
            },
            "type": "scattermapbox"
           }
          ],
          "scatterpolar": [
           {
            "marker": {
             "colorbar": {
              "outlinewidth": 0,
              "ticks": ""
             }
            },
            "type": "scatterpolar"
           }
          ],
          "scatterpolargl": [
           {
            "marker": {
             "colorbar": {
              "outlinewidth": 0,
              "ticks": ""
             }
            },
            "type": "scatterpolargl"
           }
          ],
          "scatterternary": [
           {
            "marker": {
             "colorbar": {
              "outlinewidth": 0,
              "ticks": ""
             }
            },
            "type": "scatterternary"
           }
          ],
          "surface": [
           {
            "colorbar": {
             "outlinewidth": 0,
             "ticks": ""
            },
            "colorscale": [
             [
              0,
              "#0d0887"
             ],
             [
              0.1111111111111111,
              "#46039f"
             ],
             [
              0.2222222222222222,
              "#7201a8"
             ],
             [
              0.3333333333333333,
              "#9c179e"
             ],
             [
              0.4444444444444444,
              "#bd3786"
             ],
             [
              0.5555555555555556,
              "#d8576b"
             ],
             [
              0.6666666666666666,
              "#ed7953"
             ],
             [
              0.7777777777777778,
              "#fb9f3a"
             ],
             [
              0.8888888888888888,
              "#fdca26"
             ],
             [
              1,
              "#f0f921"
             ]
            ],
            "type": "surface"
           }
          ],
          "table": [
           {
            "cells": {
             "fill": {
              "color": "#EBF0F8"
             },
             "line": {
              "color": "white"
             }
            },
            "header": {
             "fill": {
              "color": "#C8D4E3"
             },
             "line": {
              "color": "white"
             }
            },
            "type": "table"
           }
          ]
         },
         "layout": {
          "annotationdefaults": {
           "arrowcolor": "#2a3f5f",
           "arrowhead": 0,
           "arrowwidth": 1
          },
          "autotypenumbers": "strict",
          "coloraxis": {
           "colorbar": {
            "outlinewidth": 0,
            "ticks": ""
           }
          },
          "colorscale": {
           "diverging": [
            [
             0,
             "#8e0152"
            ],
            [
             0.1,
             "#c51b7d"
            ],
            [
             0.2,
             "#de77ae"
            ],
            [
             0.3,
             "#f1b6da"
            ],
            [
             0.4,
             "#fde0ef"
            ],
            [
             0.5,
             "#f7f7f7"
            ],
            [
             0.6,
             "#e6f5d0"
            ],
            [
             0.7,
             "#b8e186"
            ],
            [
             0.8,
             "#7fbc41"
            ],
            [
             0.9,
             "#4d9221"
            ],
            [
             1,
             "#276419"
            ]
           ],
           "sequential": [
            [
             0,
             "#0d0887"
            ],
            [
             0.1111111111111111,
             "#46039f"
            ],
            [
             0.2222222222222222,
             "#7201a8"
            ],
            [
             0.3333333333333333,
             "#9c179e"
            ],
            [
             0.4444444444444444,
             "#bd3786"
            ],
            [
             0.5555555555555556,
             "#d8576b"
            ],
            [
             0.6666666666666666,
             "#ed7953"
            ],
            [
             0.7777777777777778,
             "#fb9f3a"
            ],
            [
             0.8888888888888888,
             "#fdca26"
            ],
            [
             1,
             "#f0f921"
            ]
           ],
           "sequentialminus": [
            [
             0,
             "#0d0887"
            ],
            [
             0.1111111111111111,
             "#46039f"
            ],
            [
             0.2222222222222222,
             "#7201a8"
            ],
            [
             0.3333333333333333,
             "#9c179e"
            ],
            [
             0.4444444444444444,
             "#bd3786"
            ],
            [
             0.5555555555555556,
             "#d8576b"
            ],
            [
             0.6666666666666666,
             "#ed7953"
            ],
            [
             0.7777777777777778,
             "#fb9f3a"
            ],
            [
             0.8888888888888888,
             "#fdca26"
            ],
            [
             1,
             "#f0f921"
            ]
           ]
          },
          "colorway": [
           "#636efa",
           "#EF553B",
           "#00cc96",
           "#ab63fa",
           "#FFA15A",
           "#19d3f3",
           "#FF6692",
           "#B6E880",
           "#FF97FF",
           "#FECB52"
          ],
          "font": {
           "color": "#2a3f5f"
          },
          "geo": {
           "bgcolor": "white",
           "lakecolor": "white",
           "landcolor": "#E5ECF6",
           "showlakes": true,
           "showland": true,
           "subunitcolor": "white"
          },
          "hoverlabel": {
           "align": "left"
          },
          "hovermode": "closest",
          "mapbox": {
           "style": "light"
          },
          "paper_bgcolor": "white",
          "plot_bgcolor": "#E5ECF6",
          "polar": {
           "angularaxis": {
            "gridcolor": "white",
            "linecolor": "white",
            "ticks": ""
           },
           "bgcolor": "#E5ECF6",
           "radialaxis": {
            "gridcolor": "white",
            "linecolor": "white",
            "ticks": ""
           }
          },
          "scene": {
           "xaxis": {
            "backgroundcolor": "#E5ECF6",
            "gridcolor": "white",
            "gridwidth": 2,
            "linecolor": "white",
            "showbackground": true,
            "ticks": "",
            "zerolinecolor": "white"
           },
           "yaxis": {
            "backgroundcolor": "#E5ECF6",
            "gridcolor": "white",
            "gridwidth": 2,
            "linecolor": "white",
            "showbackground": true,
            "ticks": "",
            "zerolinecolor": "white"
           },
           "zaxis": {
            "backgroundcolor": "#E5ECF6",
            "gridcolor": "white",
            "gridwidth": 2,
            "linecolor": "white",
            "showbackground": true,
            "ticks": "",
            "zerolinecolor": "white"
           }
          },
          "shapedefaults": {
           "line": {
            "color": "#2a3f5f"
           }
          },
          "ternary": {
           "aaxis": {
            "gridcolor": "white",
            "linecolor": "white",
            "ticks": ""
           },
           "baxis": {
            "gridcolor": "white",
            "linecolor": "white",
            "ticks": ""
           },
           "bgcolor": "#E5ECF6",
           "caxis": {
            "gridcolor": "white",
            "linecolor": "white",
            "ticks": ""
           }
          },
          "title": {
           "x": 0.05
          },
          "xaxis": {
           "automargin": true,
           "gridcolor": "white",
           "linecolor": "white",
           "ticks": "",
           "title": {
            "standoff": 15
           },
           "zerolinecolor": "white",
           "zerolinewidth": 2
          },
          "yaxis": {
           "automargin": true,
           "gridcolor": "white",
           "linecolor": "white",
           "ticks": "",
           "title": {
            "standoff": 15
           },
           "zerolinecolor": "white",
           "zerolinewidth": 2
          }
         }
        },
        "xaxis": {
         "anchor": "y",
         "domain": [
          0,
          1
         ],
         "title": {
          "text": "Total Data Volume (Bytes)"
         }
        },
        "yaxis": {
         "anchor": "x",
         "domain": [
          0,
          1
         ],
         "title": {
          "text": "Dur. (ms)"
         }
        }
       }
      },
      "text/html": [
       "<div>                            <div id=\"7b13a663-8c6f-4b3e-90d2-2faa21fe94a9\" class=\"plotly-graph-div\" style=\"height:525px; width:100%;\"></div>            <script type=\"text/javascript\">                require([\"plotly\"], function(Plotly) {                    window.PLOTLYENV=window.PLOTLYENV || {};                                    if (document.getElementById(\"7b13a663-8c6f-4b3e-90d2-2faa21fe94a9\")) {                    Plotly.newPlot(                        \"7b13a663-8c6f-4b3e-90d2-2faa21fe94a9\",                        [{\"hovertemplate\": \"Total Data Volume (Bytes)=%{x}<br>Dur. (ms)=%{y}<br>xDR Sessions=%{marker.size}<br>cluster=%{marker.color}<extra></extra>\", \"legendgroup\": \"\", \"marker\": {\"color\": [0, 0, 0, 2, 2, 0, 1, 1, 1, 1], \"coloraxis\": \"coloraxis\", \"size\": [18.0, 17.0, 17.0, 16.0, 15.0, 15.0, 13.0, 12.0, 12.0, 12.0], \"sizemode\": \"area\", \"sizeref\": 0.045, \"symbol\": \"circle\"}, \"mode\": \"markers\", \"name\": \"\", \"orientation\": \"v\", \"showlegend\": false, \"type\": \"scatter\", \"x\": [7971167261.0, 8846226494.0, 8499620722.0, 7705862783.0, 7891110608.0, 8514773963.0, 5618394054.0, 4976195043.0, 5487855293.0, 5754730859.0], \"xaxis\": \"x\", \"y\": [8791927.0, 9966898.0, 15466706.5, 4035428.0, 4865947.0, 9279434.0, 8744914.0, 6287761.0, 5207990.0, 4703516.0], \"yaxis\": \"y\"}],                        {\"coloraxis\": {\"colorbar\": {\"title\": {\"text\": \"cluster\"}}, \"colorscale\": [[0.0, \"#0d0887\"], [0.1111111111111111, \"#46039f\"], [0.2222222222222222, \"#7201a8\"], [0.3333333333333333, \"#9c179e\"], [0.4444444444444444, \"#bd3786\"], [0.5555555555555556, \"#d8576b\"], [0.6666666666666666, \"#ed7953\"], [0.7777777777777778, \"#fb9f3a\"], [0.8888888888888888, \"#fdca26\"], [1.0, \"#f0f921\"]]}, \"legend\": {\"itemsizing\": \"constant\", \"tracegroupgap\": 0}, \"margin\": {\"t\": 60}, \"template\": {\"data\": {\"bar\": [{\"error_x\": {\"color\": \"#2a3f5f\"}, \"error_y\": {\"color\": \"#2a3f5f\"}, \"marker\": {\"line\": {\"color\": \"#E5ECF6\", \"width\": 0.5}}, \"type\": \"bar\"}], \"barpolar\": [{\"marker\": {\"line\": {\"color\": \"#E5ECF6\", \"width\": 0.5}}, \"type\": \"barpolar\"}], \"carpet\": [{\"aaxis\": {\"endlinecolor\": \"#2a3f5f\", \"gridcolor\": \"white\", \"linecolor\": \"white\", \"minorgridcolor\": \"white\", \"startlinecolor\": \"#2a3f5f\"}, \"baxis\": {\"endlinecolor\": \"#2a3f5f\", \"gridcolor\": \"white\", \"linecolor\": \"white\", \"minorgridcolor\": \"white\", \"startlinecolor\": \"#2a3f5f\"}, \"type\": \"carpet\"}], \"choropleth\": [{\"colorbar\": {\"outlinewidth\": 0, \"ticks\": \"\"}, \"type\": \"choropleth\"}], \"contour\": [{\"colorbar\": {\"outlinewidth\": 0, \"ticks\": \"\"}, \"colorscale\": [[0.0, \"#0d0887\"], [0.1111111111111111, \"#46039f\"], [0.2222222222222222, \"#7201a8\"], [0.3333333333333333, \"#9c179e\"], [0.4444444444444444, \"#bd3786\"], [0.5555555555555556, \"#d8576b\"], [0.6666666666666666, \"#ed7953\"], [0.7777777777777778, \"#fb9f3a\"], [0.8888888888888888, \"#fdca26\"], [1.0, \"#f0f921\"]], \"type\": \"contour\"}], \"contourcarpet\": [{\"colorbar\": {\"outlinewidth\": 0, \"ticks\": \"\"}, \"type\": \"contourcarpet\"}], \"heatmap\": [{\"colorbar\": {\"outlinewidth\": 0, \"ticks\": \"\"}, \"colorscale\": [[0.0, \"#0d0887\"], [0.1111111111111111, \"#46039f\"], [0.2222222222222222, \"#7201a8\"], [0.3333333333333333, \"#9c179e\"], [0.4444444444444444, \"#bd3786\"], [0.5555555555555556, \"#d8576b\"], [0.6666666666666666, \"#ed7953\"], [0.7777777777777778, \"#fb9f3a\"], [0.8888888888888888, \"#fdca26\"], [1.0, \"#f0f921\"]], \"type\": \"heatmap\"}], \"heatmapgl\": [{\"colorbar\": {\"outlinewidth\": 0, \"ticks\": \"\"}, \"colorscale\": [[0.0, \"#0d0887\"], [0.1111111111111111, \"#46039f\"], [0.2222222222222222, \"#7201a8\"], [0.3333333333333333, \"#9c179e\"], [0.4444444444444444, \"#bd3786\"], [0.5555555555555556, \"#d8576b\"], [0.6666666666666666, \"#ed7953\"], [0.7777777777777778, \"#fb9f3a\"], [0.8888888888888888, \"#fdca26\"], [1.0, \"#f0f921\"]], \"type\": \"heatmapgl\"}], \"histogram\": [{\"marker\": {\"colorbar\": {\"outlinewidth\": 0, \"ticks\": \"\"}}, \"type\": \"histogram\"}], \"histogram2d\": [{\"colorbar\": {\"outlinewidth\": 0, \"ticks\": \"\"}, \"colorscale\": [[0.0, \"#0d0887\"], [0.1111111111111111, \"#46039f\"], [0.2222222222222222, \"#7201a8\"], [0.3333333333333333, \"#9c179e\"], [0.4444444444444444, \"#bd3786\"], [0.5555555555555556, \"#d8576b\"], [0.6666666666666666, \"#ed7953\"], [0.7777777777777778, \"#fb9f3a\"], [0.8888888888888888, \"#fdca26\"], [1.0, \"#f0f921\"]], \"type\": \"histogram2d\"}], \"histogram2dcontour\": [{\"colorbar\": {\"outlinewidth\": 0, \"ticks\": \"\"}, \"colorscale\": [[0.0, \"#0d0887\"], [0.1111111111111111, \"#46039f\"], [0.2222222222222222, \"#7201a8\"], [0.3333333333333333, \"#9c179e\"], [0.4444444444444444, \"#bd3786\"], [0.5555555555555556, \"#d8576b\"], [0.6666666666666666, \"#ed7953\"], [0.7777777777777778, \"#fb9f3a\"], [0.8888888888888888, \"#fdca26\"], [1.0, \"#f0f921\"]], \"type\": \"histogram2dcontour\"}], \"mesh3d\": [{\"colorbar\": {\"outlinewidth\": 0, \"ticks\": \"\"}, \"type\": \"mesh3d\"}], \"parcoords\": [{\"line\": {\"colorbar\": {\"outlinewidth\": 0, \"ticks\": \"\"}}, \"type\": \"parcoords\"}], \"pie\": [{\"automargin\": true, \"type\": \"pie\"}], \"scatter\": [{\"marker\": {\"colorbar\": {\"outlinewidth\": 0, \"ticks\": \"\"}}, \"type\": \"scatter\"}], \"scatter3d\": [{\"line\": {\"colorbar\": {\"outlinewidth\": 0, \"ticks\": \"\"}}, \"marker\": {\"colorbar\": {\"outlinewidth\": 0, \"ticks\": \"\"}}, \"type\": \"scatter3d\"}], \"scattercarpet\": [{\"marker\": {\"colorbar\": {\"outlinewidth\": 0, \"ticks\": \"\"}}, \"type\": \"scattercarpet\"}], \"scattergeo\": [{\"marker\": {\"colorbar\": {\"outlinewidth\": 0, \"ticks\": \"\"}}, \"type\": \"scattergeo\"}], \"scattergl\": [{\"marker\": {\"colorbar\": {\"outlinewidth\": 0, \"ticks\": \"\"}}, \"type\": \"scattergl\"}], \"scattermapbox\": [{\"marker\": {\"colorbar\": {\"outlinewidth\": 0, \"ticks\": \"\"}}, \"type\": \"scattermapbox\"}], \"scatterpolar\": [{\"marker\": {\"colorbar\": {\"outlinewidth\": 0, \"ticks\": \"\"}}, \"type\": \"scatterpolar\"}], \"scatterpolargl\": [{\"marker\": {\"colorbar\": {\"outlinewidth\": 0, \"ticks\": \"\"}}, \"type\": \"scatterpolargl\"}], \"scatterternary\": [{\"marker\": {\"colorbar\": {\"outlinewidth\": 0, \"ticks\": \"\"}}, \"type\": \"scatterternary\"}], \"surface\": [{\"colorbar\": {\"outlinewidth\": 0, \"ticks\": \"\"}, \"colorscale\": [[0.0, \"#0d0887\"], [0.1111111111111111, \"#46039f\"], [0.2222222222222222, \"#7201a8\"], [0.3333333333333333, \"#9c179e\"], [0.4444444444444444, \"#bd3786\"], [0.5555555555555556, \"#d8576b\"], [0.6666666666666666, \"#ed7953\"], [0.7777777777777778, \"#fb9f3a\"], [0.8888888888888888, \"#fdca26\"], [1.0, \"#f0f921\"]], \"type\": \"surface\"}], \"table\": [{\"cells\": {\"fill\": {\"color\": \"#EBF0F8\"}, \"line\": {\"color\": \"white\"}}, \"header\": {\"fill\": {\"color\": \"#C8D4E3\"}, \"line\": {\"color\": \"white\"}}, \"type\": \"table\"}]}, \"layout\": {\"annotationdefaults\": {\"arrowcolor\": \"#2a3f5f\", \"arrowhead\": 0, \"arrowwidth\": 1}, \"autotypenumbers\": \"strict\", \"coloraxis\": {\"colorbar\": {\"outlinewidth\": 0, \"ticks\": \"\"}}, \"colorscale\": {\"diverging\": [[0, \"#8e0152\"], [0.1, \"#c51b7d\"], [0.2, \"#de77ae\"], [0.3, \"#f1b6da\"], [0.4, \"#fde0ef\"], [0.5, \"#f7f7f7\"], [0.6, \"#e6f5d0\"], [0.7, \"#b8e186\"], [0.8, \"#7fbc41\"], [0.9, \"#4d9221\"], [1, \"#276419\"]], \"sequential\": [[0.0, \"#0d0887\"], [0.1111111111111111, \"#46039f\"], [0.2222222222222222, \"#7201a8\"], [0.3333333333333333, \"#9c179e\"], [0.4444444444444444, \"#bd3786\"], [0.5555555555555556, \"#d8576b\"], [0.6666666666666666, \"#ed7953\"], [0.7777777777777778, \"#fb9f3a\"], [0.8888888888888888, \"#fdca26\"], [1.0, \"#f0f921\"]], \"sequentialminus\": [[0.0, \"#0d0887\"], [0.1111111111111111, \"#46039f\"], [0.2222222222222222, \"#7201a8\"], [0.3333333333333333, \"#9c179e\"], [0.4444444444444444, \"#bd3786\"], [0.5555555555555556, \"#d8576b\"], [0.6666666666666666, \"#ed7953\"], [0.7777777777777778, \"#fb9f3a\"], [0.8888888888888888, \"#fdca26\"], [1.0, \"#f0f921\"]]}, \"colorway\": [\"#636efa\", \"#EF553B\", \"#00cc96\", \"#ab63fa\", \"#FFA15A\", \"#19d3f3\", \"#FF6692\", \"#B6E880\", \"#FF97FF\", \"#FECB52\"], \"font\": {\"color\": \"#2a3f5f\"}, \"geo\": {\"bgcolor\": \"white\", \"lakecolor\": \"white\", \"landcolor\": \"#E5ECF6\", \"showlakes\": true, \"showland\": true, \"subunitcolor\": \"white\"}, \"hoverlabel\": {\"align\": \"left\"}, \"hovermode\": \"closest\", \"mapbox\": {\"style\": \"light\"}, \"paper_bgcolor\": \"white\", \"plot_bgcolor\": \"#E5ECF6\", \"polar\": {\"angularaxis\": {\"gridcolor\": \"white\", \"linecolor\": \"white\", \"ticks\": \"\"}, \"bgcolor\": \"#E5ECF6\", \"radialaxis\": {\"gridcolor\": \"white\", \"linecolor\": \"white\", \"ticks\": \"\"}}, \"scene\": {\"xaxis\": {\"backgroundcolor\": \"#E5ECF6\", \"gridcolor\": \"white\", \"gridwidth\": 2, \"linecolor\": \"white\", \"showbackground\": true, \"ticks\": \"\", \"zerolinecolor\": \"white\"}, \"yaxis\": {\"backgroundcolor\": \"#E5ECF6\", \"gridcolor\": \"white\", \"gridwidth\": 2, \"linecolor\": \"white\", \"showbackground\": true, \"ticks\": \"\", \"zerolinecolor\": \"white\"}, \"zaxis\": {\"backgroundcolor\": \"#E5ECF6\", \"gridcolor\": \"white\", \"gridwidth\": 2, \"linecolor\": \"white\", \"showbackground\": true, \"ticks\": \"\", \"zerolinecolor\": \"white\"}}, \"shapedefaults\": {\"line\": {\"color\": \"#2a3f5f\"}}, \"ternary\": {\"aaxis\": {\"gridcolor\": \"white\", \"linecolor\": \"white\", \"ticks\": \"\"}, \"baxis\": {\"gridcolor\": \"white\", \"linecolor\": \"white\", \"ticks\": \"\"}, \"bgcolor\": \"#E5ECF6\", \"caxis\": {\"gridcolor\": \"white\", \"linecolor\": \"white\", \"ticks\": \"\"}}, \"title\": {\"x\": 0.05}, \"xaxis\": {\"automargin\": true, \"gridcolor\": \"white\", \"linecolor\": \"white\", \"ticks\": \"\", \"title\": {\"standoff\": 15}, \"zerolinecolor\": \"white\", \"zerolinewidth\": 2}, \"yaxis\": {\"automargin\": true, \"gridcolor\": \"white\", \"linecolor\": \"white\", \"ticks\": \"\", \"title\": {\"standoff\": 15}, \"zerolinecolor\": \"white\", \"zerolinewidth\": 2}}}, \"xaxis\": {\"anchor\": \"y\", \"domain\": [0.0, 1.0], \"title\": {\"text\": \"Total Data Volume (Bytes)\"}}, \"yaxis\": {\"anchor\": \"x\", \"domain\": [0.0, 1.0], \"title\": {\"text\": \"Dur. (ms)\"}}},                        {\"responsive\": true}                    ).then(function(){\n",
       "                            \n",
       "var gd = document.getElementById('7b13a663-8c6f-4b3e-90d2-2faa21fe94a9');\n",
       "var x = new MutationObserver(function (mutations, observer) {{\n",
       "        var display = window.getComputedStyle(gd).display;\n",
       "        if (!display || display === 'none') {{\n",
       "            console.log([gd, 'removed!']);\n",
       "            Plotly.purge(gd);\n",
       "            observer.disconnect();\n",
       "        }}\n",
       "}});\n",
       "\n",
       "// Listen for the removal of the full notebook cells\n",
       "var notebookContainer = gd.closest('#notebook-container');\n",
       "if (notebookContainer) {{\n",
       "    x.observe(notebookContainer, {childList: true});\n",
       "}}\n",
       "\n",
       "// Listen for the clearing of the current output cell\n",
       "var outputEl = gd.closest('.output');\n",
       "if (outputEl) {{\n",
       "    x.observe(outputEl, {childList: true});\n",
       "}}\n",
       "\n",
       "                        })                };                });            </script>        </div>"
      ]
     },
     "metadata": {},
     "output_type": "display_data"
    }
   ],
   "source": [
    "fig= px.scatter(top_engagement, x=\"Total Data Volume (Bytes)\", y= 'Dur. (ms)',\n",
    "                 color='cluster', size='xDR Sessions')\n",
    "fig.show()"
   ]
  },
  {
   "cell_type": "markdown",
   "metadata": {},
   "source": [
    "## computing the min , max mean for each cluster"
   ]
  },
  {
   "cell_type": "code",
   "execution_count": 36,
   "metadata": {},
   "outputs": [
    {
     "data": {
      "text/html": [
       "<div>\n",
       "<style scoped>\n",
       "    .dataframe tbody tr th:only-of-type {\n",
       "        vertical-align: middle;\n",
       "    }\n",
       "\n",
       "    .dataframe tbody tr th {\n",
       "        vertical-align: top;\n",
       "    }\n",
       "\n",
       "    .dataframe thead th {\n",
       "        text-align: right;\n",
       "    }\n",
       "</style>\n",
       "<table border=\"1\" class=\"dataframe\">\n",
       "  <thead>\n",
       "    <tr style=\"text-align: right;\">\n",
       "      <th></th>\n",
       "      <th>cluster</th>\n",
       "      <th>xDR Sessions</th>\n",
       "      <th>Dur. (ms)</th>\n",
       "      <th>Total Data Volume (Bytes)</th>\n",
       "    </tr>\n",
       "  </thead>\n",
       "  <tbody>\n",
       "    <tr>\n",
       "      <th>count</th>\n",
       "      <td>4.00</td>\n",
       "      <td>4.00</td>\n",
       "      <td>4.00</td>\n",
       "      <td>4.00</td>\n",
       "    </tr>\n",
       "    <tr>\n",
       "      <th>mean</th>\n",
       "      <td>0.00</td>\n",
       "      <td>16.75</td>\n",
       "      <td>10876241.38</td>\n",
       "      <td>8457947110.00</td>\n",
       "    </tr>\n",
       "    <tr>\n",
       "      <th>std</th>\n",
       "      <td>0.00</td>\n",
       "      <td>1.26</td>\n",
       "      <td>3098033.55</td>\n",
       "      <td>361792520.00</td>\n",
       "    </tr>\n",
       "    <tr>\n",
       "      <th>min</th>\n",
       "      <td>0.00</td>\n",
       "      <td>15.00</td>\n",
       "      <td>8791927.00</td>\n",
       "      <td>7971167261.00</td>\n",
       "    </tr>\n",
       "    <tr>\n",
       "      <th>25%</th>\n",
       "      <td>0.00</td>\n",
       "      <td>16.50</td>\n",
       "      <td>9157557.25</td>\n",
       "      <td>8367507356.75</td>\n",
       "    </tr>\n",
       "    <tr>\n",
       "      <th>50%</th>\n",
       "      <td>0.00</td>\n",
       "      <td>17.00</td>\n",
       "      <td>9623166.00</td>\n",
       "      <td>8507197342.50</td>\n",
       "    </tr>\n",
       "    <tr>\n",
       "      <th>75%</th>\n",
       "      <td>0.00</td>\n",
       "      <td>17.25</td>\n",
       "      <td>11341850.12</td>\n",
       "      <td>8597637095.75</td>\n",
       "    </tr>\n",
       "    <tr>\n",
       "      <th>max</th>\n",
       "      <td>0.00</td>\n",
       "      <td>18.00</td>\n",
       "      <td>15466706.50</td>\n",
       "      <td>8846226494.00</td>\n",
       "    </tr>\n",
       "  </tbody>\n",
       "</table>\n",
       "</div>"
      ],
      "text/plain": [
       "       cluster  xDR Sessions   Dur. (ms)  Total Data Volume (Bytes)\n",
       "count     4.00          4.00        4.00                       4.00\n",
       "mean      0.00         16.75 10876241.38              8457947110.00\n",
       "std       0.00          1.26  3098033.55               361792520.00\n",
       "min       0.00         15.00  8791927.00              7971167261.00\n",
       "25%       0.00         16.50  9157557.25              8367507356.75\n",
       "50%       0.00         17.00  9623166.00              8507197342.50\n",
       "75%       0.00         17.25 11341850.12              8597637095.75\n",
       "max       0.00         18.00 15466706.50              8846226494.00"
      ]
     },
     "execution_count": 36,
     "metadata": {},
     "output_type": "execute_result"
    }
   ],
   "source": [
    "cluster0 = top_engagement[top_engagement[\"cluster\"]==0]\n",
    "cluster0[['cluster','xDR Sessions', 'Dur. (ms)', 'Total Data Volume (Bytes)']].describe()"
   ]
  },
  {
   "cell_type": "code",
   "execution_count": 37,
   "metadata": {},
   "outputs": [
    {
     "data": {
      "text/html": [
       "<div>\n",
       "<style scoped>\n",
       "    .dataframe tbody tr th:only-of-type {\n",
       "        vertical-align: middle;\n",
       "    }\n",
       "\n",
       "    .dataframe tbody tr th {\n",
       "        vertical-align: top;\n",
       "    }\n",
       "\n",
       "    .dataframe thead th {\n",
       "        text-align: right;\n",
       "    }\n",
       "</style>\n",
       "<table border=\"1\" class=\"dataframe\">\n",
       "  <thead>\n",
       "    <tr style=\"text-align: right;\">\n",
       "      <th></th>\n",
       "      <th>cluster</th>\n",
       "      <th>xDR Sessions</th>\n",
       "      <th>Dur. (ms)</th>\n",
       "      <th>Total Data Volume (Bytes)</th>\n",
       "    </tr>\n",
       "  </thead>\n",
       "  <tbody>\n",
       "    <tr>\n",
       "      <th>count</th>\n",
       "      <td>4.00</td>\n",
       "      <td>4.00</td>\n",
       "      <td>4.00</td>\n",
       "      <td>4.00</td>\n",
       "    </tr>\n",
       "    <tr>\n",
       "      <th>mean</th>\n",
       "      <td>1.00</td>\n",
       "      <td>12.25</td>\n",
       "      <td>6236045.25</td>\n",
       "      <td>5459293812.25</td>\n",
       "    </tr>\n",
       "    <tr>\n",
       "      <th>std</th>\n",
       "      <td>0.00</td>\n",
       "      <td>0.50</td>\n",
       "      <td>1798391.91</td>\n",
       "      <td>339998095.36</td>\n",
       "    </tr>\n",
       "    <tr>\n",
       "      <th>min</th>\n",
       "      <td>1.00</td>\n",
       "      <td>12.00</td>\n",
       "      <td>4703516.00</td>\n",
       "      <td>4976195043.00</td>\n",
       "    </tr>\n",
       "    <tr>\n",
       "      <th>25%</th>\n",
       "      <td>1.00</td>\n",
       "      <td>12.00</td>\n",
       "      <td>5081871.50</td>\n",
       "      <td>5359940230.50</td>\n",
       "    </tr>\n",
       "    <tr>\n",
       "      <th>50%</th>\n",
       "      <td>1.00</td>\n",
       "      <td>12.00</td>\n",
       "      <td>5747875.50</td>\n",
       "      <td>5553124673.50</td>\n",
       "    </tr>\n",
       "    <tr>\n",
       "      <th>75%</th>\n",
       "      <td>1.00</td>\n",
       "      <td>12.25</td>\n",
       "      <td>6902049.25</td>\n",
       "      <td>5652478255.25</td>\n",
       "    </tr>\n",
       "    <tr>\n",
       "      <th>max</th>\n",
       "      <td>1.00</td>\n",
       "      <td>13.00</td>\n",
       "      <td>8744914.00</td>\n",
       "      <td>5754730859.00</td>\n",
       "    </tr>\n",
       "  </tbody>\n",
       "</table>\n",
       "</div>"
      ],
      "text/plain": [
       "       cluster  xDR Sessions  Dur. (ms)  Total Data Volume (Bytes)\n",
       "count     4.00          4.00       4.00                       4.00\n",
       "mean      1.00         12.25 6236045.25              5459293812.25\n",
       "std       0.00          0.50 1798391.91               339998095.36\n",
       "min       1.00         12.00 4703516.00              4976195043.00\n",
       "25%       1.00         12.00 5081871.50              5359940230.50\n",
       "50%       1.00         12.00 5747875.50              5553124673.50\n",
       "75%       1.00         12.25 6902049.25              5652478255.25\n",
       "max       1.00         13.00 8744914.00              5754730859.00"
      ]
     },
     "execution_count": 37,
     "metadata": {},
     "output_type": "execute_result"
    }
   ],
   "source": [
    "cluster0 = top_engagement[top_engagement[\"cluster\"]==1]\n",
    "cluster0[['cluster','xDR Sessions', 'Dur. (ms)', 'Total Data Volume (Bytes)']].describe()"
   ]
  },
  {
   "cell_type": "markdown",
   "metadata": {
    "scrolled": true
   },
   "source": [
    "### Aggregate user total traffic per application and derive the top 10 most engaged users per application\n"
   ]
  },
  {
   "cell_type": "code",
   "execution_count": 49,
   "metadata": {},
   "outputs": [
    {
     "data": {
      "text/html": [
       "<div>\n",
       "<style scoped>\n",
       "    .dataframe tbody tr th:only-of-type {\n",
       "        vertical-align: middle;\n",
       "    }\n",
       "\n",
       "    .dataframe tbody tr th {\n",
       "        vertical-align: top;\n",
       "    }\n",
       "\n",
       "    .dataframe thead th {\n",
       "        text-align: right;\n",
       "    }\n",
       "</style>\n",
       "<table border=\"1\" class=\"dataframe\">\n",
       "  <thead>\n",
       "    <tr style=\"text-align: right;\">\n",
       "      <th></th>\n",
       "      <th>Bearer Id</th>\n",
       "      <th>Start</th>\n",
       "      <th>Start ms</th>\n",
       "      <th>End</th>\n",
       "      <th>End ms</th>\n",
       "      <th>Dur. (ms)</th>\n",
       "      <th>IMSI</th>\n",
       "      <th>MSISDN/Number</th>\n",
       "      <th>IMEI</th>\n",
       "      <th>Last Location Name</th>\n",
       "      <th>Avg RTT DL (ms)</th>\n",
       "      <th>Avg RTT UL (ms)</th>\n",
       "      <th>Avg Bearer TP DL (kbps)</th>\n",
       "      <th>Avg Bearer TP UL (kbps)</th>\n",
       "      <th>TCP DL Retrans. Vol (Bytes)</th>\n",
       "      <th>TCP UL Retrans. Vol (Bytes)</th>\n",
       "      <th>DL TP &lt; 50 Kbps (%)</th>\n",
       "      <th>50 Kbps &lt; DL TP &lt; 250 Kbps (%)</th>\n",
       "      <th>250 Kbps &lt; DL TP &lt; 1 Mbps (%)</th>\n",
       "      <th>DL TP &gt; 1 Mbps (%)</th>\n",
       "      <th>UL TP &lt; 10 Kbps (%)</th>\n",
       "      <th>10 Kbps &lt; UL TP &lt; 50 Kbps (%)</th>\n",
       "      <th>50 Kbps &lt; UL TP &lt; 300 Kbps (%)</th>\n",
       "      <th>UL TP &gt; 300 Kbps (%)</th>\n",
       "      <th>Activity Duration DL (ms)</th>\n",
       "      <th>Activity Duration UL (ms)</th>\n",
       "      <th>Dur. (ms).1</th>\n",
       "      <th>Handset Manufacturer</th>\n",
       "      <th>Handset Type</th>\n",
       "      <th>Nb of sec with Vol DL &lt; 6250B</th>\n",
       "      <th>Nb of sec with Vol UL &lt; 1250B</th>\n",
       "      <th>Social Media DL (Bytes)</th>\n",
       "      <th>Social Media UL (Bytes)</th>\n",
       "      <th>Google DL (Bytes)</th>\n",
       "      <th>Google UL (Bytes)</th>\n",
       "      <th>Email DL (Bytes)</th>\n",
       "      <th>Email UL (Bytes)</th>\n",
       "      <th>Youtube DL (Bytes)</th>\n",
       "      <th>Youtube UL (Bytes)</th>\n",
       "      <th>Netflix DL (Bytes)</th>\n",
       "      <th>Netflix UL (Bytes)</th>\n",
       "      <th>Gaming DL (Bytes)</th>\n",
       "      <th>Gaming UL (Bytes)</th>\n",
       "      <th>Other DL (Bytes)</th>\n",
       "      <th>Other UL (Bytes)</th>\n",
       "      <th>Total UL (Bytes)</th>\n",
       "      <th>Total DL (Bytes)</th>\n",
       "      <th>Social Media Data Volume (Bytes)</th>\n",
       "      <th>Google Data Volume (Bytes)</th>\n",
       "      <th>Email Data Volume (Bytes)</th>\n",
       "      <th>Youtube Data Volume (Bytes)</th>\n",
       "      <th>Netflix Data Volume (Bytes)</th>\n",
       "      <th>Gaming Data Volume (Bytes)</th>\n",
       "      <th>Other Data Volume (Bytes)</th>\n",
       "      <th>Total Data Volume (Bytes)</th>\n",
       "    </tr>\n",
       "  </thead>\n",
       "  <tbody>\n",
       "    <tr>\n",
       "      <th>0</th>\n",
       "      <td>13114483460844900352.00</td>\n",
       "      <td>2019-04-04 12:01:00</td>\n",
       "      <td>770.00</td>\n",
       "      <td>2019-04-25 14:35:00</td>\n",
       "      <td>662.00</td>\n",
       "      <td>1823652.00</td>\n",
       "      <td>208201448079117.00</td>\n",
       "      <td>33664962239.00</td>\n",
       "      <td>35521209507511.00</td>\n",
       "      <td>9.16456699548519E+015</td>\n",
       "      <td>42.00</td>\n",
       "      <td>5.00</td>\n",
       "      <td>23.00</td>\n",
       "      <td>44.00</td>\n",
       "      <td>19520.00</td>\n",
       "      <td>7230.00</td>\n",
       "      <td>100.00</td>\n",
       "      <td>0.00</td>\n",
       "      <td>0.00</td>\n",
       "      <td>0.00</td>\n",
       "      <td>100.00</td>\n",
       "      <td>0.00</td>\n",
       "      <td>0.00</td>\n",
       "      <td>0.00</td>\n",
       "      <td>37624.00</td>\n",
       "      <td>38787.00</td>\n",
       "      <td>1823652892.00</td>\n",
       "      <td>Samsung</td>\n",
       "      <td>Samsung Galaxy A5 Sm-A520F</td>\n",
       "      <td>213.00</td>\n",
       "      <td>214.00</td>\n",
       "      <td>1545765.00</td>\n",
       "      <td>24420.00</td>\n",
       "      <td>1634479.00</td>\n",
       "      <td>1271433.00</td>\n",
       "      <td>3563542.00</td>\n",
       "      <td>137762.00</td>\n",
       "      <td>15854611.00</td>\n",
       "      <td>2501332.00</td>\n",
       "      <td>8198936.00</td>\n",
       "      <td>9656251.00</td>\n",
       "      <td>278082303.00</td>\n",
       "      <td>14344150.00</td>\n",
       "      <td>171744450.00</td>\n",
       "      <td>8814393.00</td>\n",
       "      <td>36749741.00</td>\n",
       "      <td>308879636.00</td>\n",
       "      <td>1570185.00</td>\n",
       "      <td>2905912.00</td>\n",
       "      <td>3701304.00</td>\n",
       "      <td>18355943.00</td>\n",
       "      <td>17855187.00</td>\n",
       "      <td>292426453.00</td>\n",
       "      <td>180558843.00</td>\n",
       "      <td>345629377.00</td>\n",
       "    </tr>\n",
       "    <tr>\n",
       "      <th>1</th>\n",
       "      <td>13114483482878900224.00</td>\n",
       "      <td>2019-04-09 13:04:00</td>\n",
       "      <td>235.00</td>\n",
       "      <td>2019-04-25 08:15:00</td>\n",
       "      <td>606.00</td>\n",
       "      <td>1365104.00</td>\n",
       "      <td>208201909211140.00</td>\n",
       "      <td>33681854413.00</td>\n",
       "      <td>35794009006359.00</td>\n",
       "      <td>L77566A</td>\n",
       "      <td>65.00</td>\n",
       "      <td>5.00</td>\n",
       "      <td>16.00</td>\n",
       "      <td>26.00</td>\n",
       "      <td>19520.00</td>\n",
       "      <td>7230.00</td>\n",
       "      <td>100.00</td>\n",
       "      <td>0.00</td>\n",
       "      <td>0.00</td>\n",
       "      <td>0.00</td>\n",
       "      <td>100.00</td>\n",
       "      <td>0.00</td>\n",
       "      <td>0.00</td>\n",
       "      <td>0.00</td>\n",
       "      <td>168.00</td>\n",
       "      <td>3560.00</td>\n",
       "      <td>1365104371.00</td>\n",
       "      <td>Samsung</td>\n",
       "      <td>Samsung Galaxy J5 (Sm-J530)</td>\n",
       "      <td>971.00</td>\n",
       "      <td>1022.00</td>\n",
       "      <td>1926113.00</td>\n",
       "      <td>7165.00</td>\n",
       "      <td>3493924.00</td>\n",
       "      <td>920172.00</td>\n",
       "      <td>629046.00</td>\n",
       "      <td>308339.00</td>\n",
       "      <td>20247395.00</td>\n",
       "      <td>19111729.00</td>\n",
       "      <td>18338413.00</td>\n",
       "      <td>17227132.00</td>\n",
       "      <td>608750074.00</td>\n",
       "      <td>1170709.00</td>\n",
       "      <td>526904238.00</td>\n",
       "      <td>15055145.00</td>\n",
       "      <td>53800391.00</td>\n",
       "      <td>653384965.00</td>\n",
       "      <td>1933278.00</td>\n",
       "      <td>4414096.00</td>\n",
       "      <td>937385.00</td>\n",
       "      <td>39359124.00</td>\n",
       "      <td>35565545.00</td>\n",
       "      <td>609920783.00</td>\n",
       "      <td>541959383.00</td>\n",
       "      <td>707185356.00</td>\n",
       "    </tr>\n",
       "  </tbody>\n",
       "</table>\n",
       "</div>"
      ],
      "text/plain": [
       "                Bearer Id                Start  Start ms                  End  End ms  Dur. (ms)               IMSI  MSISDN/Number              IMEI     Last Location Name  Avg RTT DL (ms)  Avg RTT UL (ms)  Avg Bearer TP DL (kbps)  Avg Bearer TP UL (kbps)  TCP DL Retrans. Vol (Bytes)  TCP UL Retrans. Vol (Bytes)  DL TP < 50 Kbps (%)  50 Kbps < DL TP < 250 Kbps (%)  250 Kbps < DL TP < 1 Mbps (%)  DL TP > 1 Mbps (%)  UL TP < 10 Kbps (%)  10 Kbps < UL TP < 50 Kbps (%)  50 Kbps < UL TP < 300 Kbps (%)  UL TP > 300 Kbps (%)  Activity Duration DL (ms)  Activity Duration UL (ms)   Dur. (ms).1 Handset Manufacturer                 Handset Type  Nb of sec with Vol DL < 6250B  Nb of sec with Vol UL < 1250B  Social Media DL (Bytes)  Social Media UL (Bytes)  Google DL (Bytes)  Google UL (Bytes)  Email DL (Bytes)  Email UL (Bytes)  Youtube DL (Bytes)  Youtube UL (Bytes)  Netflix DL (Bytes)  Netflix UL (Bytes)  Gaming DL (Bytes)  Gaming UL (Bytes)  Other DL (Bytes)  Other UL (Bytes)  Total UL (Bytes)  Total DL (Bytes)  Social Media Data Volume (Bytes)  Google Data Volume (Bytes)  Email Data Volume (Bytes)  Youtube Data Volume (Bytes)  Netflix Data Volume (Bytes)  Gaming Data Volume (Bytes)  Other Data Volume (Bytes)  Total Data Volume (Bytes)\n",
       "0 13114483460844900352.00  2019-04-04 12:01:00    770.00  2019-04-25 14:35:00  662.00 1823652.00 208201448079117.00 33664962239.00 35521209507511.00  9.16456699548519E+015            42.00             5.00                    23.00                    44.00                     19520.00                      7230.00               100.00                            0.00                           0.00                0.00               100.00                           0.00                            0.00                  0.00                   37624.00                   38787.00 1823652892.00              Samsung   Samsung Galaxy A5 Sm-A520F                         213.00                         214.00               1545765.00                 24420.00         1634479.00         1271433.00        3563542.00         137762.00         15854611.00          2501332.00          8198936.00          9656251.00       278082303.00        14344150.00      171744450.00        8814393.00       36749741.00      308879636.00                        1570185.00                  2905912.00                 3701304.00                  18355943.00                  17855187.00                292426453.00               180558843.00               345629377.00\n",
       "1 13114483482878900224.00  2019-04-09 13:04:00    235.00  2019-04-25 08:15:00  606.00 1365104.00 208201909211140.00 33681854413.00 35794009006359.00                L77566A            65.00             5.00                    16.00                    26.00                     19520.00                      7230.00               100.00                            0.00                           0.00                0.00               100.00                           0.00                            0.00                  0.00                     168.00                    3560.00 1365104371.00              Samsung  Samsung Galaxy J5 (Sm-J530)                         971.00                        1022.00               1926113.00                  7165.00         3493924.00          920172.00         629046.00         308339.00         20247395.00         19111729.00         18338413.00         17227132.00       608750074.00         1170709.00      526904238.00       15055145.00       53800391.00      653384965.00                        1933278.00                  4414096.00                  937385.00                  39359124.00                  35565545.00                609920783.00               541959383.00               707185356.00"
      ]
     },
     "execution_count": 49,
     "metadata": {},
     "output_type": "execute_result"
    }
   ],
   "source": [
    "df.head(2)"
   ]
  },
  {
   "cell_type": "code",
   "execution_count": 55,
   "metadata": {},
   "outputs": [
    {
     "data": {
      "text/html": [
       "<div>\n",
       "<style scoped>\n",
       "    .dataframe tbody tr th:only-of-type {\n",
       "        vertical-align: middle;\n",
       "    }\n",
       "\n",
       "    .dataframe tbody tr th {\n",
       "        vertical-align: top;\n",
       "    }\n",
       "\n",
       "    .dataframe thead th {\n",
       "        text-align: right;\n",
       "    }\n",
       "</style>\n",
       "<table border=\"1\" class=\"dataframe\">\n",
       "  <thead>\n",
       "    <tr style=\"text-align: right;\">\n",
       "      <th></th>\n",
       "      <th>Social Media Data Volume (Bytes)</th>\n",
       "      <th>Google Data Volume (Bytes)</th>\n",
       "      <th>Email Data Volume (Bytes)</th>\n",
       "      <th>Youtube Data Volume (Bytes)</th>\n",
       "      <th>Netflix Data Volume (Bytes)</th>\n",
       "      <th>Gaming Data Volume (Bytes)</th>\n",
       "      <th>Other Data Volume (Bytes)</th>\n",
       "      <th>Total Data Volume (Bytes)</th>\n",
       "    </tr>\n",
       "    <tr>\n",
       "      <th>MSISDN/Number</th>\n",
       "      <th></th>\n",
       "      <th></th>\n",
       "      <th></th>\n",
       "      <th></th>\n",
       "      <th></th>\n",
       "      <th></th>\n",
       "      <th></th>\n",
       "      <th></th>\n",
       "    </tr>\n",
       "  </thead>\n",
       "  <tbody>\n",
       "    <tr>\n",
       "      <th>33614892860.00</th>\n",
       "      <td>28294544.00</td>\n",
       "      <td>127973787.00</td>\n",
       "      <td>40788634.00</td>\n",
       "      <td>394370218.00</td>\n",
       "      <td>361401046.00</td>\n",
       "      <td>7749432234.00</td>\n",
       "      <td>7639263572.00</td>\n",
       "      <td>8846226494.00</td>\n",
       "    </tr>\n",
       "    <tr>\n",
       "      <th>33760536639.00</th>\n",
       "      <td>39783189.00</td>\n",
       "      <td>123223099.00</td>\n",
       "      <td>33693767.00</td>\n",
       "      <td>396289198.00</td>\n",
       "      <td>334643269.00</td>\n",
       "      <td>7461045228.00</td>\n",
       "      <td>4716134493.00</td>\n",
       "      <td>8514773963.00</td>\n",
       "    </tr>\n",
       "    <tr>\n",
       "      <th>33625779332.00</th>\n",
       "      <td>27135500.00</td>\n",
       "      <td>142307915.00</td>\n",
       "      <td>40633966.00</td>\n",
       "      <td>452958769.00</td>\n",
       "      <td>356980607.00</td>\n",
       "      <td>7326673487.00</td>\n",
       "      <td>6354583086.00</td>\n",
       "      <td>8499620722.00</td>\n",
       "    </tr>\n",
       "    <tr>\n",
       "      <th>33626320676.00</th>\n",
       "      <td>43374779.00</td>\n",
       "      <td>152191852.00</td>\n",
       "      <td>42418782.00</td>\n",
       "      <td>374483047.00</td>\n",
       "      <td>328725740.00</td>\n",
       "      <td>6887572116.00</td>\n",
       "      <td>8167877776.00</td>\n",
       "      <td>7971167261.00</td>\n",
       "    </tr>\n",
       "    <tr>\n",
       "      <th>33675877202.00</th>\n",
       "      <td>19222921.00</td>\n",
       "      <td>109860502.00</td>\n",
       "      <td>31514421.00</td>\n",
       "      <td>317410572.00</td>\n",
       "      <td>309093159.00</td>\n",
       "      <td>6970567597.00</td>\n",
       "      <td>6798515150.00</td>\n",
       "      <td>7891110608.00</td>\n",
       "    </tr>\n",
       "    <tr>\n",
       "      <th>33659725664.00</th>\n",
       "      <td>35412358.00</td>\n",
       "      <td>116516345.00</td>\n",
       "      <td>35999792.00</td>\n",
       "      <td>257991088.00</td>\n",
       "      <td>399519079.00</td>\n",
       "      <td>6725559211.00</td>\n",
       "      <td>6317415487.00</td>\n",
       "      <td>7705862783.00</td>\n",
       "    </tr>\n",
       "    <tr>\n",
       "      <th>33666464084.00</th>\n",
       "      <td>18629986.00</td>\n",
       "      <td>89320737.00</td>\n",
       "      <td>25557139.00</td>\n",
       "      <td>227336012.00</td>\n",
       "      <td>214416926.00</td>\n",
       "      <td>6646303338.00</td>\n",
       "      <td>4349141478.00</td>\n",
       "      <td>7308500938.00</td>\n",
       "    </tr>\n",
       "    <tr>\n",
       "      <th>33760413819.00</th>\n",
       "      <td>20777205.00</td>\n",
       "      <td>82738720.00</td>\n",
       "      <td>25576965.00</td>\n",
       "      <td>303169107.00</td>\n",
       "      <td>318347546.00</td>\n",
       "      <td>6268619592.00</td>\n",
       "      <td>4101645436.00</td>\n",
       "      <td>7132370514.00</td>\n",
       "    </tr>\n",
       "    <tr>\n",
       "      <th>33664712899.00</th>\n",
       "      <td>19390599.00</td>\n",
       "      <td>90389372.00</td>\n",
       "      <td>21426007.00</td>\n",
       "      <td>276834013.00</td>\n",
       "      <td>251798809.00</td>\n",
       "      <td>6103856008.00</td>\n",
       "      <td>3976960308.00</td>\n",
       "      <td>6872018208.00</td>\n",
       "    </tr>\n",
       "    <tr>\n",
       "      <th>33698792269.00</th>\n",
       "      <td>15728161.00</td>\n",
       "      <td>79736125.00</td>\n",
       "      <td>29059042.00</td>\n",
       "      <td>302661958.00</td>\n",
       "      <td>268247480.00</td>\n",
       "      <td>5753743069.00</td>\n",
       "      <td>4689876286.00</td>\n",
       "      <td>6540899126.00</td>\n",
       "    </tr>\n",
       "  </tbody>\n",
       "</table>\n",
       "</div>"
      ],
      "text/plain": [
       "                Social Media Data Volume (Bytes)  Google Data Volume (Bytes)  Email Data Volume (Bytes)  Youtube Data Volume (Bytes)  Netflix Data Volume (Bytes)  Gaming Data Volume (Bytes)  Other Data Volume (Bytes)  Total Data Volume (Bytes)\n",
       "MSISDN/Number                                                                                                                                                                                                                                      \n",
       "33614892860.00                       28294544.00                127973787.00                40788634.00                 394370218.00                 361401046.00               7749432234.00              7639263572.00              8846226494.00\n",
       "33760536639.00                       39783189.00                123223099.00                33693767.00                 396289198.00                 334643269.00               7461045228.00              4716134493.00              8514773963.00\n",
       "33625779332.00                       27135500.00                142307915.00                40633966.00                 452958769.00                 356980607.00               7326673487.00              6354583086.00              8499620722.00\n",
       "33626320676.00                       43374779.00                152191852.00                42418782.00                 374483047.00                 328725740.00               6887572116.00              8167877776.00              7971167261.00\n",
       "33675877202.00                       19222921.00                109860502.00                31514421.00                 317410572.00                 309093159.00               6970567597.00              6798515150.00              7891110608.00\n",
       "33659725664.00                       35412358.00                116516345.00                35999792.00                 257991088.00                 399519079.00               6725559211.00              6317415487.00              7705862783.00\n",
       "33666464084.00                       18629986.00                 89320737.00                25557139.00                 227336012.00                 214416926.00               6646303338.00              4349141478.00              7308500938.00\n",
       "33760413819.00                       20777205.00                 82738720.00                25576965.00                 303169107.00                 318347546.00               6268619592.00              4101645436.00              7132370514.00\n",
       "33664712899.00                       19390599.00                 90389372.00                21426007.00                 276834013.00                 251798809.00               6103856008.00              3976960308.00              6872018208.00\n",
       "33698792269.00                       15728161.00                 79736125.00                29059042.00                 302661958.00                 268247480.00               5753743069.00              4689876286.00              6540899126.00"
      ]
     },
     "execution_count": 55,
     "metadata": {},
     "output_type": "execute_result"
    }
   ],
   "source": [
    "application_df = df.groupby(\n",
    "    'MSISDN/Number').agg({'Social Media Data Volume (Bytes)':'sum','Google Data Volume (Bytes)':'sum','Email Data Volume (Bytes)': 'sum','Youtube Data Volume (Bytes)':'sum','Netflix Data Volume (Bytes)':'sum','Gaming Data Volume (Bytes)':'sum',\n",
    "                          'Other Data Volume (Bytes)':'sum','Total Data Volume (Bytes)':'sum'})\n",
    "application_df.nlargest(10,'Total Data Volume (Bytes)')\n",
    "\n"
   ]
  },
  {
   "cell_type": "code",
   "execution_count": 42,
   "metadata": {},
   "outputs": [
    {
     "ename": "KeyError",
     "evalue": "\"Columns not found: 'Social Media Data Volume (Bytes)', 'Other Data Volume (Bytes)'\"",
     "output_type": "error",
     "traceback": [
      "\u001b[1;31m---------------------------------------------------------------------------\u001b[0m",
      "\u001b[1;31mKeyError\u001b[0m                                  Traceback (most recent call last)",
      "\u001b[1;32m<ipython-input-42-f056aa8cea49>\u001b[0m in \u001b[0;36m<module>\u001b[1;34m\u001b[0m\n\u001b[1;32m----> 1\u001b[1;33m \u001b[0msumApplicationsDF\u001b[0m\u001b[1;33m=\u001b[0m\u001b[0mtop_engagement\u001b[0m\u001b[1;33m.\u001b[0m\u001b[0mgroupby\u001b[0m\u001b[1;33m(\u001b[0m\u001b[1;34m'MSISDN/Number'\u001b[0m\u001b[1;33m)\u001b[0m\u001b[1;33m[\u001b[0m\u001b[1;33m[\u001b[0m\u001b[1;34m'Social Media Data Volume (Bytes)'\u001b[0m\u001b[1;33m,\u001b[0m\u001b[1;34m'Other Data Volume (Bytes)'\u001b[0m\u001b[1;33m]\u001b[0m\u001b[1;33m]\u001b[0m\u001b[1;33m.\u001b[0m\u001b[0msum\u001b[0m\u001b[1;33m(\u001b[0m\u001b[1;33m)\u001b[0m\u001b[1;33m\u001b[0m\u001b[1;33m\u001b[0m\u001b[0m\n\u001b[0m\u001b[0;32m      2\u001b[0m \u001b[0mlargestApps\u001b[0m\u001b[1;33m=\u001b[0m\u001b[0msumApplicationsDF\u001b[0m\u001b[1;33m[\u001b[0m\u001b[1;33m[\u001b[0m\u001b[1;34m'google'\u001b[0m\u001b[1;33m,\u001b[0m\u001b[1;34m'youtube'\u001b[0m\u001b[1;33m,\u001b[0m\u001b[1;34m'netflix'\u001b[0m\u001b[1;33m,\u001b[0m\u001b[1;34m'social'\u001b[0m\u001b[1;33m,\u001b[0m\u001b[1;34m'email'\u001b[0m\u001b[1;33m,\u001b[0m\u001b[1;34m'gaming'\u001b[0m\u001b[1;33m]\u001b[0m\u001b[1;33m]\u001b[0m\u001b[1;33m.\u001b[0m\u001b[0msum\u001b[0m\u001b[1;33m(\u001b[0m\u001b[1;33m)\u001b[0m\u001b[1;33m.\u001b[0m\u001b[0mnlargest\u001b[0m\u001b[1;33m(\u001b[0m\u001b[1;36m3\u001b[0m\u001b[1;33m)\u001b[0m\u001b[1;33m\u001b[0m\u001b[1;33m\u001b[0m\u001b[0m\n\u001b[0;32m      3\u001b[0m \u001b[0max\u001b[0m\u001b[1;33m=\u001b[0m\u001b[0msns\u001b[0m\u001b[1;33m.\u001b[0m\u001b[0mbarplot\u001b[0m\u001b[1;33m(\u001b[0m\u001b[0mlargestApps\u001b[0m\u001b[1;33m.\u001b[0m\u001b[0mindex\u001b[0m\u001b[1;33m,\u001b[0m \u001b[0mlargestApps\u001b[0m\u001b[1;33m.\u001b[0m\u001b[0mvalues\u001b[0m\u001b[1;33m)\u001b[0m\u001b[1;33m\u001b[0m\u001b[1;33m\u001b[0m\u001b[0m\n\u001b[0;32m      4\u001b[0m \u001b[0max\u001b[0m\u001b[1;33m.\u001b[0m\u001b[0mset_xlabel\u001b[0m\u001b[1;33m(\u001b[0m\u001b[1;34m'Applications'\u001b[0m\u001b[1;33m,\u001b[0m \u001b[0mfontsize\u001b[0m\u001b[1;33m=\u001b[0m\u001b[1;36m15\u001b[0m\u001b[1;33m)\u001b[0m\u001b[1;33m\u001b[0m\u001b[1;33m\u001b[0m\u001b[0m\n\u001b[0;32m      5\u001b[0m \u001b[0max\u001b[0m\u001b[1;33m.\u001b[0m\u001b[0mset_ylabel\u001b[0m\u001b[1;33m(\u001b[0m\u001b[1;34m'Total Data'\u001b[0m \u001b[1;33m,\u001b[0m \u001b[0mfontsize\u001b[0m\u001b[1;33m=\u001b[0m\u001b[1;36m15\u001b[0m\u001b[1;33m)\u001b[0m\u001b[1;33m\u001b[0m\u001b[1;33m\u001b[0m\u001b[0m\n",
      "\u001b[1;32m~\\Anaconda3\\lib\\site-packages\\pandas\\core\\groupby\\generic.py\u001b[0m in \u001b[0;36m__getitem__\u001b[1;34m(self, key)\u001b[0m\n\u001b[0;32m   1536\u001b[0m                 \u001b[0mstacklevel\u001b[0m\u001b[1;33m=\u001b[0m\u001b[1;36m2\u001b[0m\u001b[1;33m,\u001b[0m\u001b[1;33m\u001b[0m\u001b[1;33m\u001b[0m\u001b[0m\n\u001b[0;32m   1537\u001b[0m             )\n\u001b[1;32m-> 1538\u001b[1;33m         \u001b[1;32mreturn\u001b[0m \u001b[0msuper\u001b[0m\u001b[1;33m(\u001b[0m\u001b[1;33m)\u001b[0m\u001b[1;33m.\u001b[0m\u001b[0m__getitem__\u001b[0m\u001b[1;33m(\u001b[0m\u001b[0mkey\u001b[0m\u001b[1;33m)\u001b[0m\u001b[1;33m\u001b[0m\u001b[1;33m\u001b[0m\u001b[0m\n\u001b[0m\u001b[0;32m   1539\u001b[0m \u001b[1;33m\u001b[0m\u001b[0m\n\u001b[0;32m   1540\u001b[0m     \u001b[1;32mdef\u001b[0m \u001b[0m_gotitem\u001b[0m\u001b[1;33m(\u001b[0m\u001b[0mself\u001b[0m\u001b[1;33m,\u001b[0m \u001b[0mkey\u001b[0m\u001b[1;33m,\u001b[0m \u001b[0mndim\u001b[0m\u001b[1;33m:\u001b[0m \u001b[0mint\u001b[0m\u001b[1;33m,\u001b[0m \u001b[0msubset\u001b[0m\u001b[1;33m=\u001b[0m\u001b[1;32mNone\u001b[0m\u001b[1;33m)\u001b[0m\u001b[1;33m:\u001b[0m\u001b[1;33m\u001b[0m\u001b[1;33m\u001b[0m\u001b[0m\n",
      "\u001b[1;32m~\\Anaconda3\\lib\\site-packages\\pandas\\core\\base.py\u001b[0m in \u001b[0;36m__getitem__\u001b[1;34m(self, key)\u001b[0m\n\u001b[0;32m    220\u001b[0m             \u001b[1;32mif\u001b[0m \u001b[0mlen\u001b[0m\u001b[1;33m(\u001b[0m\u001b[0mself\u001b[0m\u001b[1;33m.\u001b[0m\u001b[0mobj\u001b[0m\u001b[1;33m.\u001b[0m\u001b[0mcolumns\u001b[0m\u001b[1;33m.\u001b[0m\u001b[0mintersection\u001b[0m\u001b[1;33m(\u001b[0m\u001b[0mkey\u001b[0m\u001b[1;33m)\u001b[0m\u001b[1;33m)\u001b[0m \u001b[1;33m!=\u001b[0m \u001b[0mlen\u001b[0m\u001b[1;33m(\u001b[0m\u001b[0mkey\u001b[0m\u001b[1;33m)\u001b[0m\u001b[1;33m:\u001b[0m\u001b[1;33m\u001b[0m\u001b[1;33m\u001b[0m\u001b[0m\n\u001b[0;32m    221\u001b[0m                 \u001b[0mbad_keys\u001b[0m \u001b[1;33m=\u001b[0m \u001b[0mlist\u001b[0m\u001b[1;33m(\u001b[0m\u001b[0mset\u001b[0m\u001b[1;33m(\u001b[0m\u001b[0mkey\u001b[0m\u001b[1;33m)\u001b[0m\u001b[1;33m.\u001b[0m\u001b[0mdifference\u001b[0m\u001b[1;33m(\u001b[0m\u001b[0mself\u001b[0m\u001b[1;33m.\u001b[0m\u001b[0mobj\u001b[0m\u001b[1;33m.\u001b[0m\u001b[0mcolumns\u001b[0m\u001b[1;33m)\u001b[0m\u001b[1;33m)\u001b[0m\u001b[1;33m\u001b[0m\u001b[1;33m\u001b[0m\u001b[0m\n\u001b[1;32m--> 222\u001b[1;33m                 \u001b[1;32mraise\u001b[0m \u001b[0mKeyError\u001b[0m\u001b[1;33m(\u001b[0m\u001b[1;34mf\"Columns not found: {str(bad_keys)[1:-1]}\"\u001b[0m\u001b[1;33m)\u001b[0m\u001b[1;33m\u001b[0m\u001b[1;33m\u001b[0m\u001b[0m\n\u001b[0m\u001b[0;32m    223\u001b[0m             \u001b[1;32mreturn\u001b[0m \u001b[0mself\u001b[0m\u001b[1;33m.\u001b[0m\u001b[0m_gotitem\u001b[0m\u001b[1;33m(\u001b[0m\u001b[0mlist\u001b[0m\u001b[1;33m(\u001b[0m\u001b[0mkey\u001b[0m\u001b[1;33m)\u001b[0m\u001b[1;33m,\u001b[0m \u001b[0mndim\u001b[0m\u001b[1;33m=\u001b[0m\u001b[1;36m2\u001b[0m\u001b[1;33m)\u001b[0m\u001b[1;33m\u001b[0m\u001b[1;33m\u001b[0m\u001b[0m\n\u001b[0;32m    224\u001b[0m \u001b[1;33m\u001b[0m\u001b[0m\n",
      "\u001b[1;31mKeyError\u001b[0m: \"Columns not found: 'Social Media Data Volume (Bytes)', 'Other Data Volume (Bytes)'\""
     ]
    }
   ],
   "source": [
    "# sumApplicationsDF=top_engagement.groupby('MSISDN/Number')[['Social Media Data Volume (Bytes)','Other Data Volume (Bytes)']].sum()\n",
    "# largestApps=sumApplicationsDF[['google','youtube','netflix','social','email','gaming']].sum().nlargest(3)\n",
    "# ax=sns.barplot(largestApps.index, largestApps.values)\n",
    "# ax.set_xlabel('Applications', fontsize=15)\n",
    "# ax.set_ylabel('Total Data' , fontsize=15)\n",
    "# ax.set_title('Top 3 Most Used Applications', fontsize=15, fontweight='bold')"
   ]
  },
  {
   "cell_type": "code",
   "execution_count": null,
   "metadata": {},
   "outputs": [],
   "source": []
  }
 ],
 "metadata": {
  "interpreter": {
   "hash": "f7aa6dac976963117a744809be0dbedf0a83e1681ccc33612e903d2e42bd3fe6"
  },
  "kernelspec": {
   "display_name": "Python 3",
   "language": "python",
   "name": "python3"
  },
  "language_info": {
   "codemirror_mode": {
    "name": "ipython",
    "version": 3
   },
   "file_extension": ".py",
   "mimetype": "text/x-python",
   "name": "python",
   "nbconvert_exporter": "python",
   "pygments_lexer": "ipython3",
   "version": "3.7.4"
  }
 },
 "nbformat": 4,
 "nbformat_minor": 2
}
